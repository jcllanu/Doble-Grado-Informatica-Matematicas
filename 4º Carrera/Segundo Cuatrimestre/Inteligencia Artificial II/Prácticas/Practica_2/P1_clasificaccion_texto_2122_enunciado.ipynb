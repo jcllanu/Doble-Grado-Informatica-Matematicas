{
 "cells": [
  {
   "cell_type": "markdown",
   "metadata": {
    "id": "OUBRwgEu3yu1"
   },
   "source": [
    "# Práctica 2: Procesamiento del Lenguaje Natural\n",
    "\n",
    "__Fecha de entrega: 17 de abril de 2022__\n",
    "\n",
    "El objetivo de esta práctica es aplicar los conceptos teóricos vistos en clase en el módulo de PLN. La práctica consta de 2 notebooks que se entregarán simultáneamente en la tarea de entrega habilitada en el Campus  Virtual.\n",
    "\n",
    "Lo más importante en esta práctica no es el código Python, sino el análisis de los datos y modelos que construyas y las explicaciones razonadas de cada una de las decisiones que tomes. __No se valorarán trozos de código o gráficas sin ningún tipo de contexto o explicación__.\n",
    "\n",
    "Finalmente, recuerda establecer el parámetro `random_state` en todas las funciones que tomen decisiones aleatorias para que los resultados sean reproducibles (los resultados no varíen entre ejecuciones)."
   ]
  },
  {
   "cell_type": "code",
   "execution_count": 1,
   "metadata": {
    "id": "V3YxCTUW3yu9"
   },
   "outputs": [],
   "source": [
    "RANDOM_STATE = 42"
   ]
  },
  {
   "cell_type": "markdown",
   "metadata": {
    "id": "pn_YQLVL3yvA"
   },
   "source": [
    "# Apartado 1: Clasificador de noticias"
   ]
  },
  {
   "cell_type": "markdown",
   "metadata": {
    "id": "de-i8w0s3yvC"
   },
   "source": [
    "__Número de grupo: 2__\n",
    "\n",
    "__Nombres de los estudiantes: Enrique Rey Gisbert, Alberto Almagro Sánchez y Juan Carlos Llamas Núñez__"
   ]
  },
  {
   "cell_type": "markdown",
   "metadata": {
    "id": "yeVD_g2D3yvC"
   },
   "source": [
    "## 1) Carga del conjunto de datos\n",
    "\n",
    "El fichero `BBC News.csv` contiene noticias clasificadas en 5 categorías diferentes. \n",
    "\n",
    "Carga los datos en un dataframe teniendo en cuenta que la columna `ArticleId` es un identificador de la noticia y por lo tanto no debes usarlo para clasificar. \n",
    "\n",
    "Estudia el tamaño del conjunto de datos y la proporción de noticias que pertenecen a cada una de las categorías. Indica si debemos tenerlo en cuenta de alguna forma al analizar los modelos que construyamos.\n",
    "\n",
    "Muestra un mensaje cualquiera y explica si lo habrías clasificado en la clase correcta tras leerlo.\n",
    "\n",
    "Crea una partición de los datos dejando el 80% para entrenamiento y el 20% restante para test usando la función `train_test_split` de sklearn. "
   ]
  },
  {
   "cell_type": "markdown",
   "metadata": {},
   "source": [
    "Empezamos cargando el dataframe con los datos del fichero BBC_News.csv"
   ]
  },
  {
   "cell_type": "code",
   "execution_count": 2,
   "metadata": {
    "id": "0csu2B8N3yvE"
   },
   "outputs": [],
   "source": [
    "import numpy as np\n",
    "import pandas as pd\n",
    "from sklearn.model_selection import train_test_split"
   ]
  },
  {
   "cell_type": "code",
   "execution_count": 3,
   "metadata": {},
   "outputs": [
    {
     "data": {
      "text/html": [
       "<div>\n",
       "<style scoped>\n",
       "    .dataframe tbody tr th:only-of-type {\n",
       "        vertical-align: middle;\n",
       "    }\n",
       "\n",
       "    .dataframe tbody tr th {\n",
       "        vertical-align: top;\n",
       "    }\n",
       "\n",
       "    .dataframe thead th {\n",
       "        text-align: right;\n",
       "    }\n",
       "</style>\n",
       "<table border=\"1\" class=\"dataframe\">\n",
       "  <thead>\n",
       "    <tr style=\"text-align: right;\">\n",
       "      <th></th>\n",
       "      <th>ArticleId</th>\n",
       "      <th>Text</th>\n",
       "      <th>Category</th>\n",
       "    </tr>\n",
       "  </thead>\n",
       "  <tbody>\n",
       "    <tr>\n",
       "      <th>0</th>\n",
       "      <td>1833</td>\n",
       "      <td>worldcom ex-boss launches defence lawyers defe...</td>\n",
       "      <td>business</td>\n",
       "    </tr>\n",
       "    <tr>\n",
       "      <th>1</th>\n",
       "      <td>154</td>\n",
       "      <td>german business confidence slides german busin...</td>\n",
       "      <td>business</td>\n",
       "    </tr>\n",
       "    <tr>\n",
       "      <th>2</th>\n",
       "      <td>1101</td>\n",
       "      <td>bbc poll indicates economic gloom citizens in ...</td>\n",
       "      <td>business</td>\n",
       "    </tr>\n",
       "    <tr>\n",
       "      <th>3</th>\n",
       "      <td>1976</td>\n",
       "      <td>lifestyle  governs mobile choice  faster  bett...</td>\n",
       "      <td>tech</td>\n",
       "    </tr>\n",
       "    <tr>\n",
       "      <th>4</th>\n",
       "      <td>917</td>\n",
       "      <td>enron bosses in $168m payout eighteen former e...</td>\n",
       "      <td>business</td>\n",
       "    </tr>\n",
       "    <tr>\n",
       "      <th>...</th>\n",
       "      <td>...</td>\n",
       "      <td>...</td>\n",
       "      <td>...</td>\n",
       "    </tr>\n",
       "    <tr>\n",
       "      <th>1485</th>\n",
       "      <td>857</td>\n",
       "      <td>double eviction from big brother model caprice...</td>\n",
       "      <td>entertainment</td>\n",
       "    </tr>\n",
       "    <tr>\n",
       "      <th>1486</th>\n",
       "      <td>325</td>\n",
       "      <td>dj double act revamp chart show dj duo jk and ...</td>\n",
       "      <td>entertainment</td>\n",
       "    </tr>\n",
       "    <tr>\n",
       "      <th>1487</th>\n",
       "      <td>1590</td>\n",
       "      <td>weak dollar hits reuters revenues at media gro...</td>\n",
       "      <td>business</td>\n",
       "    </tr>\n",
       "    <tr>\n",
       "      <th>1488</th>\n",
       "      <td>1587</td>\n",
       "      <td>apple ipod family expands market apple has exp...</td>\n",
       "      <td>tech</td>\n",
       "    </tr>\n",
       "    <tr>\n",
       "      <th>1489</th>\n",
       "      <td>538</td>\n",
       "      <td>santy worm makes unwelcome visit thousands of ...</td>\n",
       "      <td>tech</td>\n",
       "    </tr>\n",
       "  </tbody>\n",
       "</table>\n",
       "<p>1490 rows × 3 columns</p>\n",
       "</div>"
      ],
      "text/plain": [
       "      ArticleId                                               Text  \\\n",
       "0          1833  worldcom ex-boss launches defence lawyers defe...   \n",
       "1           154  german business confidence slides german busin...   \n",
       "2          1101  bbc poll indicates economic gloom citizens in ...   \n",
       "3          1976  lifestyle  governs mobile choice  faster  bett...   \n",
       "4           917  enron bosses in $168m payout eighteen former e...   \n",
       "...         ...                                                ...   \n",
       "1485        857  double eviction from big brother model caprice...   \n",
       "1486        325  dj double act revamp chart show dj duo jk and ...   \n",
       "1487       1590  weak dollar hits reuters revenues at media gro...   \n",
       "1488       1587  apple ipod family expands market apple has exp...   \n",
       "1489        538  santy worm makes unwelcome visit thousands of ...   \n",
       "\n",
       "           Category  \n",
       "0          business  \n",
       "1          business  \n",
       "2          business  \n",
       "3              tech  \n",
       "4          business  \n",
       "...             ...  \n",
       "1485  entertainment  \n",
       "1486  entertainment  \n",
       "1487       business  \n",
       "1488           tech  \n",
       "1489           tech  \n",
       "\n",
       "[1490 rows x 3 columns]"
      ]
     },
     "execution_count": 3,
     "metadata": {},
     "output_type": "execute_result"
    }
   ],
   "source": [
    "df = pd.read_csv('BBC News.csv')\n",
    "df"
   ]
  },
  {
   "cell_type": "markdown",
   "metadata": {},
   "source": [
    "Observamos que hay 1489 artículos, lo cual es una cantidad aceptable para poder entrenar un clasificador, incluso dividiendo los datos en un conjunto de entrenamiento del 80% y un conjunto de test del 20%. Por ejemplo, en el clasificador basado en Naive Bayes tendremos problemas si la cantidad muestras es demasiado pequeña, y necesaitaríamos aplicar técnicas de alisado que podemos evitar al tener una cantidad razonable de muestras. También, es importante notar que todos los artículos han sido extraidos de la misma fuente (BBC News) por lo que el texto de cada uno puede ser facilmente comparable sin grandes problemas relacionados con variaciones en la tipografía, idioma, espacios entre palabras o el tipo de texto utilizado en cada artículo."
   ]
  },
  {
   "cell_type": "code",
   "execution_count": 4,
   "metadata": {},
   "outputs": [
    {
     "data": {
      "text/plain": [
       "sport            23.221477\n",
       "business         22.550336\n",
       "politics         18.389262\n",
       "entertainment    18.322148\n",
       "tech             17.516779\n",
       "Name: Category, dtype: float64"
      ]
     },
     "execution_count": 4,
     "metadata": {},
     "output_type": "execute_result"
    }
   ],
   "source": [
    "df['Category'].value_counts() / df['Category'].count() * 100"
   ]
  },
  {
   "cell_type": "markdown",
   "metadata": {},
   "source": [
    "En la tabla anterior vemos que tenemos una cantidad equilibrada de noticias de las 5 categorías, rondando el 20% en cada una. Esto será relevante a la hora de analizar el rendimiento de los clasificadores que construyamos porque, por ejemplo, en el caso del k-NN será decisivo tener una cantidad abundante de datos en relación al número de dimensiones. Si tuviesemos muchas categorías con pocos datos de cada una, o una proporción muy descompensada de datos en algunas categoría, tendríamos amplias regiones vacias del espacio multidimensional que afectarían al comportamiento del clasificador. Será importante además dividir el conjunto de datos en un conjunto de entrenamiento y otro de test de forma que haya también una proporción razonable de casuística en cada uno de los conjuntos para poder analizar los clasificadores de forma correcta.\n",
    "\n",
    "Respecto a los modelos de bolsa de palabras y word-embeddings, también será imporante esta distribución equilibrada de datos de cada categoría. En bolsa de palabras, al tener suficientes datos de cada categoría podremos tener una amplia gama de palabras relacionadas con cada categoría, de forma que haya representación de palabras relevantes de cada una de las categorías en los vectores que construyamos. En word-embeddings, ocurrirá lo mismo pero con los conceptos que obtengamos. Será imporante tener vectores con información suficiente, poco dispersos y que con una cantidad razonable de datos puedan acumular conocimiento útil para poder comparar con nuevos datos de test."
   ]
  },
  {
   "cell_type": "markdown",
   "metadata": {},
   "source": [
    "Ahora, vamos a probar a acertar la categoría a la que pertenece un artículo en base a su texto, para lo cual elegimos un artículo cualquiera:"
   ]
  },
  {
   "cell_type": "code",
   "execution_count": 5,
   "metadata": {},
   "outputs": [
    {
     "name": "stdout",
     "output_type": "stream",
     "text": [
      "strong dollar  call halts slide the us dollar s slide against the euro and yen has halted after us treasury secretary john snow said a strong dollar was  in america s interest .  but analysts said any gains are likely to be short-lived as problems with the us economy were still significant. they also pointed out that positive comments apart  president george w bush s administration had done little to stop the dollar s slide. a weak dollar helps boost exports and narrow the current account deficit. the dollar was trading at $1.2944 against the euro at 2100gmt  still close to the $1.3006 record level set on 10 november. against the japanese yen  it was trading at 105.28 yen  after hitting a seven-month low of 105.17 earlier in the day.  policy makers in europe have called the dollar s slide  brutal  and have blamed the strength of the euro for dampening economic growth. however  it is unclear whether ministers would issue a declaration aimed at curbing the euro s rise at a monthly meeting of eurozone ministers late on monday. higher growth in europe is regarded by us officials as a way the huge us current account deficit - that has been weighing on the dollar - could be reduced. mr snow who is currently in dublin at the start of a four-nation eu visit  has applauded ireland s introduction of lower taxes and deregulation which have helped boost growth.  the eurozone is growing below its potential. when a major part of the global economy is below potential there are negative consequences... for the citizens of those economies... and for their trading partners   he said. mr snow s comments may have helped shore up the dollar on monday  but he was careful to qualify his statement.   our basic policy  of course  is to let open  competitive markets set the values   he explained.  markets are driven by fundamentals and towards fundamentals.  us officials have also said that other economies need to grow  so the us is not the main global growth engine. economists say that the fundamentals  or key indicators  of the us economy are looking far from rosy. domestic consumer demand is cooling  and heavy spending by president bush has pushed the budget deficit to a record $427bn (£230bn). the current account deficit  meanwhile  hit a record $166bn in the second quarter of 2004. for many analysts  a weaker dollar is here to stay.  no end is in sight   said carsten fritsch  a strategist at commerzbank .  it is only a matter of time until the euro reaches $1.30.  some analysts maintain the us is secretly happy with a lower dollar which helps makes its exports cheaper in europe  thus boosting its economy.\n"
     ]
    }
   ],
   "source": [
    "print(df.loc[654,'Text'])"
   ]
  },
  {
   "cell_type": "markdown",
   "metadata": {},
   "source": [
    "Leyendo el texto obtenido, no está del todo claro si pertence a la categoría de politics o de business, puesto que encontramos palabras como 'ministers', 'policy' o 'officials' que parecen indicar que es de politics, pero la temática general y otras palabras como 'dollar', 'analysts' o 'growth' dan a entender que es de business. Esto pone de manifiesto que muchas veces es complicado clasificar este tipo de textos en las categorías dadas, y hay que hacer un análisis detallado para poder discernir entre unas y otras. La categoría del artículo con el texto anterior resulta ser business:"
   ]
  },
  {
   "cell_type": "code",
   "execution_count": 6,
   "metadata": {},
   "outputs": [
    {
     "name": "stdout",
     "output_type": "stream",
     "text": [
      "business\n"
     ]
    }
   ],
   "source": [
    "print(df.loc[654,'Category'])"
   ]
  },
  {
   "cell_type": "markdown",
   "metadata": {},
   "source": [
    "Creamos por último una partición del conjunto de datos, dejando un 80% para entrenamiento y un 20% para test, utilizando la función train_test_split y barajándolos para ignorar posibles ordenamientos o patrones en los datos iniciales."
   ]
  },
  {
   "cell_type": "code",
   "execution_count": 7,
   "metadata": {},
   "outputs": [
    {
     "data": {
      "text/plain": [
       "(      ArticleId                                               Text  \\\n",
       " 1166       1682  fuming robinson blasts officials england coach...   \n",
       " 1106       1950  huge rush for jet airways shares indian airlin...   \n",
       " 538         623  voters  don t trust politicians  eight out of ...   \n",
       " 439        1431  dundee utd 4-1 aberdeen dundee united eased in...   \n",
       " 1478       1144  visa row mandarin made sir john the top civil ...   \n",
       " ...         ...                                                ...   \n",
       " 1130        193  blair  said he would stand down  tony blair pr...   \n",
       " 1294        111  us trade gap hits record in 2004 the gap betwe...   \n",
       " 860         833  tories pledge free sports lessons children wou...   \n",
       " 1459       2206  dance music not dead says fatboy dj norman coo...   \n",
       " 1126        759  greek pair attend drugs hearing greek sprinter...   \n",
       " \n",
       "            Category  \n",
       " 1166          sport  \n",
       " 1106       business  \n",
       " 538        politics  \n",
       " 439           sport  \n",
       " 1478       politics  \n",
       " ...             ...  \n",
       " 1130       politics  \n",
       " 1294       business  \n",
       " 860        politics  \n",
       " 1459  entertainment  \n",
       " 1126          sport  \n",
       " \n",
       " [1192 rows x 3 columns],\n",
       "       ArticleId                                               Text  \\\n",
       " 941        2160  wal-mart is sued over rude lyrics the parents ...   \n",
       " 297        1360  howard taunts blair over splits tony blair s f...   \n",
       " 271         302  fox attacks blair s tory  lies  tony blair lie...   \n",
       " 774         864  online commons to spark debate online communit...   \n",
       " 420        2184  piero gives rugby perspective bbc sport unveil...   \n",
       " ...         ...                                                ...   \n",
       " 1144        126  us crude prices surge above $53 us crude price...   \n",
       " 1309       1533  saudi ministry to employ women women will be e...   \n",
       " 1444       1886  label withdraws mcfadden s video the new video...   \n",
       " 949        1701  california sets fines for spyware the makers o...   \n",
       " 1212        170  stars gear up for bafta ceremony film stars fr...   \n",
       " \n",
       "            Category  \n",
       " 941   entertainment  \n",
       " 297        politics  \n",
       " 271        politics  \n",
       " 774            tech  \n",
       " 420            tech  \n",
       " ...             ...  \n",
       " 1144       business  \n",
       " 1309       business  \n",
       " 1444  entertainment  \n",
       " 949            tech  \n",
       " 1212  entertainment  \n",
       " \n",
       " [298 rows x 3 columns])"
      ]
     },
     "execution_count": 7,
     "metadata": {},
     "output_type": "execute_result"
    }
   ],
   "source": [
    "train, test = train_test_split(df, test_size=0.2, random_state=RANDOM_STATE, shuffle=True)\n",
    "train, test"
   ]
  },
  {
   "cell_type": "code",
   "execution_count": 8,
   "metadata": {},
   "outputs": [
    {
     "data": {
      "text/plain": [
       "(sport            23.741611\n",
       " business         21.895973\n",
       " entertainment    19.043624\n",
       " politics         18.288591\n",
       " tech             17.030201\n",
       " Name: Category, dtype: float64,\n",
       " business         25.167785\n",
       " sport            21.140940\n",
       " tech             19.463087\n",
       " politics         18.791946\n",
       " entertainment    15.436242\n",
       " Name: Category, dtype: float64)"
      ]
     },
     "execution_count": 8,
     "metadata": {},
     "output_type": "execute_result"
    }
   ],
   "source": [
    "train['Category'].value_counts() / train['Category'].count() * 100, test['Category'].value_counts() / test['Category'].count() * 100"
   ]
  },
  {
   "cell_type": "markdown",
   "metadata": {
    "id": "r4rXv3xX3yvG"
   },
   "source": [
    "## 2) Representación basada en bolsa de palabras y frecuencia de aparición\n",
    "\n",
    "La primera vectorización que vamos a usar representará los mensajes usando el modelo de bolsa de palabras, monogramas y la frecuencia de aparición de cada palabra. Usa como _stop words_ las que vienen configuradas por defecto para el inglés.\n",
    "\n",
    "Aplica la vectorización a los conjuntos de mensajes de entrenamiento y test. Muestra algún mensaje tanto en su formato de texto original como en la versión vectorizada. ¿Qué palabras se han eliminado y por qué?\n",
    "\n",
    "Entrena un clasificador Naive Bayes Multinomial y calcula su tasa de aciertos sobre el conjunto de entrenamiento y el conjunto de test. A continuación calcula los valores de precisión, exhaustividad y puntuación F1 para cada una de las clases. Dibuja la matriz de confusión. Analiza los resultados obtenidos.\n",
    "\n",
    "A continuación, entrena un clasificador k-NN con la configuración por defecto y usando la misma vectorización. Analiza los resultados, ¿a qué crees que se deben?"
   ]
  },
  {
   "cell_type": "markdown",
   "metadata": {},
   "source": [
    "### Vectorización ###"
   ]
  },
  {
   "cell_type": "markdown",
   "metadata": {},
   "source": [
    "En primer lugar vamos a aplicar la vectorización al conjunto de entrenamiento y al conjunto de test. Para ello, usamos `fit_transform` para el conjunto de entrenamiento,  para fijar el dicccionario en `CountVectorizer` mientras que usaremos simplemente el método `transform` en el conjunto de test (de forma que ambas herramientas usan lo aprendido en el conjunto de entrenamiento).\n",
    "\n",
    "Obtenemos las frecuencias de las palabras con CountVectorizar y lo hacemos usando el diccionario que se inferirá de los términos de los documentos que se le pasan al CountVectorizer. Usamos también stop_words = 'english' como indica el enunciado."
   ]
  },
  {
   "cell_type": "code",
   "execution_count": 9,
   "metadata": {},
   "outputs": [],
   "source": [
    "from sklearn.feature_extraction.text import CountVectorizer\n",
    "\n",
    "#El vocabulario será el inferido por el conjunto de test.\n",
    "vectorizer = CountVectorizer(stop_words='english', binary=False)\n",
    "train_n = train.loc[:,'Text'].to_numpy()\n",
    "train_vector_data=vectorizer.fit_transform(train_n)"
   ]
  },
  {
   "cell_type": "markdown",
   "metadata": {},
   "source": [
    "Podemos ver cómo han quedado los términos y cuántos términos hay utilizando la función get_feature_names() y mostrando train_vector_data una vez hecho el fit_transform con el conjunto de entrenamiento."
   ]
  },
  {
   "cell_type": "code",
   "execution_count": 10,
   "metadata": {},
   "outputs": [
    {
     "name": "stdout",
     "output_type": "stream",
     "text": [
      "22302\n",
      "['00', '000', '0001', '000bn', '000m', '000th', '001', '001and', '001st', '0051', '007', '01', '0100', '0130', '028', '03', '033', '0400', '041', '04secs', '05', '050', '050505', '0530', '0530gmt', '056', '05bn', '05m', '06', '0630', '069', '07', '0700', '0710', '072', '0730', '08', '080', '0800', '0845', '0870', '088', '0900', '0950', '09secs', '10', '100', '1000m', '100bn', '100m', '100ml', '101', '102', '103', '104', '105', '105m', '106m', '107', '108', '1080', '109', '109m', '10bn', '10ft', '10m', '10secs', '10th', '11', '110', '1100', '110m', '110th', '111', '112', '113', '1130', '1130p', '113bn', '115', '116', '116i', '117', '117m', '118', '119', '119bn', '119m', '11bn', '11m', '11pm', '11th', '12', '120', '1200', '1200m', '120bn', '120gb', '120m', '121', '1230', '125', '125m', '126', '127th', '128', '129', '12a', '12bn', '12cm', '12m', '12th', '13', '130', '1300', '130m', '132', '133', '1330', '1337', '133m', '134', '135', '136', '137', '137m', '138m', '138p', '139', '13bn', '13m', '13s', '13secs', '13th', '14', '140', '140bn', '142', '142bn', '1430', '143m', '144', '1441', '144m', '145m', '146', '146m', '149', '1497', '14bn', '14m', '14th', '15', '150', '1500', '1500m', '150m', '151', '152', '152m', '153', '154m', '155', '155bn', '155m', '156m', '157', '158', '158th', '159', '15bn', '15m', '15mbps', '15s', '15th', '16', '1600', '1600s', '1606', '160gb', '160m', '161', '162', '162bn', '162m', '163', '163m', '164', '1642', '165', '166', '166bn', '167', '1670', '168', '1689', '168m', '16bn', '16k', '16m', '16s', '16th', '17', '170', '1700', '1701', '170bn', '170m', '171', '1727', '1728', '173', '1731', '173m', '174', '175', '175m', '1761', '177', '1774', '1776', '178', '178m', '17bn', '17m', '17th', '18', '180', '1800', '1800gmt', '1800s', '1801', '180bn', '1815', '182', '1830', '1831', '1834', '184', '185', '1857', '186', '1865', '186m', '187', '1870', '1875', '187m', '187th', '188', '1888', '189', '1891', '1893', '18bn', '18m', '18s', '18th', '19', '190', '1900', '1903', '1905', '1908', '190m', '191', '1911', '1912', '1915', '1917', '191m', '1920', '1920s', '1921', '1922', '1924', '1925', '1927', '1928', '1929', '193', '1930', '1930s', '1934', '1935', '1936', '1937', '1938', '1939', '193bn', '1940', '1940s', '1942', '1944', '1945', '1946', '1947', '1948', '1949', '194m', '195', '1950', '1950s', '1951', '1952', '1953', '1954', '1955', '1956', '1957', '1958', '196', '1960', '1960s', '1961', '1962', '1963', '1964', '1965', '1966', '1967', '1968', '1969', '1970', '1970s', '1971', '1972', '1973', '1974', '1975', '1976', '1977', '1978', '1979', '197bn', '1980', '1980s', '1981', '1982', '1983', '1984', '1985', '1986', '1987', '1988', '1989', '198m', '1990', '1990s', '1991', '1992', '1993', '1994', '1995', '1996', '1997', '1998', '1999', '19bn', '19m', '19secs', '19th', '1bn', '1m', '1p', '1st', '1xtra', '20', '200', '2000', '2001', '2001alleging', '2001fetched', '2002', '2003', '2004', '2005', '2006', '2007', '2008', '2009', '200bn', '200lr', '200m', '2010', '2011', '2012', '2013', '2014', '2015', '2018', '2020', '2022', '2025', '203', '204', '2048', '204m', '205', '206', '206bn', '20bn', '20c', '20gb', '20m', '20s', '20th', '21', '2100', '2100gmt', '211', '216', '217', '219', '21bn', '21m', '21st', '22', '220', '2200', '220m', '222', '2230gmt', '224', '225', '226', '227', '229', '22bn', '22m', '22nd', '23', '230', '2300', '230bn', '230m', '231m', '233', '2340', '234m', '239', '23bn', '23m', '23rd', '24', '240', '245m', '246', '246bn', '24bn', '24m', '24th', '25', '250', '2500', '250m', '253m', '256mb', '258', '258bn', '25bn', '25gbps', '25m', '25p', '25s', '25th', '26', '260', '261bn', '263', '264th', '265m', '266m', '267', '268', '26bn', '26m', '26th', '27', '270', '271', '271st', '272', '273', '275', '276', '277', '277th', '27bn', '27m', '28', '280', '280bn', '280m', '281m', '282', '283', '285m', '2871', '28bn', '28p', '28th', '29', '290', '290m', '291', '291m', '292', '293', '294', '2940', '2944', '297', '2974', '29a', '29bn', '29m', '2bn', '2d', '2g', '2gb', '2k', '2km', '2m', '2mbps', '30', '300', '3000', '3006', '300bn', '300m', '300p', '301', '3040', '305', '305m', '306', '308m', '30bn', '30ft', '30gb', '30m', '30mg', '30mph', '30s', '31', '312', '313', '318', '3187', '31bn', '31m', '31p', '32', '320', '320kg', '320m', '3218', '322', '324', '325', '325m', '327m', '328m', '329', '32bn', '32m', '32nd', '33', '331bn', '336m', '337', '339', '339m', '33bn', '33rd', '34', '340', '345m', '348bn', '349', '349m', '34bn', '34th', '35', '350', '3509', '350m', '3516', '354', '357', '35bn', '35m', '35mm', '35th', '36', '360', '364', '365m', '368bn', '36bn', '36m', '36th', '37', '370', '371m', '374m', '375', '377bn', '378', '379m', '37bn', '38', '385', '386', '39', '390', '392', '398m', '399', '39bn', '39m', '3bn', '3c', '3d', '3g', '3gp', '3gsm', '3m', '40', '400', '40052308090', '400m', '400th', '401', '402', '404', '407th', '40bn', '40gb', '40m', '40mbps', '40mph', '40s', '40th', '41', '412bn', '413', '418bn', '41bn', '41m', '42', '420', '424m', '425', '427bn', '428m', '429m', '42m', '42nd', '43', '431m', '433', '434m', '436', '43m', '44', '440', '443m', '444', '44bn', '44th', '45', '450', '455', '456m', '458', '458m', '45bn', '45m', '45pm', '45secs', '45th', '46', '465', '466', '469', '46m', '46secs', '47', '474', '475m', '479m', '47bn', '47m', '48', '480', '480m', '481', '484bn', '486', '488', '48bn', '48m', '48th', '49', '492m', '496', '499', '499m', '49m', '4bn', '4cast', '4cm', '4ghz', '4in', '4km', '4m', '4p', '4pm', '4th', '4x100m', '50', '500', '5000', '5000m', '500m', '505', '506m', '50gb', '50m', '50mg', '50p', '50th', '51', '512', '512kbps', '512mb', '514', '51secs', '52', '520', '521', '522', '525', '52m', '52nd', '53', '530', '530m', '535', '537bn', '537m', '538', '53bn', '53m', '53p', '54', '540m', '542', '546m', '548p', '54bn', '54th', '55', '550', '550m', '555', '556', '55bn', '55m', '55s', '55th', '56', '560', '563', '568m', '569', '569m', '56bn', '57', '570', '575', '57bn', '58', '581m', '584m', '59', '590', '599', '59th', '5bn', '5g', '5gb', '5ive', '5m', '5p', '60', '600', '601', '603', '605', '607', '60bn', '60gb', '60m', '60p', '60s', '60secs', '60th', '61', '610m', '611', '61st', '62', '625', '62secs', '63', '630', '630m', '635', '63m', '63rd', '63secs', '64', '642', '644m', '645', '648m', '64secs', '65', '650', '659', '65bn', '65s', '66', '6600', '660m', '661', '666', '6661', '667', '66bn', '66m', '66secs', '67', '671', '674', '67th', '68', '680', '680m', '684bn', '68m', '68seconds', '69', '690', '691m', '692', '6bn', '6ft', '6ghz', '6km', '6m', '6pm', '70', '700', '701m', '705m', '70m', '70p', '70s', '70th', '71', '717', '717m', '72', '720', '725m', '72m', '73', '730', '732m', '733', '737', '738', '73m', '74', '740', '745', '74m', '74th', '75', '750', '750m', '75bn', '75m', '75p', '75s', '76', '767', '768m', '76m', '77', '775', '775m', '777', '77m', '77th', '78', '780', '784m', '785m', '787', '78bn', '79', '796', '797p', '798m', '799', '79m', '79p', '79th', '7bn', '7m', '7p', '80', '800', '800m', '803', '805', '808', '808m', '80bn', '80gb', '80m', '80mg', '80p', '80s', '80th', '81', '814', '815', '81st', '82', '820', '83', '830bn', '831', '833', '836m', '838m', '84', '840', '84th', '85', '850', '850bn', '850m', '855bn', '857m', '85m', '86', '865', '86bn', '86m', '86th', '87', '870', '873p', '874', '874m', '875', '87th', '88', '885', '88m', '88th', '89', '895', '89bn', '89m', '89secs', '89th', '8am', '8bn', '8gb', '8ghz', '8m', '8mbps', '90', '900', '900m', '901m', '902', '906', '907', '9094', '90m', '90s', '90th', '91', '910m', '911', '915', '91m', '92', '920', '922', '924', '925p', '9276', '93', '932', '933m', '93rd', '94', '940', '943', '94m', '95', '950', '950m', '950p', '953', '957', '95bn', '95m', '96', '960m', '961', '966m', '96bn', '97', '971', '975', '97bn', '97m', '98', '981', '984m', '98bn', '98m', '98th', '99', '997', '999', '999th', '9bn', '9km', '9m', '9p', 'a300s', 'a320', 'a380', 'a380s', 'a4', 'aa', 'aaa', 'aaas', 'aac', 'aadc', 'aaliyah', 'aamir', 'aaron', 'abacus', 'abandon', 'abandoned', 'abandoning', 'abandonment', 'abating', 'abba', 'abbas', 'abbasi', 'abbott', 'abbreviated', 'abc', 'abd', 'abdellatif', 'abdication', 'abdomen', 'abducted', 'abduction', 'abdullah', 'abdullatif', 'aberdeen', 'aberration', 'aberystwyth', 'abeyance', 'abeyie', 'abi', 'abide', 'abided', 'abiding', 'abilities', 'ability', 'abish', 'able', 'abn', 'abnormal', 'abnormality', 'abolish', 'abolishing', 'abolition', 'aborted', 'abortion', 'abortionist', 'abortive', 'abramovich', 'abroad', 'absa', 'absence', 'absent', 'absentee', 'absolute', 'absolutely', 'absolution', 'absorb', 'absorbed', 'absorbing', 'absorbs', 'abstain', 'abstentions', 'absurd', 'abtahi', 'abu', 'abundance', 'abundantly', 'aburizal', 'abuse', 'abused', 'abuses', 'abusing', 'abusive', 'abut', 'abysmal', 'ac', 'academic', 'academics', 'academies', 'academy', 'acapulco', 'acc', 'accelerate', 'accelerated', 'accelerating', 'accelerator', 'accept', 'acceptable', 'acceptance', 'acceptances', 'accepted', 'accepting', 'accepts', 'access', 'accessed', 'accessible', 'accessing', 'accession', 'accessories', 'accessory', 'accident', 'accidental', 'accidentally', 'accidents', 'acclaim', 'acclaimed', 'acclimate', 'acclimatise', 'accolade', 'accolades', 'accommodate', 'accommodated', 'accommodating', 'accommodation', 'accompanied', 'accompaniment', 'accompany', 'accompanying', 'accomplice', 'accomplices', 'accomplish', 'accomplished', 'accomplishment', 'accord', 'accordance', 'according', 'accordingly', 'accosiation', 'account', 'accountability', 'accountable', 'accountancy', 'accountant', 'accountants', 'accounted', 'accounting', 'accounts', 'accoustic', 'accra', 'accredited', 'accretive', 'accumulate', 'accumulated', 'accumulates', 'accumulator', 'accuracy', 'accurate', 'accurately', 'accusation', 'accusations', 'accuse', 'accused', 'accusing', 'accustomed', 'ace', 'aceh', 'aces', 'achievable', 'achieve', 'achieved', 'achievement', 'achievements', 'achieving', 'achike', 'achilles', 'achtung', 'ackerman', 'acknowledge', 'acknowledged', 'acknowledges', 'acne', 'acoustic', 'acpo', 'acquainted', 'acquiescent', 'acquire', 'acquired', 'acquiring', 'acquisition', 'acquisitions', 'acquittal', 'acquitted', 'acre', 'acres', 'acrimonious', 'acrimony', 'acrobatic', 'act', 'acted', 'acting', 'action', 'actionaid', 'actions', 'activate', 'activated', 'active', 'actively', 'activision', 'activison', 'activist', 'activists', 'activities', 'activity', 'actor', 'actors', 'actress', 'actresses', 'acts', 'actual', 'actually', 'ad', 'adage', 'adam', 'adamind', 'adams', 'adapt', 'adaptation', 'adaptations', 'adapted', 'adapter', 'adapters', 'adapting', 'adaptor', 'adaptors', 'adarsh', 'adb', 'add', 'addaction', 'added', 'addicks', 'addiction', 'addictive', 'addicts', 'adding', 'addink', 'addison', 'addition', 'additional', 'additionally', 'additives', 'address', 'addressed', 'addresses', 'addressing', 'adds', 'adductor', 'adelaide', 'adept', 'adequate', 'adequately', 'adera', 'adere', 'ades', 'adhere', 'adhi', 'adidas', 'adjudged', 'adjudicator', 'adjust', 'adjusted', 'adjusting', 'adjustment', 'adjustments', 'adjusts', 'adler', 'administered', 'administering', 'administration', 'administrations', 'administrative', 'administrator', 'administrators', 'admirable', 'admiration', 'admire', 'admired', 'admirer', 'admissibility', 'admission', 'admissions', 'admit', 'admits', 'admittance', 'admitted', 'admittedly', 'admitting', 'admonished', 'adnan', 'ado', 'adolescent', 'adopt', 'adopted', 'adopters', 'adopting', 'adoption', 'adoptive', 'adornments', 'adrian', 'adriano', 'adrien', 'adroit', 'ads', 'adsense', 'adsl', 'adulation', 'adult', 'adultery', 'adulthood', 'adults', 'advance', 'advanced', 'advancement', 'advances', 'advancing', 'advanta', 'advantage', 'advantages', 'advent', 'adventure', 'adventures', 'adventurous', 'adverse', 'adversely', 'adversity', 'advert', 'advertise', 'advertised', 'advertisements', 'advertiser', 'advertisers', 'advertising', 'adverts', 'advice', 'advise', 'advised', 'adviser', 'advisers', 'advises', 'advising', 'advisor', 'advisors', 'advisory', 'advocate', 'advocates', 'adware', 'ae', 'aer', 'aero', 'aeronautics', 'aeroplane', 'aerosmith', 'aerospace', 'aesthetics', 'affair', 'affairs', 'affect', 'affected', 'affecting', 'affection', 'affectionately', 'affects', 'afficiandos', 'affiliate', 'affiliates', 'afflicting', 'afford', 'affordability', 'affordable', 'afforded', 'afful', 'afghanistan', 'afi', 'afield', 'afoot', 'afp', 'afraid', 'africa', 'african', 'africans', 'aftermath', 'afternoon', 'aftewards', 'afzal', 'ag', 'agassi', 'age', 'aged', 'ageing', 'ageism', 'agence', 'agencies', 'agency', 'agenda', 'agendas', 'agent', 'agents', 'ages', 'aggravated', 'aggravating', 'aggregate', 'aggregates', 'aggregator', 'aggregators', 'aggression', 'aggressive', 'aggressively', 'aggressors', 'agility', 'aging', 'agitated', 'agm', 'agnelli', 'agnetha', 'ago', 'agoa', 'agonising', 'agonisingly', 'agony', 'agree', 'agreeable', 'agreed', 'agreeing', 'agreement', 'agreements', 'agrees', 'agricultural', 'agriculture', 'agroflora', 'aguilera', 'agustin', 'agyemang', 'ah', 'ahead', 'ahern', 'ahmed', 'ahold', 'ai', 'aid', 'aidan', 'aide', 'aided', 'aiden', 'aides', 'aids', 'aig', 'ailing', 'aim', 'aimed', 'aiming', 'aimlessly', 'aims', 'aiport', 'air', 'airbrushes', 'airbus', 'aircraft', 'aired', 'aires', 'airing', 'airline', 'airliner', 'airliners', 'airlines', 'airplane', 'airplanes', 'airplay', 'airport', 'airports', 'airtime', 'airways', 'aishwariya', 'aishwarya', 'aisle', 'aitken', 'aiyegbeni', 'aizlewood', 'aj', 'ajax', 'ak', 'aka', 'akamai', 'akhmetov', 'akin', 'akon', 'al', 'alabama', 'aladdin', 'alain', 'alamos', 'alan', 'alarm', 'alarmed', 'alarming', 'alarms', 'alasdair', 'alastair', 'albacete', 'albania', 'albanian', 'albany', 'albee', 'albeit', 'albert', 'alberto', 'albion', 'album', 'albums', 'alcatel', 'alcobev', 'alcohol', 'alcoholism', 'alda', 'aldershot', 'ale', 'alegre', 'alencar', 'alert', 'alerted', 'alerting', 'alerts', 'alessandro', 'alex', 'alexander', 'alexandra', 'alexandria', 'alexei', 'alfa', 'alfie', 'alfred', 'algemeen', 'algeria', 'algerian', 'algorithm', 'algorithms', 'ali', 'alias', 'aliases', 'alice', 'alicia', 'alien', 'alienated', 'aliens', 'alight', 'align', 'aligned', 'alike', 'alison', 'alistair', 'alita', 'alive', 'allahgreen', 'allaire', 'allan', 'allander', 'allard', 'allardyce', 'allawi', 'allay', 'allaying', 'allegation', 'allegations', 'allege', 'alleged', 'allegedly', 'alleges', 'allegiance', 'allegiances', 'alleging', 'allen', 'allende', 'alleviate', 'alley', 'alleyne', 'alliance', 'alliances', 'allianz', 'allied', 'allies', 'allister', 'allocated', 'allocating', 'allocations', 'allotting', 'allow', 'allowance', 'allowances', 'alloway', 'allowed', 'allowing', 'allows', 'allsop', 'alltel', 'alludes', 'alluding', 'allure', 'ally', 'almagro', 'almeria', 'almunia', 'alois', 'alongside', 'aloud', 'alphabet', 'alphabetically', 'alphabets', 'alright', 'altavista', 'alter', 'altered', 'altering', 'alternative', 'alternatively', 'alternatives', 'alto', 'altogether', 'alton', 'altria', 'aluminium', 'alumnia', 'alun', 'alva', 'alvin', 'alwaleed', 'alwi', 'alyn', 'alzheimer', 'am3d', 'amalgamated', 'amanda', 'amassed', 'amateur', 'amateurish', 'amateurs', 'amaya', 'amazed', 'amazes', 'amazing', 'amazon', 'ambassador', 'ambassadors', 'amber', 'ambient', 'ambition', 'ambitions', 'ambitious', 'ambitous', 'ambuja', 'ambushed', 'amd', 'amelia', 'amelie', 'amend', 'amending', 'amendment', 'amendments', 'amends', 'amenity', 'ameobi', 'america', 'american', 'americanised', 'americans', 'ames', 'amey', 'amf', 'amibition', 'amicable', 'amicably', 'amicus', 'amid', 'amidst', 'amiga', 'amin', 'amitabh', 'amma', 'amman', 'ammunition', 'amnesty', 'amoah', 'amoeba', 'amor', 'amounted', 'amounting', 'amounts', 'ampadu', 'ampas', 'amplification', 'amplified', 'amplifier', 'amplifies', 'amplify', 'amply', 'amputated', 'amputators', 'amputee', 'amputees', 'amritsar', 'amro', 'amstel', 'amsterdam', 'amuro', 'amy', 'ana', 'anabolic', 'anakin', 'analgesic', 'analogue', 'analogy', 'analyse', 'analysed', 'analysing', 'analysis', 'analyst', 'analysts', 'analyzing', 'anastacia', 'anastasia', 'anatoly', 'anatomical', 'ancestors', 'anchor', 'ancic', 'ancient', 'ancram', 'anderlecht', 'andersen', 'anderson', 'andersson', 'anderton', 'andhra', 'andi', 'andre', 'andrea', 'andreas', 'andreev', 'andrei', 'andrew', 'andrews', 'andy', 'anecdotal', 'anelka', 'aneurysm', 'anew', 'anfield', 'angadias', 'angel', 'angeles', 'angelina', 'angels', 'anger', 'angie', 'angle', 'angled', 'anglers', 'anglesea', 'anglia', 'anglian', 'anglicans', 'angling', 'anglo', 'angola', 'angolan', 'angrily', 'angry', 'angst', 'angus', 'animal', 'animals', 'animate', 'animated', 'animation', 'animations', 'animators', 'animosity', 'anita', 'ankara', 'ankle', 'ann', 'anna', 'annabelle', 'annals', 'annan', 'anne', 'annette', 'anni', 'annie', 'anniversaries', 'anniversary', 'annoucement', 'announce', 'announced', 'announcement', 'announcements', 'announces', 'announcing', 'annoyance', 'annoyingly', 'annoys', 'annual', 'annualised', 'annually', 'annuity', 'annul', 'annum', 'annus', 'anoeta', 'anomalies', 'anomaly', 'anonymity', 'anonymous', 'anonymously', 'anouncing', 'anselmo', 'ansheng', 'anshuman', 'anson', 'answer', 'answered', 'answers', 'ant', 'ante', 'antenna', 'anthem', 'anthemic', 'anthony', 'anti', 'antibacterial', 'anticipated', 'anticipating', 'anticipation', 'antics', 'antique', 'antiques', 'antiseptics', 'antitrust', 'antoine', 'antoinette', 'antonia', 'antonio', 'antony', 'antrim', 'antwerp', 'anurag', 'anxiety', 'anxious', 'anybody', 'anyhting', 'anymore', 'aol', 'ap', 'apace', 'apache', 'apacs', 'apalling', 'apart', 'apartheid', 'apathetic', 'apathy', 'apiece', 'aplomb', 'apocalypse', 'apollo', 'apologise', 'apologised', 'apologising', 'apology', 'appalling', 'apparatus', 'apparel', 'apparent', 'apparently', 'appeal', 'appealed', 'appealing', 'appeals', 'appear', 'appearance', 'appearances', 'appeared', 'appearing', 'appears', 'appetite', 'applaud', 'applauded', 'applauds', 'applause', 'apple', 'appleford', 'applegate', 'apples', 'appleton', 'appliance', 'appliances', 'applicants', 'application', 'applications', 'applied', 'applies', 'apply', 'applying', 'appoint', 'appointed', 'appointment', 'appointments', 'appoints', 'appraisal', 'appraising', 'appreciably', 'appreciate', 'appreciated', 'appreciation', 'apprehended', 'apprehension', 'apprenticeship', 'approach', 'approached', 'approaches', 'approaching', 'appropriate', 'appropriately', 'approval', 'approvals', 'approve', 'approved', 'approves', 'approximately', 'approximation', 'apps', 'april', 'aquatic', 'ar', 'arab', 'arabia', 'arabian', 'arabic', 'arabs', 'arafat', 'aragones', 'aramburu', 'arash', 'arbitrarily', 'arbitrary', 'arbitration', 'arbor', 'arbuckle', 'arc', 'arcade', 'arcades', 'arcelor', 'arch', 'archbishop', 'archer', 'archibald', 'architect', 'architecture', 'archive', 'archived', 'archives', 'archivists', 'archos', 'arcleor', 'arcy', 'ard', 'ardent', 'arditti', 'area', 'areas', 'aren', 'arena', 'arenas', 'aretha', 'argentina', 'argentine', 'argonaut', 'arguably', 'argue', 'argued', 'argues', 'arguing', 'argument', 'argumentative', 'arguments', 'aria', 'ariel', 'aries', 'arise', 'arisen', 'arising', 'arizona', 'arjan', 'arjen', 'ark', 'arkansas', 'arling', 'arlington', 'arm', 'armagh', 'armand', 'armando', 'armani', 'armed', 'armenians', 'armentieres', 'armes', 'armistead', 'armoury', 'arms', 'army', 'arnaud', 'arne', 'arnesen', 'arnold', 'arnoldo', 'arnoud', 'aroused', 'arouses', 'arrange', 'arranged', 'arrangement', 'arrangements', 'array', 'arrese', 'arrest', 'arrested', 'arrests', 'arrival', 'arrivals', 'arrive', 'arrived', 'arrives', 'arriving', 'arrogance', 'arrogant', 'arrogantly', 'arsenal', 'arsene', 'arsenic', 'arsenide', 'arses', 'art', 'artell', 'artery', 'arteta', 'arthritis', 'arthur', 'artic', 'article', 'articles', 'artificial', 'artificially', 'artist', 'artistic', 'artists', 'arts', 'artwork', 'artworks', 'aru', 'arvind', 'asagoe', 'asahi', 'asante', 'asbestos', 'asbestosis', 'ascenders', 'ascii', 'ashamed', 'ashanti', 'ashburton', 'ashcroft', 'ashdown', 'asher', 'ashes', 'ashfield', 'ashford', 'ashley', 'ashvin', 'asi', 'asia', 'asian', 'aside', 'ask', 'asked', 'asking', 'asks', 'asleep', 'aspect', 'aspects', 'aspersions', 'asphalt', 'aspic', 'aspiring', 'asplin', 'ass', 'assassin', 'assassinated', 'assassination', 'assault', 'assaulted', 'assaulting', 'assaults', 'assembled', 'assemblies', 'assembling', 'assembly', 'assert', 'assertion', 'assertions', 'asses', 'assess', 'assessed', 'assesses', 'assessing', 'assessment', 'assessments', 'asset', 'assets', 'assigned', 'assignment', 'assigns', 'assist', 'assistance', 'assistant', 'assistants', 'assisted', 'assisting', 'associate', 'associated', 'associates', 'association', 'associations', 'assortment', 'assume', 'assumed', 'assuming', 'assumption', 'assumptions', 'assurance', 'assurances', 'assure', 'assured', 'aston', 'astonished', 'astonishing', 'astonishingly', 'astonishment', 'astoria', 'astounded', 'astra', 'astrazeneca', 'astro', 'astronauts', 'astronomical', 'asylum', 'asymmetric', 'asymmetry', 'atari', 'athens', 'athlete', 'athletes', 'athletic', 'athleticism', 'athletico', 'athletics', 'athlon', 'atkinson', 'atlanta', 'atlantic', 'atlas', 'atletico', 'atmosphere', 'atmospheric', 'atms', 'atomic', 'atoms', 'atomstroieksport', 'aton', 'atp', 'atr', 'attach', 'attached', 'attachment', 'attachments', 'attack', 'attacked', 'attacker', 'attackers', 'attacking', 'attacks', 'attain', 'attaining', 'attainment', 'attallah', 'attempt', 'attempted', 'attempting', 'attempts', 'attend', 'attendance', 'attendances', 'attendant', 'attendants', 'attended', 'attendees', 'attending', 'attends', 'attention', 'attentions', 'attentive', 'atticus', 'attitude', 'attitudes', 'attlee', 'attorney', 'attract', 'attracted', 'attracting', 'attraction', 'attractions', 'attractive', 'attracts', 'attributable', 'attributed', 'attributes', 'atwood', 'au', 'auction', 'auctioned', 'auctioneer', 'auctions', 'audi', 'audience', 'audiences', 'audio', 'audiophile', 'audiovisuel', 'audit', 'audition', 'auditions', 'auditor', 'auditorium', 'auditors', 'audrey', 'augment', 'august', 'augusto', 'aulis', 'aunt', 'aura', 'aurelien', 'auric', 'auschwitz', 'aussie', 'aussies', 'austin', 'australasia', 'australia', 'australian', 'austria', 'austrian', 'authentic', 'author', 'authorial', 'authorise', 'authorised', 'authorises', 'authorising', 'authoritarian', 'authorities', 'authority', 'authors', 'autistic', 'auto', 'autobiographical', 'autobiography', 'autocycle', 'autographs', 'automaker', 'automated', 'automatic', 'automatically', 'automobiles', 'automotive', 'autosport', 'autumn', 'auxerre', 'av400', 'availability', 'available', 'avalanche', 'avalon', 'avatar', 'avatars', 'avenue', 'avenues', 'average', 'averages', 'averaging', 'avert', 'averted', 'averting', 'avery', 'avg', 'avi', 'aviation', 'aviator', 'avid', 'avions', 'aviv', 'avoid', 'avoidance', 'avoided', 'avoiding', 'avoids', 'avonex', 'avril', 'await', 'awaited', 'awaiting', 'awaits', 'awakening', 'award', 'awarded', 'awarding', 'awards', 'aware', 'awareness', 'away', 'awe', 'awesome', 'awful', 'awfully', 'awkward', 'awol', 'axa', 'axe', 'axed', 'axing', 'ayaan', 'aymone', 'azkaban', 'aznavour', 'aztrazeneca', 'azzam', 'azzurri', 'baa', 'baas', 'babacan', 'babayaro', 'babinet', 'baby', 'babyshamblers', 'babyshambles', 'babysitter', 'bac', 'baccanello', 'baccarat', 'bach', 'bachchan', 'backbench', 'backbencher', 'backbenchers', 'backbenches', 'backbone', 'backdated', 'backdoor', 'backdrop', 'backed', 'backers', 'backfired', 'backfires', 'backfiring', 'background', 'backgrounds', 'backhand', 'backhands', 'backing', 'backlash', 'backley', 'backline', 'backroom', 'backs', 'backside', 'backsides', 'backstage', 'backstreet', 'backtrack', 'backward', 'backwards', 'backyard', 'bacon', 'bad', 'baddeley', 'badge', 'badly', 'badminton', 'bae', 'bafana', 'bafin', 'bafta', 'baftas', 'bag', 'baggage', 'bagged', 'baggins', 'baghdad', 'bagle', 'bagnato', 'bagpuss', 'bags', 'baha', 'bahamas', 'baht', 'baikal', 'bail', 'bailed', 'bailey', 'bailin', 'bailout', 'bainivalu', 'baker', 'bakersfield', 'bakley', 'bakrie', 'balado', 'balamory', 'balance', 'balanced', 'balances', 'balancing', 'balco', 'balde', 'balding', 'baldini', 'baldrick', 'ball', 'ballad', 'ballantine', 'ballboy', 'ballet', 'balloon', 'ballooning', 'ballot', 'balloted', 'balloting', 'ballots', 'ballroom', 'balls', 'ballykissangel', 'ballymena', 'balmer', 'baltacha', 'baltasar', 'bamboozled', 'ban', 'bana', 'banana', 'banca', 'band', 'bandaid', 'banded', 'banderas', 'bandmates', 'bands', 'bandstand', 'bandwagon', 'bandwidth', 'bang', 'bangaldesh', 'bangalore', 'banging', 'bangkok', 'bangladesh', 'bangladeshi', 'bangor', 'bangs', 'banished', 'banjo', 'bank', 'bankable', 'bankash', 'banked', 'banker', 'bankers', 'banking', 'bankroll', 'bankrupt', 'bankruptcies', 'bankruptcy', 'banks', 'bannatyne', 'banned', 'banner', 'banning', 'banque', 'banques', 'banquet', 'bans', 'banter', 'banton', 'baoshan', 'bar', 'barbados', 'barbara', 'barbarians', 'barber', 'barbra', 'barca', 'barcelona', 'barclay', 'barclays', 'bardem', 'barely', 'baretta', 'bargain', 'bargains', 'barged', 'baring', 'barings', 'bark', 'barker', 'barking', 'barkley', 'barley', 'barlow', 'barn', 'barnard', 'barnes', 'barnet', 'barnett', 'barney', 'barnsley', 'baroness', 'baros', 'barosso', 'barr', 'barrage', 'barras', 'barratie', 'barred', 'barrel', 'barrels', 'barrick', 'barrier', 'barriers', 'barring', 'barrioneuvo', 'barrionuevo', 'barroso', 'barrow', 'barry', 'barrymore', 'bars', 'barstow', 'bartering', 'bartlett', 'bartoli', 'barton', 'barwick', 'bas', 'base', 'baseball', 'based', 'basel', 'baseline', 'basement', 'bases', 'bash', 'bashing', 'basic', 'basically', 'basics', 'basildon', 'basingstoke', 'basis', 'basketball', 'baskin', 'basking', 'basque', 'basquiat', 'basra', 'bass', 'bassist', 'bastille', 'bat', 'batch', 'batches', 'bateman', 'bates', 'bath', 'bathroom', 'batie', 'batistuta', 'batman', 'baton', 'batter', 'battered', 'batteries', 'battering', 'battery', 'battle', 'battled', 'battlefield', 'battlefronts', 'battleground', 'battlegrounds', 'battles', 'battleship', 'battlestar', 'battling', 'bautista', 'baweja', 'baxter', 'bay', 'bayer', 'bayern', 'baying', 'bays', 'baywatch', 'bb', 'bba', 'bbb', 'bbc', 'bbc1', 'bbc2', 'bcc', 'bdo', 'beach', 'beaches', 'beachgoer', 'beacon', 'beaded', 'beads', 'beagles', 'beam', 'beamed', 'bean', 'bear', 'beard', 'bearded', 'beardsley', 'bearing', 'bears', 'beast', 'beastie', 'beat', 'beatable', 'beaten', 'beating', 'beatings', 'beatle', 'beatles', 'beats', 'beattie', 'beaudoin', 'beaufort', 'beaumont', 'beautiful', 'beautifully', 'beauty', 'beauvillain', 'beauvillian', 'bebo', 'bechtler', 'beck', 'beckett', 'beckham', 'beckhams', 'beckinsale', 'beckon', 'beckons', 'bed', 'bedding', 'bedell', 'bedford', 'bedfordshire', 'bedingfield', 'bedroom', 'beds', 'bedside', 'bedsits', 'bee', 'beef', 'beefing', 'beeks', 'beenie', 'beer', 'beers', 'bees', 'beetle', 'began', 'begg', 'beggared', 'begging', 'begin', 'beginning', 'beginnings', 'begins', 'begun', 'beh', 'behalf', 'behave', 'behaved', 'behaving', 'behaviour', 'behemoth', 'beige', 'beijing', 'beijingers', 'beileve', 'beings', 'beirut', 'beith', 'bejewelled', 'bekele', 'belafonte', 'belarus', 'beleaguered', 'belfast', 'belgian', 'belgians', 'belgium', 'belgrade', 'belgrave', 'belief', 'beliefs', 'believe', 'believed', 'believer', 'believes', 'believing', 'belinda', 'belisha', 'bell', 'bellamy', 'belle', 'bellicose', 'bellion', 'bells', 'belmar', 'belmarsh', 'beloned', 'belong', 'belonged', 'belonging', 'belongings', 'belongs', 'belt', 'bemand', 'bemoaning', 'ben', 'bench', 'benches', 'benchmark', 'benchmarking', 'benchmarks', 'benckiser', 'bend', 'bending', 'benefactors', 'beneficial', 'beneficiaries', 'benefit', 'benefited', 'benefiting', 'benefits', 'benesova', 'benign', 'bening', 'benita', 'benitez', 'benjamin', 'benmosche', 'benn', 'bennallack', 'bennett', 'bennington', 'benny', 'bent', 'benz', 'berated', 'berbatov', 'berdych', 'bereft', 'beresford', 'bergamasco', 'berger', 'bergerac', 'bergh', 'bergkamp', 'bergman', 'berhane', 'berhanu', 'beringer', 'berkeley', 'berkovic', 'berlin', 'berlinale', 'berlusconi', 'bernabeu', 'bernal', 'bernard', 'bernardo', 'bernath', 'bernd', 'bernie', 'berry', 'bershawn', 'berson', 'bert', 'berta', 'berth', 'berthinussen', 'berti', 'bertie', 'bertolucci', 'beset', 'bespoke', 'best', 'bestow', 'bests', 'bestseller', 'bestsellers', 'bestselling', 'bet', 'beta', 'betamax', 'beth', 'bethan', 'bethnal', 'betray', 'betrayal', 'betrayed', 'betraying', 'bets', 'betsen', 'better', 'bettered', 'betting', 'betts', 'bevan', 'beverly', 'bewildered', 'bewildering', 'bewilderment', 'beynon', 'beyonce', 'bez', 'bhanu', 'bharti', 'bhi', 'bhp', 'bi', 'biarritz', 'bias', 'biased', 'bible', 'biblical', 'bibliographies', 'bicester', 'bickering', 'bicycles', 'bid', 'bidder', 'bidders', 'bidding', 'bide', 'bids', 'bifa', 'big', 'bigger', 'biggest', 'bigley', 'bigoted', 'bigotry', 'bigots', 'bike', 'bilateral', 'bilingual', 'biljon', 'billboard', 'billed', 'billing', 'billingsgate', 'billion', 'billionaire', 'billions', 'billiton', 'bills', 'billy', 'bin', 'binding', 'binge', 'bingham', 'bingo', 'binned', 'binoche', 'bins', 'bio', 'biocidal', 'biogen', 'biographer', 'biography', 'biological', 'biology', 'biopic', 'biotech', 'birch', 'birchfield', 'bird', 'birkenhead', 'birkett', 'birmingham', 'birth', 'birthday', 'birthdays', 'birthistle', 'biscan', 'biscuit', 'bisected', 'bishop', 'bishops', 'bisnis', 'bissell', 'bisset', 'bit', 'bite', 'biting', 'bits', 'bitter', 'bittersweet', 'bittorrent', 'biz', 'bizarre', 'bizet', 'bjorgo', 'bjorkman', 'bjorn', 'black', 'blackadder', 'blackberries', 'blackberry', 'blackburn', 'blackground', 'blacklists', 'blackmail', 'blackmailed', 'blackman', 'blackpool', 'blacks', 'blade', 'blair', 'blairite', 'blake', 'blame', 'blamed', 'blames', 'blaming', 'blanchard', 'blanche', 'blanchett', 'bland', 'blank', 'blass', 'blast', 'blasted', 'blasters', 'blasting', 'blasts', 'blatant', 'blaze', 'blazed', 'blazin', 'blazing', 'blb', 'bleak', 'bleakest', 'bleakly', 'blears', 'bled', 'bleep', 'bleeps', 'blemish', 'blend', 'blending', 'bless', 'blessed', 'blessing', 'blethyn', 'bleus', 'blew', 'blewitt', 'blige', 'blight', 'blighted', 'blighting', 'blind', 'blindingly', 'blinkx', 'blinx', 'blip', 'blistering', 'blisters', 'blitz', 'blizzard', 'bloc', 'block', 'blockbuster', 'blockbusters', 'blocked', 'blocking', 'blocks', 'blog', 'blogged', 'blogger', 'bloggers', 'blogging', 'bloglines', 'blogosphere', 'blogs', 'blogsphere', 'bloke', 'blom', 'blomefontein', 'blood', 'bloodline', 'bloody', 'bloom', 'bloomberg', 'blooming', 'bloomingdale', 'bloopers', 'blossoming', 'blow', 'blowing', 'blown', 'blows', 'blu', 'blue', 'bluegrass', 'bluephone', 'blueprint', 'blueprints', 'blues', 'bluetooth', 'bluewater', 'blume', 'blunkett', 'blunt', 'bluntly', 'blur', 'blurred', 'blurs', 'blushed', 'blushes', 'blushing', 'blustery', 'blythe', 'bmg', 'bmo', 'bmr', 'bmw', 'bn', 'bnp', 'bo', 'board', 'boarding', 'boardroom', 'boardrooms', 'boards', 'boast', 'boasted', 'boasts', 'boat', 'boateng', 'boats', 'bob', 'bobby', 'bobs', 'boca', 'bod', 'bode', 'bodes', 'bodied', 'bodies', 'bodinat', 'bodleian', 'body', 'bodyguard', 'boe', 'boeing', 'boerse', 'bogart', 'bogdanov', 'bogdanovic', 'bogus', 'boi', 'boil', 'boiled', 'boiler', 'boils', 'boix', 'boks', 'bold', 'bolder', 'bollan', 'bollywood', 'bolster', 'bolted', 'bolton', 'bolts', 'bomb', 'bombard', 'bombarded', 'bombardier', 'bombastic', 'bombay', 'bombers', 'bombing', 'bombings', 'bombs', 'bona', 'bonar', 'bond', 'bonderman', 'bondi', 'bonds', 'bondy', 'bone', 'bones', 'bonham', 'bonhams', 'bonn', 'bonnaire', 'bonnie', 'bonny', 'bono', 'bonus', 'bonuses', 'boo', 'boogeyman', 'book', 'booked', 'booker', 'bookies', 'booking', 'bookings', 'bookmaker', 'bookmakers', 'books', 'booksellers', 'bookshelves', 'boom', 'boomed', 'booming', 'booms', 'boost', 'boosted', 'boosting', 'boosts', 'boot', 'booted', 'booth', 'bootle', 'boots', 'booz', 'booze', 'boramae', 'border', 'borders', 'bordesley', 'bore', 'bored', 'boring', 'boris', 'born', 'borne', 'boro', 'borough', 'boroughs', 'borrell', 'borrow', 'borrowed', 'borrowers', 'borrowing', 'bortey', 'borthwick', 'bortolami', 'borussia', 'bosch', 'boscholt', 'boss', 'bosses', 'bossy', 'boston', 'bosworth', 'bot', 'botch', 'botha', 'bother', 'bothered', 'bots', 'botswana', 'bottle', 'bottled', 'bottlenecks', 'bottles', 'bouba', 'boudewijn', 'bought', 'boukar', 'boulevard', 'boulton', 'bounce', 'bounced', 'bouncers', 'bouncing', 'bound', 'boundaries', 'boundary', 'bounded', 'bounty', 'bouquets', 'bourgoin', 'bourn', 'bourne', 'bournemouth', 'bourse', 'bout', 'bovina', 'bow', 'bowden', 'bowe', 'bowie', 'bowl', 'bowles', 'bowman', 'bows', 'box', 'boxer', 'boxes', 'boxing', 'boy', 'boyd', 'boyfriend', 'boyfriends', 'boyko', 'boyle', 'boynton', 'boys', 'boyzone', 'bozzi', 'bp', 'bpd', 'bpi', 'brace', 'braced', 'bracelet', 'bracing', 'bracket', 'brackets', 'bracknell', 'brad', 'bradford', 'bradshaw', 'brady', 'braff', 'brag', 'bragging', 'braille', 'brain', 'brainchild', 'brains', 'brainwave', 'brainwaves', 'brake', 'brakes', 'braking', 'bramham', 'branch', 'branches', 'brand', 'branded', 'branding', 'brando', 'brands', 'brandy', 'brankin', 'brannen', 'branson', 'brass', 'bratman', 'brave', 'braved', 'bravely', 'bravery', 'brawl', 'brawn', 'brazenly', 'brazil', 'brazilian', 'brazilians', 'brc', 'breach', 'breached', 'breaches', 'breaching', 'bread', 'breadline', 'breadth', 'break', 'breakdown', 'breakers', 'breakfast', 'breaking', 'breaks', 'breakthrough', 'breast', 'breath', 'breathalysed', 'breathed', 'breathtaking', 'brebner', 'breed', 'breeding', 'breezes', 'bremner', 'brenda', 'brendan', 'brennan', 'brent', 'brentford', 'brett', 'breville', 'brewer', 'breweries', 'brewers', 'brewery', 'brewing', 'breyer', 'brian', 'bribery', 'brick', 'bricks', 'bride', 'bridge', 'bridgepoint', 'bridges', 'bridget', 'brie', 'brief', 'briefcase', 'briefed', 'briefers', 'briefing', 'briefings', 'briefly', 'brien', 'brigade', 'bright', 'brightcove', 'brighten', 'brighter', 'brightest', 'brightly', 'brightmail', 'brighton', 'brigitte', 'brilliance', 'brilliant', 'brilliantly', 'brimming', 'brindley', 'bring', 'bringing', 'brings', 'brink', 'brinkman', 'brisbane', 'bristol', 'brit', 'britain', 'britains', 'britannia', 'british', 'britney', 'briton', 'britons', 'britpop', 'brits', 'britten', 'britz', 'brive', 'brixton', 'broad', 'broadband', 'broadcast', 'broadcaster', 'broadcasters', 'broadcasting', 'broadcasts', 'broaden', 'broadened', 'broader', 'broadly', 'broadreach', 'broadsheet', 'broadside', 'broadus', 'broadway', 'broccoli', 'brody', 'broes', 'brokaw', 'broke', 'broken', 'broker', 'brokerage', 'brokerages', 'brokered', 'brokers', 'broking', 'brolin', 'brom', 'bromesberrow', 'bromsgrove', 'bromwich', 'bronchitis', 'bronze', 'bronzes', 'brooker', 'brooks', 'brookstein', 'broom', 'bros', 'brosnan', 'brothels', 'brother', 'brotherhood', 'brothers', 'brought', 'brown', 'browne', 'brownie', 'brownite', 'brownlees', 'browse', 'browsed', 'browser', 'browsers', 'browses', 'browsing', 'bruce', 'bruer', 'bruins', 'bruised', 'bruising', 'brunei', 'bruni', 'brunini', 'bruno', 'brunswick', 'brusca', 'brush', 'brushed', 'brussels', 'brutal', 'brutally', 'brute', 'bryan', 'bryce', 'bryn', 'bryson', 'bsa', 'bse', 'bskyb', 'bsl', 'bst', 'bt', 'bubble', 'bubbles', 'bubbling', 'buccaneer', 'buccaneers', 'bucharest', 'buck', 'bucket', 'buckfield', 'bucking', 'buckingham', 'buckinghamshire', 'buckland', 'buckling', 'bucks', 'bud', 'budapest', 'budd', 'buddhist', 'buddy', 'budge', 'budget', 'budgetary', 'budgeted', 'budgets', 'buds', 'buena', 'buenos', 'buerk', 'buffel', 'buffers', 'buffs', 'bug', 'bugs', 'buick', 'build', 'builder', 'builders', 'building', 'buildings', 'builds', 'buildyourown', 'built', 'buju', 'bulb', 'bulbs', 'bulgaria', 'bulgarian', 'bulging', 'bulk', 'bulky', 'bull', 'bullet', 'bulletin', 'bulletins', 'bullets', 'bullfrog', 'bullish', 'bulloch', 'bullock', 'bulls', 'bully', 'bullying', 'bump', 'bumper', 'bumps', 'bunch', 'bundesbank', 'bundle', 'bundled', 'bundling', 'bungalow', 'bunnymen', 'bunuel', 'buoy', 'buoyant', 'buoyed', 'buoying', 'burberry', 'burden', 'burdens', 'burdensome', 'bureau', 'bureaucracy', 'bureaucratic', 'bureaucratism', 'bureaucrats', 'burgeoning', 'burger', 'burgess', 'burglar', 'burglary', 'buried', 'buries', 'burke', 'burma', 'burn', 'burner', 'burning', 'burnley', 'burnout', 'burns', 'burrell', 'burrow', 'bursary', 'burst', 'bursting', 'bursts', 'burt', 'bury', 'burying', 'bus', 'buscemi', 'bush', 'bushtucker', 'busier', 'busiest', 'business', 'businesses', 'businessman', 'businessmen', 'bussell', 'bust', 'busted', 'busting', 'busy', 'butcher', 'bute', 'butler', 'butlers', 'butragueno', 'buts', 'butt', 'butterflies', 'butters', 'butting', 'button', 'buttons', 'buxton', 'buy', 'buyback', 'buybacks', 'buyer', 'buyers', 'buying', 'buyout', 'buys', 'buzz', 'buzzing', 'buzzwords', 'bwv', 'bye', 'byline', 'byodkm', 'bypass', 'bypassed', 'bypassing', 'byrne', 'byron', 'bysshe', 'c180', 'c4', 'ca', 'caan', 'caballeros', 'cabin', 'cabinet', 'cabinets', 'cabir', 'cable', 'cables', 'caborn', 'cache', 'cachet', 'cactus', 'cadbury', 'cadena', 'cadillac', 'cadle', 'cadmium', 'caf', 'cafe', 'cafes', 'cafod', 'cafu', 'cagigal', 'cahill', 'caillet', 'caire', 'cairn', 'cairo', 'cake', 'calculate', 'calculated', 'calculations', 'calculator', 'calculators', 'calcutta', 'calder', 'caldwell', 'calendar', 'calf', 'calibre', 'calico', 'california', 'callaghan', 'called', 'calleri', 'callers', 'calling', 'callow', 'calls', 'calm', 'calmer', 'calming', 'calorie', 'calum', 'calvin', 'calvisano', 'camara', 'camaraderie', 'camberley', 'cambiemos', 'cambodia', 'cambridge', 'cambridgeshire', 'camcorder', 'camcorders', 'camden', 'came', 'camels', 'cameo', 'camera', 'cameras', 'cameron', 'cameroon', 'cameroonians', 'camilla', 'camille', 'camp', 'campaign', 'campaigned', 'campaigner', 'campaigners', 'campaigning', 'campaigns', 'campbell', 'camped', 'campell', 'camper', 'camps', 'canada', 'canadian', 'canal', 'canale', 'canaries', 'canary', 'canas', 'canberra', 'cancel', 'cancellation', 'cancellations', 'cancelled', 'cancelling', 'cancels', 'cancer', 'candela', 'candid', 'candidate', 'candidates', 'candillon', 'cannabidiol', 'cannabis', 'canned', 'cannes', 'cannibalism', 'cannibals', 'cannisters', 'cannon', 'canny', 'canopy', 'cans', 'cantalupo', 'cantata', 'canterbury', 'cantona', 'cantonese', 'canvass', 'canvassers', 'canvassing', 'canyon', 'cao', 'cap', 'capabilities', 'capability', 'capable', 'capacities', 'capacity', 'cape', 'capella', 'capellas', 'capgemini', 'capital', 'capitalisation', 'capitalise', 'capitalised', 'capitol', 'capitulate', 'capitulation', 'capleton', 'capped', 'capra', 'capriati', 'caprice', 'caps', 'capt', 'captain', 'captaincy', 'captained', 'captaining', 'captains', 'caption', 'captioning', 'captivated', 'captivity', 'capture', 'captured', 'captures', 'capturing', 'car', 'cara', 'caramel', 'carat', 'caravaggio', 'caravan', 'carbon', 'carbonated', 'card', 'carded', 'carderplanet', 'cardiff', 'cards', 'cardwell', 'care', 'cared', 'career', 'careers', 'careful', 'carefully', 'careless', 'carer', 'carers', 'caretaker', 'carey', 'carib', 'caribbean', 'caribs', 'caricatures', 'caring', 'carl', 'carla', 'carling', 'carlish', 'carlisle', 'carlo', 'carlos', 'carlsberg', 'carlsen', 'carly', 'carmaker', 'carmakers', 'carmaking', 'carmen', 'carnival', 'carol', 'carolina', 'caroline', 'carousing', 'carpet', 'carpets', 'carr', 'carragher', 'carrey', 'carried', 'carrier', 'carriers', 'carries', 'carroll', 'carrow', 'carry', 'carrying', 'cars', 'carsley', 'carson', 'carsoni', 'carsten', 'carswell', 'carta', 'cartagena', 'carte', 'cartel', 'carter', 'carthy', 'cartilage', 'cartoon', 'cartoons', 'cartridge', 'cartridges', 'carvalho', 'carve', 'carved', 'carving', 'carwyn', 'cas', 'casablanca', 'casalme', 'case', 'cases', 'casey', 'cash', 'cashed', 'casino', 'casinos', 'casio', 'caspian', 'cassette', 'cast', 'castaldo', 'casting', 'castle', 'castor', 'castro', 'castrogiovanni', 'casts', 'casual', 'casualties', 'casualty', 'cat', 'catalan', 'catalina', 'catalogue', 'catalogues', 'cataloguing', 'catalyst', 'catastrophe', 'catch', 'catches', 'catching', 'catchy', 'cate', 'categories', 'categorisation', 'categorise', 'category', 'cates', 'catherine', 'catholic', 'catholics', 'cathy', 'cats', 'catsuit', 'cattle', 'cattrall', 'catweazle', 'caudwell', 'caught', 'cauldron', 'cause', 'caused', 'causes', 'causeway', 'causing', 'caustic', 'caution', 'cautioned', 'cautions', 'cautious', 'cautiously', 'cavalcade', 'cavalier', 'cavanagh', 'cave', 'cazalets', 'cb', 'cbbc', 'cbi', 'cbo', 'cbs', 'ccf', 'cctv', 'cd', 'cdp', 'cds', 'cea', 'cease', 'ceased', 'ceasefire', 'cech', 'cecil', 'cedric', 'cegetel', 'ceiling', 'celebrate', 'celebrated', 'celebrates', 'celebrating', 'celebration', 'celebrations', 'celebrities', 'celebrity', 'celeron', 'celestine', 'celine', 'cell', 'cellery', 'cellnet', 'cells', 'celltick', 'celta', 'celtic', 'celts', 'cement', 'cemented', 'cemetery', 'censor', 'censors', 'censorship', 'cent', 'centenary', 'center', 'centimetres', 'centr', 'central', 'centralise', 'centrally', 'centre', 'centred', 'centrepiece', 'centres', 'centring', 'cents', 'centuries', 'century', 'ceo', 'ceplak', 'cept', 'ceremonies', 'ceremony', 'ceri', 'certain', 'certainly', 'certainty', 'certificate', 'certificates', 'certified', 'certify', 'ces', 'cesar', 'cesars', 'cesc', 'cessna', 'cfa', 'cfca', 'cfx', 'cg', 'cga', 'cgi', 'chabal', 'chain', 'chained', 'chains', 'chainsaw', 'chair', 'chaired', 'chairing', 'chairman', 'chairmanship', 'chairmen', 'chairs', 'chairwoman', 'chaiyasoot', 'chakrabarti', 'chalfont', 'chalk', 'challenge', 'challenged', 'challenger', 'challengers', 'challenges', 'challenging', 'chamber', 'chambers', 'chambre', 'champagne', 'champion', 'championing', 'champions', 'championship', 'championships', 'chan', 'chance', 'chancellor', 'chancellors', 'chances', 'chandler', 'chandon', 'chang', 'change', 'changeable', 'changed', 'changeover', 'changer', 'changes', 'changi', 'changing', 'chango', 'channel', 'channelled', 'channels', 'chanting', 'chants', 'chaos', 'chaotic', 'chap', 'chapel', 'chaplin', 'chapter', 'chapters', 'character', 'characterised', 'characterises', 'characteristic', 'characteristically', 'characteristics', 'characterized', 'characters', 'charade', 'charbonnier', 'charcote', 'charge', 'charged', 'charges', 'charging', 'charing', 'charisma', 'charismatic', 'charities', 'charity', 'charlatans', 'charleroi', 'charles', 'charlie', 'charlize', 'charlotte', 'charlton', 'charly', 'charm', 'charming', 'charms', 'chart', 'charted', 'charter', 'chartered', 'charting', 'charts', 'charvis', 'chase', 'chased', 'chases', 'chasing', 'chassis', 'chat', 'chatham', 'chatted', 'chatter', 'chavez', 'cheadle', 'cheap', 'cheapened', 'cheaper', 'cheapest', 'cheaply', 'cheating', 'cheats', 'check', 'checked', 'checking', 'checkpoints', 'checks', 'cheeky', 'cheer', 'cheerful', 'cheering', 'cheerleader', 'cheers', 'cheese', 'cheeses', 'cheetham', 'chef', 'chela', 'chelsea', 'chelsom', 'chemical', 'chemicals', 'chemistry', 'chen', 'cheney', 'chennai', 'chepkemei', 'cheque', 'cherie', 'cherish', 'cherkasky', 'cherkasova', 'chernin', 'cheshire', 'chest', 'chester', 'cheung', 'chevrolet', 'chevrontexaco', 'chi', 'chic', 'chicago', 'chicken', 'chicoine', 'chidambaram', 'chides', 'chief', 'chiefly', 'chiefs', 'chieko', 'chiffon', 'chiffre', 'chihwaseon', 'child', 'childcare', 'childe', 'childhood', 'childhoods', 'childishness', 'childlike', 'children', 'childrens', 'childs', 'chile', 'chilean', 'chill', 'chilly', 'chin', 'china', 'chinese', 'chino', 'chip', 'chipped', 'chipping', 'chips', 'chirac', 'chiropractor', 'chit', 'chittabrata', 'chivas', 'choice', 'choices', 'choir', 'choking', 'cholesterol', 'chomsky', 'chong', 'chongqing', 'chook', 'choose', 'chooses', 'choosing', 'chop', 'chopin', 'chopped', 'chore', 'choreographed', 'choreographer', 'choreographers', 'choreography', 'choristes', 'chorlton', 'chorton', 'chorus', 'chose', 'chosen', 'chris', 'chrissie', 'christ', 'christchurch', 'christian', 'christianity', 'christians', 'christie', 'christina', 'christine', 'christmas', 'christmases', 'christophe', 'christopher', 'christos', 'chromium', 'chronic', 'chronicle', 'chronicles', 'chronology', 'chronometer', 'chrysler', 'chubb', 'chunk', 'church', 'churches', 'churchill', 'churlishly', 'churn', 'churning', 'chuter', 'cia', 'ciara', 'cibc', 'cicero', 'cigala', 'cigarette', 'cigarettes', 'cigars', 'cinema', 'cinemagoers', 'cinemas', 'cinematic', 'cinematographer', 'cinematographically', 'cinematography', 'ciphertrust', 'cips', 'circle', 'circles', 'circling', 'circs', 'circuit', 'circuits', 'circular', 'circulate', 'circulating', 'circulation', 'circumstances', 'circumvent', 'circuses', 'cirkus', 'cis', 'cisco', 'cisse', 'cite', 'cited', 'cites', 'citibank', 'cities', 'citigroup', 'citing', 'citizen', 'citizens', 'citizenship', 'citreon', 'citu', 'city', 'civil', 'civilian', 'civilians', 'civilisation', 'civilised', 'cj', 'ckx', 'claassens', 'claes', 'claim', 'claimed', 'claiming', 'claims', 'claire', 'clam', 'clamour', 'clamp', 'clampdown', 'clampett', 'clamping', 'clamshell', 'clan', 'clancy', 'clandestine', 'clangers', 'clank', 'clans', 'clapping', 'clapton', 'claquin', 'clara', 'clare', 'clarence', 'clarets', 'claridge', 'clarified', 'clarifying', 'clarity', 'clark', 'clarke', 'clarkson', 'clash', 'clashed', 'clashes', 'class', 'classed', 'classes', 'classic', 'classical', 'classics', 'classification', 'classifications', 'classified', 'classifying', 'classroom', 'classy', 'claude', 'claudia', 'claudio', 'clause', 'clauses', 'clawed', 'claws', 'claxton', 'clay', 'clayton', 'clean', 'cleaned', 'cleaner', 'cleaners', 'cleaning', 'clear', 'clearance', 'cleared', 'clearer', 'clearest', 'clearing', 'clearly', 'clearskies', 'clearstream', 'clearswift', 'clearview', 'cleese', 'clem', 'clement', 'clemente', 'clergy', 'clergyman', 'clerical', 'clerk', 'cleveland', 'clever', 'cleverly', 'cliche', 'clichy', 'click', 'clicked', 'clicking', 'clicks', 'client', 'clients', 'cliff', 'cliffhanger', 'clijsters', 'climan', 'climate', 'climax', 'climb', 'climbdown', 'climbed', 'climbing', 'climbs', 'clinch', 'clinched', 'clinches', 'clinching', 'cling', 'clinging', 'clinic', 'clinical', 'clinically', 'clint', 'clinton', 'clipping', 'clips', 'clitheroe', 'clive', 'clock', 'clocked', 'clocking', 'clockwork', 'cloete', 'clog', 'clogged', 'clones', 'cloning', 'clooney', 'close', 'closed', 'closely', 'closer', 'closes', 'closest', 'closet', 'closets', 'closing', 'closure', 'closures', 'clothe', 'clothes', 'clothing', 'cloud', 'clouded', 'clouding', 'clowns', 'club', 'club2school', 'clubbing', 'clubs', 'clues', 'cluley', 'clump', 'clumsily', 'clumsy', 'clung', 'clunkiness', 'clutch', 'clutches', 'clutter', 'clutterbuck', 'clyde', 'cmf', 'cml', 'cnpc', 'coach', 'coached', 'coaches', 'coaching', 'coachmen', 'coagulant', 'coal', 'coalition', 'coarse', 'coast', 'coastal', 'coasted', 'coat', 'coatings', 'coax', 'cobain', 'cobalt', 'cobblestones', 'cobham', 'coby', 'cocaine', 'cochilco', 'cock', 'cockbain', 'cockerell', 'cockerill', 'cocktail', 'coddled', 'code', 'coded', 'codelco', 'codenamed', 'coders', 'codes', 'coe', 'coffee', 'coffers', 'coghlan', 'cogniron', 'cohen', 'coherence', 'coherent', 'cohesion', 'cohorts', 'coin', 'coincide', 'coincidence', 'coincidentally', 'coinciding', 'coined', 'coins', 'coking', 'col', 'cola', 'cold', 'coldplay', 'cole', 'coleman', 'colen', 'coleraine', 'colgan', 'colin', 'collaborated', 'collaboration', 'collaborations', 'collaborative', 'collaborators', 'collapse', 'collapsed', 'collapses', 'collar', 'collateral', 'collating', 'colleague', 'colleagues', 'collect', 'collected', 'collecting', 'collection', 'collections', 'collective', 'collectively', 'collector', 'collectors', 'college', 'colleges', 'collide', 'colliding', 'collier', 'collingwood', 'collins', 'collision', 'collison', 'colloquial', 'colluded', 'colombia', 'colombian', 'colon', 'colonel', 'colonisation', 'colony', 'colorado', 'colorectal', 'colosseum', 'colour', 'coloured', 'colourful', 'colours', 'coltrane', 'columbia', 'column', 'columnist', 'columns', 'com', 'coma', 'comb', 'combat', 'combatant', 'combatants', 'combating', 'combats', 'combination', 'combine', 'combined', 'combines', 'combining', 'come', 'comeback', 'comedian', 'comedians', 'comedic', 'comedies', 'comedy', 'comers', 'comes', 'comfort', 'comfortable', 'comfortably', 'comic', 'comics', 'coming', 'command', 'commanded', 'commandeered', 'commander', 'commanders', 'commanding', 'commands', 'commemoration', 'commences', 'commencing', 'commendable', 'comment', 'commentary', 'commentate', 'commentator', 'commentators', 'commented', 'commenting', 'comments', 'commerce', 'commercial', 'commercialised', 'commercially', 'commercials', 'commerzbank', 'commission', 'commissioned', 'commissioner', 'commissions', 'commit', 'commitment', 'commitments', 'committed', 'committee', 'committees', 'committing', 'commodities', 'commoditising', 'commodity', 'commodore', 'common', 'commonly', 'commonplace', 'commons', 'commonwealth', 'communicate', 'communicated', 'communicateresearch', 'communication', 'communications', 'communicator', 'communiqu', 'communism', 'communist', 'communists', 'communities', 'community', 'commuters', 'compact', 'companies', 'companion', 'companions', 'company', 'comparable', 'comparatively', 'compare', 'compared', 'compares', 'comparing', 'comparison', 'comparisons', 'compass', 'compatibility', 'compatible', 'compatriot', 'compatriots', 'compelled', 'compelling', 'compensate', 'compensated', 'compensation', 'compete', 'competed', 'competences', 'competency', 'competent', 'competes', 'competing', 'competition', 'competitions', 'competitive', 'competitiveness', 'competitor', 'competitors', 'competitve', 'compile', 'compiled', 'compiles', 'compiling', 'complacency', 'complacent', 'complain', 'complained', 'complaining', 'complains', 'complaint', 'complaints', 'complete', 'completed', 'completely', 'completes', 'completing', 'completion', 'completions', 'complex', 'complexes', 'complexity', 'compliance', 'complicated', 'complied', 'comply', 'complying', 'component', 'components', 'composed', 'composer', 'composers', 'composite', 'composition', 'compositions', 'compostable', 'composure', 'compounded', 'comprehensive', 'comprehensively', 'compress', 'compressed', 'compressing', 'compression', 'comprise', 'comprised', 'comprises', 'comprising', 'compromise', 'compromised', 'compromises', 'compromising', 'comptroller', 'compulsion', 'compulsive', 'compulsory', 'computational', 'computer', 'computeractive', 'computerandvideogames', 'computerised', 'computers', 'computing', 'conceal', 'concealed', 'concealing', 'concede', 'conceded', 'concedes', 'conceding', 'conceivable', 'conceived', 'concentrate', 'concentrated', 'concentrates', 'concentrating', 'concentration', 'concept', 'concepts', 'conceptually', 'concern', 'concerned', 'concerning', 'concerns', 'concert', 'concerted', 'concerts', 'concession', 'concessions', 'conchita', 'conciliation', 'conciliatory', 'concise', 'conclude', 'concluded', 'concludes', 'concluding', 'conclusion', 'conclusions', 'conclusively', 'concrete', 'concurrently', 'condemned', 'condemns', 'condition', 'conditions', 'condoleezza', 'condom', 'conducive', 'conduct', 'conducted', 'conducting', 'conductive', 'conductor', 'conducts', 'confectionery', 'confederation', 'confer', 'conference', 'conferences', 'conferencing', 'conferring', 'confess', 'confessed', 'confesses', 'confession', 'confessions', 'confided', 'confidence', 'confident', 'confidential', 'confidentiality', 'confidently', 'confifi', 'confined', 'confines', 'confirm', 'confirmation', 'confirmed', 'confirming', 'confirms', 'confiscatory', 'conflict', 'conflicting', 'conflicts', 'conform', 'conformity', 'confound', 'confounded', 'confront', 'confrontation', 'confrontational', 'confronted', 'confuse', 'confused', 'confusing', 'confusingly', 'confusion', 'congenial', 'congested', 'conglomerate', 'congratulate', 'congratulated', 'congratulates', 'congratulations', 'congress', 'congressional', 'congressmen', 'conjoined', 'conjuction', 'conjunction', 'conjured', 'conleth', 'conlon', 'conmen', 'connaught', 'connect', 'connected', 'connectedness', 'connecting', 'connection', 'connections', 'connectivity', 'connectotel', 'connell']\n"
     ]
    }
   ],
   "source": [
    "feature_names = vectorizer.get_feature_names()\n",
    "\n",
    "print(len(feature_names))\n",
    "print(feature_names[:5000])"
   ]
  },
  {
   "cell_type": "code",
   "execution_count": 11,
   "metadata": {},
   "outputs": [
    {
     "name": "stdout",
     "output_type": "stream",
     "text": [
      "  (0, 8691)\t1\n",
      "  (0, 17213)\t5\n",
      "  (0, 3028)\t1\n",
      "  (0, 14107)\t1\n",
      "  (0, 7349)\t3\n",
      "  (0, 4579)\t1\n",
      "  (0, 1799)\t1\n",
      "  (0, 17495)\t2\n",
      "  (0, 12136)\t2\n",
      "  (0, 6057)\t1\n",
      "  (0, 20610)\t3\n",
      "  (0, 19547)\t1\n",
      "  (0, 258)\t1\n",
      "  (0, 112)\t1\n",
      "  (0, 13630)\t3\n",
      "  (0, 12245)\t1\n",
      "  (0, 10940)\t2\n",
      "  (0, 6878)\t1\n",
      "  (0, 12608)\t2\n",
      "  (0, 5568)\t4\n",
      "  (0, 9461)\t2\n",
      "  (0, 7091)\t1\n",
      "  (0, 17403)\t2\n",
      "  (0, 14117)\t1\n",
      "  (0, 16493)\t4\n",
      "  :\t:\n",
      "  (1191, 21969)\t1\n",
      "  (1191, 16640)\t1\n",
      "  (1191, 10392)\t1\n",
      "  (1191, 1691)\t1\n",
      "  (1191, 5273)\t1\n",
      "  (1191, 2551)\t1\n",
      "  (1191, 19456)\t1\n",
      "  (1191, 4478)\t1\n",
      "  (1191, 3365)\t2\n",
      "  (1191, 16537)\t1\n",
      "  (1191, 15862)\t1\n",
      "  (1191, 10695)\t1\n",
      "  (1191, 10915)\t1\n",
      "  (1191, 16538)\t1\n",
      "  (1191, 21086)\t1\n",
      "  (1191, 10307)\t1\n",
      "  (1191, 15670)\t1\n",
      "  (1191, 14906)\t1\n",
      "  (1191, 9750)\t2\n",
      "  (1191, 15807)\t1\n",
      "  (1191, 22201)\t1\n",
      "  (1191, 14575)\t2\n",
      "  (1191, 20073)\t1\n",
      "  (1191, 21135)\t1\n",
      "  (1191, 19862)\t1\n"
     ]
    }
   ],
   "source": [
    "print(train_vector_data)"
   ]
  },
  {
   "cell_type": "markdown",
   "metadata": {},
   "source": [
    "Para ver qué términos se han extraído de cada noticia, utilizamos la función write_terms para poder mostrar el texto de una noticia y su versión vectorizada."
   ]
  },
  {
   "cell_type": "code",
   "execution_count": 12,
   "metadata": {},
   "outputs": [],
   "source": [
    "import numpy.ma as ma\n",
    "\n",
    "def write_terms (feature_names, data, vector_data, index):\n",
    "    '''\n",
    "    Escribe los términos presentes en un mensaje representado como bolsa de palabras.\n",
    "    \n",
    "    - feature_names: terminos usados para vectorizar\n",
    "    - data: lista de mensajes original (si data==None no se muestra el mensaje original)\n",
    "    - vector_data: matriz (dispersa) de mensaje vectorizados\n",
    "    - index: posición del mensaje a mostrar\n",
    "    '''\n",
    "    # máscara para seleccionar sólo el mensaje en posición index\n",
    "    mask=vector_data[index,:]>0\n",
    "    \n",
    "    # términos que aparecen en ese mensaje vectorizado\n",
    "    terminos = ma.array(feature_names, mask = ~(mask[0].toarray()))\n",
    "    \n",
    "    # mostrar mensaje original\n",
    "    if data is not None:\n",
    "        print('Mensaje', index, ':', data[index])\n",
    "    \n",
    "    # mostrar términos que aparecen en el mensaje vectorizado\n",
    "    print('\\n','Mensaje', index, 'vectorizado:', terminos.compressed(),'\\n')"
   ]
  },
  {
   "cell_type": "code",
   "execution_count": 13,
   "metadata": {},
   "outputs": [
    {
     "name": "stdout",
     "output_type": "stream",
     "text": [
      "Mensaje 250 : blair to face trust issue head on tony blair says he will be facing the issue of trust and his own integrity head on during the election campaign.  during a question and answer session with first-time voters on five news  mr blair said he had no option but to  confront it  by talking to people. he also dismissed claims government plans to get 50% of young people into university would devalue degrees. he was not  forcing  anyone to go to university  but places should be there for those who wanted them  he said. in answer to a question from 22-year-old liverpool student david dunne about concerns over the prime minister s personal integrity  mr blair said talking was the only answer.  you ve just got to confront it and say to people let s have a discussion on the things that worry you  the things that make you say  i can t trust you  or  i am against you on this.   the  worst thing in politics  was that the electorate only got  little snatches of policy  from things like prime minister s questions and the news headlines. this was why he wanted to  get out of the 30 seconds on the news   he added.  by talking through policies at least people understood the reason for them  even if they did not agree with them  he said. mr blair also faced questions about british policy on iran and its alleged nuclear weapons programme. he insisted there was no plan for an invasion of the country saying:  sometimes people say because of what has happened in iraq this is the next place.  instead there was a real chance of a  peaceful resolution  to the problem  he said.\n",
      "\n",
      " Mensaje 250 vectorizado: ['22' '30' '50' 'added' 'agree' 'alleged' 'answer' 'blair' 'british'\n",
      " 'campaign' 'chance' 'claims' 'concerns' 'confront' 'country' 'david'\n",
      " 'degrees' 'devalue' 'did' 'discussion' 'dismissed' 'dunne' 'election'\n",
      " 'electorate' 'face' 'faced' 'facing' 'forcing' 'got' 'government'\n",
      " 'happened' 'head' 'headlines' 'insisted' 'instead' 'integrity' 'invasion'\n",
      " 'iran' 'iraq' 'issue' 'just' 'let' 'like' 'little' 'liverpool' 'make'\n",
      " 'minister' 'mr' 'news' 'nuclear' 'old' 'option' 'peaceful' 'people'\n",
      " 'personal' 'place' 'places' 'plan' 'plans' 'policies' 'policy' 'politics'\n",
      " 'prime' 'problem' 'programme' 'question' 'questions' 'real' 'reason'\n",
      " 'resolution' 'said' 'say' 'saying' 'says' 'seconds' 'session' 'snatches'\n",
      " 'student' 'talking' 'thing' 'things' 'time' 'tony' 'trust' 'understood'\n",
      " 'university' 've' 'voters' 'wanted' 'weapons' 'worry' 'worst' 'year'\n",
      " 'young'] \n",
      "\n"
     ]
    }
   ],
   "source": [
    "write_terms(feature_names, train_n, train_vector_data, 250)"
   ]
  },
  {
   "cell_type": "markdown",
   "metadata": {},
   "source": [
    "Analicemos que términos se han extraido y cuales se han seleccionado para el texto del artículo 250. En primer lugar, observamos algo de ruido, como por ejemplo términos numéricos, que pueden clasificarse bien, aunque no por las razones correctas. Si hubieramos usado únicamente las palabras de un diccionario, no tendriamos este problema, aunque esto por contra eliminaría muchas palabras que no estuvieran en el diccionario y que potencialmente pueden ser decisivas en el proceso de clasificación. En segundo lugar, notamos que se han extraido palabras muy comunes y con poca semántica (artículos, preposiciones...), como por ejemplo 'on', 'the' o 'to', gracias a que hemos utilizado stop_words = 'english'. Por último, si vamos una a una en este texto en particular, vemos de manera informal que casi la totalidad de las palabras que consideraríamos relevantes en el texto han sido seleccionadas, que es lo que queremos para poder hacer una clasificación adecuada."
   ]
  },
  {
   "cell_type": "markdown",
   "metadata": {},
   "source": [
    "Como último paso de la vectorización, para probar los clasificadores en el conjunto de test, transformamos también los mensajes en bolsas de palabras usando el `CountVectorizer` ajustado con el conjunto de entrenamiento. Usamos, como se mencionó anteriormente, solamente el transform en el conjunto de test (de forma que se usa lo aprendido en el conjunto de entrenamiento)."
   ]
  },
  {
   "cell_type": "code",
   "execution_count": 14,
   "metadata": {},
   "outputs": [
    {
     "name": "stdout",
     "output_type": "stream",
     "text": [
      "  (0, 112)\t1\n",
      "  (0, 612)\t1\n",
      "  (0, 723)\t1\n",
      "  (0, 887)\t1\n",
      "  (0, 1251)\t1\n",
      "  (0, 1402)\t1\n",
      "  (0, 1625)\t2\n",
      "  (0, 3118)\t1\n",
      "  (0, 3269)\t2\n",
      "  (0, 3868)\t1\n",
      "  (0, 3928)\t1\n",
      "  (0, 4029)\t4\n",
      "  (0, 4031)\t1\n",
      "  (0, 4063)\t1\n",
      "  (0, 4281)\t1\n",
      "  (0, 4417)\t1\n",
      "  (0, 4471)\t1\n",
      "  (0, 5105)\t1\n",
      "  (0, 5350)\t1\n",
      "  (0, 5374)\t1\n",
      "  (0, 5627)\t1\n",
      "  (0, 5628)\t1\n",
      "  (0, 5694)\t1\n",
      "  (0, 5765)\t1\n",
      "  (0, 6567)\t1\n",
      "  :\t:\n",
      "  (297, 17256)\t2\n",
      "  (297, 17257)\t1\n",
      "  (297, 17605)\t1\n",
      "  (297, 17758)\t1\n",
      "  (297, 18485)\t1\n",
      "  (297, 18553)\t1\n",
      "  (297, 18937)\t3\n",
      "  (297, 18988)\t1\n",
      "  (297, 19076)\t3\n",
      "  (297, 19085)\t1\n",
      "  (297, 19086)\t3\n",
      "  (297, 19123)\t2\n",
      "  (297, 19169)\t1\n",
      "  (297, 19315)\t1\n",
      "  (297, 19474)\t1\n",
      "  (297, 19557)\t3\n",
      "  (297, 19600)\t2\n",
      "  (297, 20144)\t1\n",
      "  (297, 20811)\t2\n",
      "  (297, 21326)\t2\n",
      "  (297, 21574)\t1\n",
      "  (297, 21941)\t1\n",
      "  (297, 22183)\t1\n",
      "  (297, 22274)\t1\n",
      "  (297, 22284)\t1\n"
     ]
    }
   ],
   "source": [
    "# Tomamos los textos del conjunto de test y los transformamos en una matriz\n",
    "# de palabras. Al usar \"transform\" toma como referencia únicamente las palabras\n",
    "# encontradas en el conjunto de entrenamiento\n",
    "test_n = test.loc[:,'Text'].to_numpy()\n",
    "test_vector_data=vectorizer.transform(test_n)\n",
    "print(test_vector_data)"
   ]
  },
  {
   "cell_type": "markdown",
   "metadata": {},
   "source": [
    "### Naive Bayes Multinomial ###"
   ]
  },
  {
   "cell_type": "markdown",
   "metadata": {},
   "source": [
    "Entrenamos ahora un clasificador Naive Bayes Multinomial, que se utiliza cuando las variables son enteras no negativas (como en nuestro caso, que es el número de apariciones de cada palabra en el documento). Una vez hecho esto, mostramos la tasa de aciertos sobre los conjuntos de entrenamiento y de test por separado. "
   ]
  },
  {
   "cell_type": "code",
   "execution_count": 15,
   "metadata": {},
   "outputs": [
    {
     "name": "stdout",
     "output_type": "stream",
     "text": [
      "Multinomial Naive Bayes, porcentaje de aciertos en entrenamiento: 0.9949664429530202\n",
      "Multinomial Naive Bayes, porcentaje de aciertos en test: 0.9765100671140939\n"
     ]
    }
   ],
   "source": [
    "from sklearn.naive_bayes import MultinomialNB\n",
    "\n",
    "mnb_classifier = MultinomialNB()\n",
    "\n",
    "train_target = train.loc[:,'Category'].to_numpy()\n",
    "test_target = test.loc[:,'Category'].to_numpy()\n",
    "mnb_classifier.fit(train_vector_data, train_target)\n",
    "\n",
    "mnb_train_predictions = mnb_classifier.predict(train_vector_data)\n",
    "mnb_test_predictions = mnb_classifier.predict(test_vector_data)\n",
    "\n",
    "print(\"Multinomial Naive Bayes, porcentaje de aciertos en entrenamiento:\", np.mean(mnb_train_predictions == train_target))\n",
    "print(\"Multinomial Naive Bayes, porcentaje de aciertos en test:\", np.mean(mnb_test_predictions == test_target))"
   ]
  },
  {
   "cell_type": "markdown",
   "metadata": {},
   "source": [
    "Como análisis inicial, la tasa de aciertos sobre el conjunto de entrenamiento es considerablemente alta (aunque siempre relativa a la importancia que tenga fallar en el uso que tenga el clasificador), de más del 99%, al igual que sobre el conjunto de test, que es superior al 97%. Por razones obvias y como ocurrirá también en los sucesivos clasificadores, los resultados son mejores para el conjunto de entrenamiento, pero en este caso comprobamos la eficacia de nuestro clasificador sobre todo por la alta tasa de aciertos en el conjunto de test y la poca degradación en los resultados del conjunto de test, que no fue usado para entrenar el clasificador (esto también es indicativo de que nuestro calsificador no ha sobreaprendido, y no se ha ajustado en exceso a los datos de entrenamiento, comportandose bien antes nuevos datos externos al proceso de entrenamiento)."
   ]
  },
  {
   "cell_type": "markdown",
   "metadata": {},
   "source": [
    "Para hacer un análisis más detallado, calculemos algunos indicadores representativos de cada clase en base al conjunto de test."
   ]
  },
  {
   "cell_type": "code",
   "execution_count": 16,
   "metadata": {
    "scrolled": false
   },
   "outputs": [
    {
     "name": "stdout",
     "output_type": "stream",
     "text": [
      "               precision    recall  f1-score   support\n",
      "\n",
      "     business       0.97      0.97      0.97        75\n",
      "entertainment       1.00      1.00      1.00        46\n",
      "     politics       0.95      0.95      0.95        56\n",
      "        sport       0.98      1.00      0.99        63\n",
      "         tech       0.98      0.97      0.97        58\n",
      "\n",
      "     accuracy                           0.98       298\n",
      "    macro avg       0.98      0.98      0.98       298\n",
      " weighted avg       0.98      0.98      0.98       298\n",
      "\n"
     ]
    }
   ],
   "source": [
    "from sklearn.metrics import classification_report, confusion_matrix\n",
    "\n",
    "predictions = mnb_test_predictions\n",
    "print(classification_report(test_target, predictions))"
   ]
  },
  {
   "cell_type": "markdown",
   "metadata": {},
   "source": [
    "También mostramos la matriz de confusión (en el eje Y representa la clase a la que pertenece y en el eje X mostramos la predicción)"
   ]
  },
  {
   "cell_type": "code",
   "execution_count": 17,
   "metadata": {},
   "outputs": [
    {
     "data": {
      "text/plain": [
       "(array([0.5, 1.5, 2.5, 3.5, 4.5]),\n",
       " [Text(0.5, 0, 'business'),\n",
       "  Text(1.5, 0, 'entertainment'),\n",
       "  Text(2.5, 0, 'politics'),\n",
       "  Text(3.5, 0, 'sport'),\n",
       "  Text(4.5, 0, 'tech')])"
      ]
     },
     "execution_count": 17,
     "metadata": {},
     "output_type": "execute_result"
    },
    {
     "data": {
      "image/png": "[encoded data removed]",
      "text/plain": [
       "<Figure size 1080x720 with 2 Axes>"
      ]
     },
     "metadata": {
      "needs_background": "light"
     },
     "output_type": "display_data"
    }
   ],
   "source": [
    "%matplotlib inline\n",
    "import pandas as pd\n",
    "import seaborn as sn\n",
    "import matplotlib.pyplot as plt\n",
    "\n",
    "target_names = ['business', 'entertainment', 'politics', 'sport', 'tech']\n",
    "conf_matrix = confusion_matrix(test_target, predictions)\n",
    "conf_matrix_df = pd.DataFrame(conf_matrix, index=target_names, columns=target_names)\n",
    "\n",
    "plt.figure(figsize=(15, 10))\n",
    "sn.heatmap(conf_matrix_df, annot=True, vmin=0, vmax=conf_matrix.max(), fmt='d', cmap=\"YlGnBu\")\n",
    "plt.yticks(rotation=0)\n",
    "plt.xticks(rotation=90)"
   ]
  },
  {
   "cell_type": "markdown",
   "metadata": {},
   "source": [
    "Analizando lo obtenido, los resultados son buenos en todas las categorías, con medidas de precisión, recall y f1-score altas. Como ya vimos en teoría, el clasificador Naive-Bayes Multinomial simplifica la realidad asumiendo que todas las variables utilizadas son independientes, pero obtiene resultados tan buenos o mejores que otros clasificadores más complejos. Destacan los valores obtenidos para la categoría de entertainment, que tiene precision y recall de 1. Esto quiere decir que siempre que el clasificador dice que un artículo es de entretenimiento, acierta, y además los recupera todos. Esto se refleja en la matriz de confusión en la segunda fila y la segunda columna con todo ceros en posiciones fuera de la diagonal principal. No debería de sorprender lo anterior, puesto que de forma similar a como le pasa a la categoría sport que tiene un recall de 1 y una precisón alta de 0.98, estas categorías tiene artículos que se diferencian de manera significativa con el resto de categorías y entre ellas mismas, y en cambio (al igual que pasará en posteriores clasificadores) las categorías de business, tech y politics se confunden más al tener palabras similares en muchos casos. En concreto, la que menos precisión y recall tiene es politics, que podemos ver en la matriz de confusión que el clasificador piensa a veces que sus artículos son de tecnología o de negocios. "
   ]
  },
  {
   "cell_type": "markdown",
   "metadata": {},
   "source": [
    "### Clasificador k-NN ###"
   ]
  },
  {
   "cell_type": "markdown",
   "metadata": {},
   "source": [
    "Entrenamos también un clasificador K-NN con la configuración por defecto y usando la misma vectorización. De nuevo, mostramos la tasa de aciertos sobre los conjuntos de entrenamiento y de test por separado. "
   ]
  },
  {
   "cell_type": "code",
   "execution_count": 18,
   "metadata": {},
   "outputs": [
    {
     "name": "stdout",
     "output_type": "stream",
     "text": [
      "k-NN, porcentaje de aciertos en entrenamiento: 0.7030201342281879\n",
      "k-NN, porcentaje de aciertos en test: 0.5738255033557047\n"
     ]
    }
   ],
   "source": [
    "from sklearn import neighbors\n",
    "\n",
    "knn_classifier = neighbors.KNeighborsClassifier()\n",
    "knn_classifier.fit(train_vector_data, train_target)\n",
    "\n",
    "knn_train_predictions = knn_classifier.predict(train_vector_data)\n",
    "knn_test_predictions = knn_classifier.predict(test_vector_data)\n",
    "\n",
    "print(\"k-NN, porcentaje de aciertos en entrenamiento:\", np.mean(knn_train_predictions == train_target))\n",
    "print(\"k-NN, porcentaje de aciertos en test:\", np.mean(knn_test_predictions == test_target))"
   ]
  },
  {
   "cell_type": "markdown",
   "metadata": {},
   "source": [
    "Al analizar los resultados, observamos una tasa de aciertos bastante más baja que con el clasificador Naive Bayes Multinomial anterior tanto en el conjunto de entrenamiento como en el conjunto de test, que es de menos del 60%. Además, se acentúa la degradación en el conjunto de test respecto al conjunto de entrenamiento. Esto nos sorprendió en un primer momento, pero con el análisis que vamos a realizar ahora entenderemos las razones por las que ha ocurrido esto. Con este fin, calculemos como antes algunos indicadores más representativos de cada clase y la matriz de confusión."
   ]
  },
  {
   "cell_type": "code",
   "execution_count": 19,
   "metadata": {},
   "outputs": [
    {
     "name": "stdout",
     "output_type": "stream",
     "text": [
      "               precision    recall  f1-score   support\n",
      "\n",
      "     business       0.89      0.45      0.60        75\n",
      "entertainment       0.69      0.39      0.50        46\n",
      "     politics       0.93      0.77      0.84        56\n",
      "        sport       0.36      1.00      0.53        63\n",
      "         tech       0.93      0.22      0.36        58\n",
      "\n",
      "     accuracy                           0.57       298\n",
      "    macro avg       0.76      0.57      0.57       298\n",
      " weighted avg       0.76      0.57      0.57       298\n",
      "\n"
     ]
    }
   ],
   "source": [
    "predictions_k = knn_test_predictions\n",
    "\n",
    "print(classification_report(test_target, predictions_k))"
   ]
  },
  {
   "cell_type": "code",
   "execution_count": 20,
   "metadata": {},
   "outputs": [
    {
     "data": {
      "text/plain": [
       "(array([0.5, 1.5, 2.5, 3.5, 4.5]),\n",
       " [Text(0.5, 0, 'business'),\n",
       "  Text(1.5, 0, 'entertainment'),\n",
       "  Text(2.5, 0, 'politics'),\n",
       "  Text(3.5, 0, 'sport'),\n",
       "  Text(4.5, 0, 'tech')])"
      ]
     },
     "execution_count": 20,
     "metadata": {},
     "output_type": "execute_result"
    },
    {
     "data": {
      "image/png": "[encoded data removed]",
      "text/plain": [
       "<Figure size 1080x720 with 2 Axes>"
      ]
     },
     "metadata": {
      "needs_background": "light"
     },
     "output_type": "display_data"
    }
   ],
   "source": [
    "%matplotlib inline\n",
    "\n",
    "conf_matrix = confusion_matrix(test_target, predictions_k)\n",
    "conf_matrix_df = pd.DataFrame(conf_matrix, index=target_names, columns=target_names)\n",
    "\n",
    "plt.figure(figsize=(15, 10))\n",
    "sn.heatmap(conf_matrix_df, annot=True, vmin=0, vmax=conf_matrix.max(), fmt='d', cmap=\"YlGnBu\")\n",
    "plt.yticks(rotation=0)\n",
    "plt.xticks(rotation=90)"
   ]
  },
  {
   "cell_type": "markdown",
   "metadata": {},
   "source": [
    "Los resultados inferiores en k-NN respecto a Naive Bayes Multinomial (aparte de que Naive Bayes es un clasificador específico para este problema) y las variaciones tan grandes en los valores de precision y recall de las categorías se deben principalmente a algo que afecta de manera significativa al K-NN, la alta dimensionalidad, así como a la alta cantidad de variables irrelevantes. Con bolsas de palabras el número de variables es el número de palabras distintas (22302 en total), por lo que tenemos un espacio muy sobredimensionado, con pocos datos en comparación, que están en vectores muy dispersos en los que la distancia euclídea no nos es muy ventajosa.\n",
    "\n",
    "Más concretamente, observamos que la categoría de sport es la que da peor precision, del 39%, pero con recall 1, lo que quiere decir que ha recuperado todos los artículos de deportes (se refleja en la matriz de confusión por la cuarta fila llena de ceros fuera de la diagonal principal) pero se ha equivocado diciendo que son de deportes un número muy elevado de artículos, como refleja la columna cuarta de la matriz de confusión. Esto se puede deber a que, ante la poca abundancia de datos respecto a la alta cantidad de dimensiones y a la cantidad de variables (palabras distintas) irrelevantes, clasifique artículos que no son de deportes como si lo fueran por el poco parecido que puede establecer con los artículos de su propia categoría y el mínimo parecido que encuentre con la categoría de deportes. En el caso de la categoría de tech, ocurre lo contrario. Tiene una precisión alta del 93%, por lo que no confunde tantos artículos de otras categorías diciendo que son de tecnología, pero tiene un recall del 22%, lo cual se debe al agujero negro que resulta ser la categoría de sport, pero también a una posible hetereogeneidad más alta entre los artículos de la propia categoría de tecnología o a la aparición de palabras que también están en otras categorías. En global, obtenemos un f1-score del 0.57, que a efectos prácticos es bastante pobre en comparación con otros clasificadores como el Naive Bayes anterior por los problemas comentados."
   ]
  },
  {
   "cell_type": "markdown",
   "metadata": {
    "id": "mbqVVeAk3yvI"
   },
   "source": [
    "## 3) Representación basada en word-embeddings\n",
    "\n",
    "La segunda vectorización que vamos a usar representará los mensajes usando word-embeddings. Cada documento se representará como el vector que resulta de promediar los embeddings de cada una de sus palabras. Al igual que en el apartado anterior, usaremos monogramas y las _stop words_ que vienen configuradas por defecto para el inglés. Recuerda usar como vocabulario para vectorizar el vocabulario del fichero con las word-embeddings. \n",
    "\n",
    "Entrena un clasificador Naive Bayes Gaussiano (el Multinomial no admite valores negativos que sí aparecen en los embeddings). Analiza el error por clase y dibuja la matriz de confusión.\n",
    "\n",
    "Entrena otro clasificador kNN con la nueva vectorización y la configuración por defecto y analiza su error."
   ]
  },
  {
   "cell_type": "code",
   "execution_count": 21,
   "metadata": {},
   "outputs": [],
   "source": [
    "# !python -m pip install -U gensim\n",
    "from gensim.scripts.glove2word2vec import glove2word2vec\n",
    "from gensim.models import KeyedVectors"
   ]
  },
  {
   "cell_type": "markdown",
   "metadata": {},
   "source": [
    "En primer lugar, construimos en modelo según lo indicado en el otro notebook y seleccionamos el vocabulario que vamos a utilizar para la vectorización. Este vocabulario serán todas las palabras que aparecen en las word-embeddings. Finalmente vectorizamos nuestros datos de entrenamiento, con las stop_words del inglés."
   ]
  },
  {
   "cell_type": "code",
   "execution_count": 22,
   "metadata": {},
   "outputs": [],
   "source": [
    "glove_file = 'glove.6B.50d.txt'\n",
    "model = KeyedVectors.load_word2vec_format(glove_file, binary=False, no_header=True)"
   ]
  },
  {
   "cell_type": "code",
   "execution_count": 23,
   "metadata": {},
   "outputs": [],
   "source": [
    "we_vocabulary = list(model.key_to_index.keys())\n",
    "vectorizer_we = CountVectorizer(vocabulary = we_vocabulary, stop_words='english',binary = False)\n",
    "X = vectorizer_we.fit_transform(train_n)"
   ]
  },
  {
   "cell_type": "markdown",
   "metadata": {},
   "source": [
    "Podemos convencernos de que este proceso ha tenido éxito mostrando la siguiente información:"
   ]
  },
  {
   "cell_type": "code",
   "execution_count": 24,
   "metadata": {},
   "outputs": [
    {
     "name": "stdout",
     "output_type": "stream",
     "text": [
      "['the', ',', '.', 'of', 'to', 'and', 'in', 'a', '\"', \"'s\", 'for', '-', 'that', 'on', 'is', 'was', 'said', 'with', 'he', 'as', 'it', 'by', 'at', '(', ')', 'from', 'his', \"''\", '``', 'an', 'be', 'has', 'are', 'have', 'but', 'were', 'not', 'this', 'who', 'they', 'had', 'i', 'which', 'will', 'their', ':', 'or', 'its', 'one', 'after', 'new', 'been', 'also', 'we', 'would', 'two', 'more', \"'\", 'first', 'about', 'up', 'when', 'year', 'there', 'all', '--', 'out', 'she', 'other', 'people', \"n't\", 'her', 'percent', 'than', 'over', 'into', 'last', 'some', 'government', 'time', '$', 'you', 'years', 'if', 'no', 'world', 'can', 'three', 'do', ';', 'president', 'only', 'state', 'million', 'could', 'us', 'most', '_', 'against', 'u.s.'] \n",
      "\n",
      "[0 0 0 0 0 0 0 0 0 0 0 0 0 0 0 0 3 0 0 0 0 0 0 0 0 0 0 0 0 0 0 0 0 0 0 0 0\n",
      " 0 0 0 0 0 0 0 0 0 0 0 0 0 0 0 0 0 0 0 0 0 0 0 0 0 1 0 0 0 0 0 0 0 0 0 0 0\n",
      " 0 0 0 0 1 0 0 0 1 0 0 0 0 0 0 0 0 0 1 1 0 0 0 0 0 0] \n",
      "\n",
      "huge rush for jet airways shares indian airline jet airways  initial public offering was oversubscribed 16.2 times  bankers said on friday.  over 85% of the bids were at the higher end of the price range of 1 050-1 125 rupees ($24-$26). jet airways  a low-fare airline  was founded by london-based ex-travel agent naresh goya  and controls 45% of the indian domestic airline market. it sold 20% of its equity or 17.2 million shares in a bid to raise up to $443m (£230.8m). the price at which its shares will begin trading will be agreed over the weekend  bankers said.  the demand for the ipo was impressive. we believe that over the next two years  the domestic aviation sector promises strong growth  even though fuel prices could be high   said hiten mehta  manager of merchant banking firm  fortune financial services. india began to open up its domestic airline market - previously dominated by state-run carrier indian airlines - in the 1990s. jet began flying in 1993 and now has competitors including air deccan and air sahara. budget carriers kingfisher airlines and spicejet are planning to launch operations in may this year. jet has 42 aircraft and runs 271 scheduled flights daily within india. it recently won government permission to fly to london  singapore and kuala lumpur. \n",
      "\n"
     ]
    }
   ],
   "source": [
    "print(we_vocabulary[0:100],'\\n')\n",
    "print(X.toarray()[1][0:100],'\\n')\n",
    "print(train_n[1],'\\n')"
   ]
  },
  {
   "cell_type": "markdown",
   "metadata": {},
   "source": [
    "En primer lugar se muestran las primeras 100 palabras del vocabulario obtenido de las words-embeddings. Podemos observar que la primera de ellas es 'the', que como es una palabra vacía de significado en inglés, en la vectorización no aparece en ninguna de las filas (cada documento). Sin embargo, si podemos ver que en el documento que se muestra (el segundo) sí que aparece la palabra 'the'. También se puede ver que la decimoséptima palabra de la vectorización aparece 3 veces en el documento. En efecto, la palabra 'said' tiene tres apariciones en el documento 2."
   ]
  },
  {
   "cell_type": "markdown",
   "metadata": {},
   "source": [
    "A continuación creamos la vectorización de cada documento haciendo la media de los words embedings de cada palabra que aparece en el documento."
   ]
  },
  {
   "cell_type": "code",
   "execution_count": 25,
   "metadata": {},
   "outputs": [],
   "source": [
    "from scipy.sparse import find\n",
    "\n",
    "\n",
    "def create_doc_embedding (doc_matrix_word_freq, keyedvectors):\n",
    "    \"\"\"\n",
    "    create_doc_embedding creates a doc-embedding matrix where rows are the \n",
    "    documents and columns are the dimensions of the word-embedding. Each row r\n",
    "    summarizes the vectors of the word-embeddings present in document r\n",
    "\n",
    "    :param doc_matrix_word_freq: frequency matrix of the terms in each document\n",
    "            It admits binary values, frequencies or weights.\n",
    "            It admits the output of vectorizer.fit_transform\n",
    "    :param keyedvectors: keyedvectors object from Gensim which has the \n",
    "            word-embedding information\n",
    "    :return: returns the doc-embedding matrix that summarizes the \n",
    "             vector-embeddings of the words present in each document\n",
    "    \"\"\" \n",
    "\n",
    "    \n",
    "    num_docs, num_words= doc_matrix_word_freq.get_shape()\n",
    "\n",
    "    # Creamos la matriz de documentos con tantas columnas como dimensiones tiene el we \n",
    "    doc_embed_matrix = np.zeros([num_docs,keyedvectors.vector_size])\n",
    "\n",
    "\n",
    "    # Obtenemos los documentos\n",
    "    docs, col, val = find(doc_matrix_word_freq)\n",
    "    docs = np.unique(docs)\n",
    "\n",
    "    # Para cada documento (esto se podrá hacer de forma más pythonica)\n",
    "    for doc in docs:\n",
    "      # Obtenemos las palabras presentes en el documento y su frecuencia\n",
    "      row, words, frecs = find(doc_matrix_word_freq[doc,:])\n",
    "\n",
    "      # Calculamos el vector medio para el documento\n",
    "      # Para ello recuperamos los vectores del we presentes en el documento y \n",
    "      # los promediamos teniendo en cuenta su frecuencia\n",
    "      count = 0\n",
    "      for w,f in zip(words,frecs):\n",
    "        doc_embed_matrix[doc,:] = doc_embed_matrix[doc,:] + (keyedvectors[w] * f)\n",
    "        count = count +1\n",
    "      doc_embed_matrix[doc,:] = doc_embed_matrix[doc,:]/count\n",
    "    \n",
    "      \n",
    "    return doc_embed_matrix"
   ]
  },
  {
   "cell_type": "code",
   "execution_count": 26,
   "metadata": {},
   "outputs": [
    {
     "data": {
      "text/plain": [
       "array([[-0.17710999, -0.10985221, -0.00538421, ...,  0.01250536,\n",
       "        -0.01725282,  0.13376784],\n",
       "       [ 0.42361027, -0.08917098,  0.36363638, ...,  0.3342183 ,\n",
       "         0.01909741,  0.11197112],\n",
       "       [ 0.04145625,  0.13866377,  0.33800567, ...,  0.50406313,\n",
       "         0.30238417,  0.12230255],\n",
       "       ...,\n",
       "       [ 0.06188008,  0.29719728,  0.11121852, ...,  0.35859004,\n",
       "         0.05260968,  0.1458323 ],\n",
       "       [ 0.06820433,  0.12915842, -0.14986465, ..., -0.24589185,\n",
       "        -0.11094097,  0.16388838],\n",
       "       [ 0.00684436,  0.12820043, -0.19054181, ...,  0.53155472,\n",
       "         0.12937642, -0.47271475]])"
      ]
     },
     "execution_count": 26,
     "metadata": {},
     "output_type": "execute_result"
    }
   ],
   "source": [
    "doc_embed_matrix = create_doc_embedding(X,model)\n",
    "# contiene un vector \"embedding\" para cada documento\n",
    "doc_embed_matrix"
   ]
  },
  {
   "cell_type": "markdown",
   "metadata": {},
   "source": [
    "Una vez ya tenemos la vectorización deseada para cada documento entrenamos el clasificador Naive Bayes Gaussiano e imprimimos la tasa de acierto del clasificador sobre el conjunto de entrenamiento y de test."
   ]
  },
  {
   "cell_type": "code",
   "execution_count": 27,
   "metadata": {},
   "outputs": [
    {
     "name": "stdout",
     "output_type": "stream",
     "text": [
      "Gaussian Naive Bayes, porcentaje de aciertos en entrenamiento: 0.9404362416107382\n",
      "Gaussian Naive Bayes, porcentaje de aciertos en test: 0.9362416107382551\n"
     ]
    }
   ],
   "source": [
    "from sklearn.naive_bayes import GaussianNB\n",
    "#Vectorizamos los datos del conjunto de test\n",
    "query = vectorizer_we.transform(test_n)\n",
    "#Y representamos cada documento (consulta) como la media de las words-embeddings de sus palabras\n",
    "embed_query = create_doc_embedding(query,model)\n",
    "\n",
    "#Entrenamos\n",
    "gnb_classifier = GaussianNB()\n",
    "gnb_classifier.fit(doc_embed_matrix, train_target)\n",
    "\n",
    "gnb_train_predictions = gnb_classifier.predict(doc_embed_matrix)\n",
    "gnb_test_predictions = gnb_classifier.predict(embed_query)\n",
    "\n",
    "print(\"Gaussian Naive Bayes, porcentaje de aciertos en entrenamiento:\", np.mean(gnb_train_predictions == train_target))\n",
    "print(\"Gaussian Naive Bayes, porcentaje de aciertos en test:\", np.mean(gnb_test_predictions == test_target))"
   ]
  },
  {
   "cell_type": "markdown",
   "metadata": {},
   "source": [
    "En un primer análisis, se puede observar que esta tasa de aciertos es algo inferior a la que obtuvimos al trabajar con bolsas de palabras y el clasificador multinomial, aunque mucho mejor que bolsa de palabaras y k-NN. Para poder realizar un analisis más profundo vamos a mostrar algunos indicadores representativos para cada clase."
   ]
  },
  {
   "cell_type": "code",
   "execution_count": 28,
   "metadata": {
    "scrolled": false
   },
   "outputs": [
    {
     "name": "stdout",
     "output_type": "stream",
     "text": [
      "               precision    recall  f1-score   support\n",
      "\n",
      "     business       0.93      0.95      0.94        75\n",
      "entertainment       0.98      0.91      0.94        46\n",
      "     politics       0.84      0.93      0.88        56\n",
      "        sport       1.00      0.98      0.99        63\n",
      "         tech       0.95      0.90      0.92        58\n",
      "\n",
      "     accuracy                           0.94       298\n",
      "    macro avg       0.94      0.93      0.94       298\n",
      " weighted avg       0.94      0.94      0.94       298\n",
      "\n"
     ]
    }
   ],
   "source": [
    "from sklearn.metrics import classification_report, confusion_matrix\n",
    "\n",
    "predictions_we = gnb_test_predictions\n",
    "print(classification_report(test_target, predictions_we))"
   ]
  },
  {
   "cell_type": "markdown",
   "metadata": {},
   "source": [
    "También mostramos la matriz de confusión (en el eje Y representa la clase a la que pertenece y en el eje X mostramos la predicción)."
   ]
  },
  {
   "cell_type": "code",
   "execution_count": 29,
   "metadata": {},
   "outputs": [
    {
     "data": {
      "text/plain": [
       "(array([0.5, 1.5, 2.5, 3.5, 4.5]),\n",
       " [Text(0.5, 0, 'business'),\n",
       "  Text(1.5, 0, 'entertainment'),\n",
       "  Text(2.5, 0, 'politics'),\n",
       "  Text(3.5, 0, 'sport'),\n",
       "  Text(4.5, 0, 'tech')])"
      ]
     },
     "execution_count": 29,
     "metadata": {},
     "output_type": "execute_result"
    },
    {
     "data": {
      "image/png": "[encoded data removed]",
      "text/plain": [
       "<Figure size 1080x720 with 2 Axes>"
      ]
     },
     "metadata": {
      "needs_background": "light"
     },
     "output_type": "display_data"
    }
   ],
   "source": [
    "%matplotlib inline\n",
    "import pandas as pd\n",
    "import seaborn as sn\n",
    "import matplotlib.pyplot as plt\n",
    "\n",
    "conf_matrix_we = confusion_matrix(test_target, predictions_we)\n",
    "conf_matrix_df_we = pd.DataFrame(conf_matrix_we, index=target_names, columns=target_names)\n",
    "\n",
    "plt.figure(figsize=(15, 10))\n",
    "sn.heatmap(conf_matrix_df_we, annot=True, vmin=0, vmax=conf_matrix_we.max(), fmt='d', cmap=\"YlGnBu\")\n",
    "plt.yticks(rotation=0)\n",
    "plt.xticks(rotation=90)"
   ]
  },
  {
   "cell_type": "markdown",
   "metadata": {},
   "source": [
    "Se puede ver que en la mayoría de las clases, la precisión es muy alta, destacando que en deportes la precisión es 1. Esto quiere decir que simpre que el predictor dice que un documento es de deportes, acierta. Esto se debe a que el clasificador consigue encontra rasgos distintivos en los documentos de deportes, ya que como el vocabulario es más específico, recogerá términos con una word-embedding similar. Además, el recall para deportes también es muy alto, luego no se confunde mucho con otras categorías. En el extremo opuesto tenemos la política, con la precisión más baja de todas. El clasificador dice que son de política algunos documentos de negocio y tecnología. Cabe destacar, que esta confusión es simétrica para la categoría de negocio pero no tanto para la de tecnología. Es decir, cuando el clasificador dice que un documento es de negocio, el número de fallos porque ese documento es en realidad de política es similar a a los fallos cuando dice que es de política pero en realidad es de negocio (aunque el porcentaje es mayor para cuando el predictor dice política). Sin embargo, cuando clasifica un documento como de tecnología casi nunca es realmente de política. En cuanto al recall la categoría de tecnología es la que menos documentos recupera en porcentaje. Esto contrasta un poco con los resultados obtenidos para el calsificador multinomial, donde la categoría tecnología tenía un recall de 0.97. En general podemos afirmar que los resultados son razonablemente buenos ya que la mayor confusión se encuentra entre las categorías de negocio y política, que muchas veces tratan temas comunes y por tanto, es lógico que el vocabulario utilizado sea similar. Más aún cuando utilizamos word-embeddings cuyas dimensiones tienen más que ver con conceptos, que pueden diluir algo la instancia concreta de uso de cada término."
   ]
  },
  {
   "cell_type": "markdown",
   "metadata": {},
   "source": [
    "Es interesante graficar la distribución de los variables para ver si realmente siguen una normal."
   ]
  },
  {
   "cell_type": "code",
   "execution_count": 30,
   "metadata": {},
   "outputs": [
    {
     "data": {
      "text/plain": [
       "<AxesSubplot:ylabel='Density'>"
      ]
     },
     "execution_count": 30,
     "metadata": {},
     "output_type": "execute_result"
    },
    {
     "data": {
      "image/png": "[encoded data removed]",
      "text/plain": [
       "<Figure size 432x288 with 1 Axes>"
      ]
     },
     "metadata": {
      "needs_background": "light"
     },
     "output_type": "display_data"
    },
    {
     "data": {
      "image/png": "[encoded data removed]",
      "text/plain": [
       "<Figure size 432x288 with 1 Axes>"
      ]
     },
     "metadata": {
      "needs_background": "light"
     },
     "output_type": "display_data"
    },
    {
     "data": {
      "image/png": "[encoded data removed]",
      "text/plain": [
       "<Figure size 432x288 with 1 Axes>"
      ]
     },
     "metadata": {
      "needs_background": "light"
     },
     "output_type": "display_data"
    },
    {
     "data": {
      "image/png": "[encoded data removed]",
      "text/plain": [
       "<Figure size 432x288 with 1 Axes>"
      ]
     },
     "metadata": {
      "needs_background": "light"
     },
     "output_type": "display_data"
    }
   ],
   "source": [
    "import pandas as pd\n",
    "\n",
    "#for i in range(0,10):\n",
    "#    for j in range(0,5):\n",
    "#        term=pd.DataFrame(data= doc_embed_matrix[(5*i+j):(5*(i+1)),:])\n",
    "#        term.plot.density()\n",
    "term=pd.DataFrame(data= doc_embed_matrix[:,2],columns=list([2]))\n",
    "term.plot.density()\n",
    "term=pd.DataFrame(data= doc_embed_matrix[:,12],columns=list([12]))\n",
    "term.plot.density()\n",
    "term=pd.DataFrame(data= doc_embed_matrix[:,18],columns=list([18]))\n",
    "term.plot.density()\n",
    "term=pd.DataFrame(data= doc_embed_matrix[:,40],columns=list([40]))\n",
    "term.plot.density()"
   ]
  },
  {
   "cell_type": "markdown",
   "metadata": {},
   "source": [
    "Vemos que, para algunas variables (en concreto 2,12,18,40), la distribución no es una normal sino que tiene notables asimetrías y esto puede estar causando problemas en el clasificador."
   ]
  },
  {
   "cell_type": "markdown",
   "metadata": {},
   "source": [
    "### Clasificador k-NN ###"
   ]
  },
  {
   "cell_type": "markdown",
   "metadata": {},
   "source": [
    "Pasamos ahora a entrenar un k-NN, al que le pasamos la vectorización de documentos como embeddings."
   ]
  },
  {
   "cell_type": "code",
   "execution_count": 31,
   "metadata": {},
   "outputs": [
    {
     "name": "stdout",
     "output_type": "stream",
     "text": [
      "k-NN, porcentaje de aciertos en entrenamiento: 0.9731543624161074\n",
      "k-NN, porcentaje de aciertos en test: 0.9630872483221476\n"
     ]
    }
   ],
   "source": [
    "from sklearn import neighbors\n",
    "\n",
    "knn_classifier_we = neighbors.KNeighborsClassifier()\n",
    "knn_classifier_we.fit(doc_embed_matrix, train_target)\n",
    "\n",
    "knn_train_predictions_we = knn_classifier_we.predict(doc_embed_matrix)\n",
    "knn_test_predictions_we = knn_classifier_we.predict(embed_query)\n",
    "\n",
    "print(\"k-NN, porcentaje de aciertos en entrenamiento:\", np.mean(knn_train_predictions_we == train_target))\n",
    "print(\"k-NN, porcentaje de aciertos en test:\", np.mean(knn_test_predictions_we == test_target))"
   ]
  },
  {
   "cell_type": "markdown",
   "metadata": {},
   "source": [
    "En contraposición con lo que pasaba con el caso de la bolsa de palabras, el resultado es mucho mejor. Esto nos ha sorprendido inicialmente porque esperabamos un comportamiento malo, similar al de la bolsa de palabras. Sin embargo hay una diferencia fundamental entre este caso y el anterior: la dimensión. Mientras que en el clasificador de k-NN con bolsas de palabras el número de variables era cada una de las palabras (22302 en total), en esta ocasión solamente tenemos 50 variables (el número de columnas de doc_embed_matrix, es decir, el número de \"conceptos\"). Como el k-NN sufre la maldición de la dimensionalidad, cuanto menor sea el número de variables, mejor funcionará. Además, que el k-NN trabaje con la distancia euclidea es más ventajoso en este caso que en el anterior porque, mientras que en el anterior los vectores eran muy dispersos, en este no lo son, tienen valores continuos y hemos visto en los ejemplos que tiene más sentido calcular diferencias entre estos vectores. Como la distancia euclídea no es más que la norma de la diferencia de los vectores, es razonable que funcione bien."
   ]
  },
  {
   "cell_type": "markdown",
   "metadata": {},
   "source": [
    "Para un análisis más fino del error, calculamos la precision y recall por clases y dibujamos la matriz de confusión"
   ]
  },
  {
   "cell_type": "code",
   "execution_count": 32,
   "metadata": {},
   "outputs": [
    {
     "name": "stdout",
     "output_type": "stream",
     "text": [
      "               precision    recall  f1-score   support\n",
      "\n",
      "     business       0.93      0.95      0.94        75\n",
      "entertainment       0.98      0.96      0.97        46\n",
      "     politics       0.93      0.91      0.92        56\n",
      "        sport       1.00      1.00      1.00        63\n",
      "         tech       0.98      1.00      0.99        58\n",
      "\n",
      "     accuracy                           0.96       298\n",
      "    macro avg       0.96      0.96      0.96       298\n",
      " weighted avg       0.96      0.96      0.96       298\n",
      "\n"
     ]
    }
   ],
   "source": [
    "predictions_we_k = knn_test_predictions_we\n",
    "\n",
    "print(classification_report(test_target, predictions_we_k))"
   ]
  },
  {
   "cell_type": "code",
   "execution_count": 33,
   "metadata": {},
   "outputs": [
    {
     "data": {
      "text/plain": [
       "(array([0.5, 1.5, 2.5, 3.5, 4.5]),\n",
       " [Text(0.5, 0, 'business'),\n",
       "  Text(1.5, 0, 'entertainment'),\n",
       "  Text(2.5, 0, 'politics'),\n",
       "  Text(3.5, 0, 'sport'),\n",
       "  Text(4.5, 0, 'tech')])"
      ]
     },
     "execution_count": 33,
     "metadata": {},
     "output_type": "execute_result"
    },
    {
     "data": {
      "image/png": "[encoded data removed]",
      "text/plain": [
       "<Figure size 1080x720 with 2 Axes>"
      ]
     },
     "metadata": {
      "needs_background": "light"
     },
     "output_type": "display_data"
    }
   ],
   "source": [
    "%matplotlib inline\n",
    "\n",
    "conf_matrix_we = confusion_matrix(test_target, predictions_we_k)\n",
    "conf_matrix_df_we = pd.DataFrame(conf_matrix_we, index=target_names, columns=target_names)\n",
    "\n",
    "plt.figure(figsize=(15, 10))\n",
    "sn.heatmap(conf_matrix_df_we, annot=True, vmin=0, vmax=conf_matrix_we.max(), fmt='d', cmap=\"YlGnBu\")\n",
    "plt.yticks(rotation=0)\n",
    "plt.xticks(rotation=90)"
   ]
  },
  {
   "cell_type": "markdown",
   "metadata": {},
   "source": [
    "A simple vista se puede apreciar que el comportamiento es bastante bueno, comparable a los resultados que ofrece Naive Bayes que es un clasificador más específico para este problema. Quizás lo más llamativo es que tanto el recall como la precision de la categoría de deportes es 1, luego el clasificador discrimina perfectamente que documentos son y que documentos no son de deporte. Por otro lado, se mantiene cierta confusión simétrica entre las cotegorías de negocio y política que ya habíamos visto en el clasificador Naive Bayes Gaussiano."
   ]
  },
  {
   "cell_type": "markdown",
   "metadata": {
    "id": "XmM1ftJe3yvK"
   },
   "source": [
    "## 4) Análisis comparativo final\n",
    "\n",
    "Hemos entrenado dos clasificadores usando dos vectorizaciones diferentes de los datos. Compara la tasa de acierto de todos ellos y explica a qué crees que se deben las diferencias.\n",
    "\n",
    "Busca un mensaje mal clasificado por el Naive Bayes con vectorización de frecuencias y otro mal clasificado por el k-NN con Word-embeddings. Analiza los vectores de términos de dichos mensajes e intenta razonar por qué ha sido clasificado erróneamente.\n",
    "\n",
    "Para el Naive Bayes con vectorización de frecuencias, elige dos clases donde el clasificador no haya funcionado bien y analiza las palabras más relevantes para clasificar una noticia como de dichas clases. Razona si lo que ves crees que influye en la posible confusión a la hora de clasificar entre dichas clases."
   ]
  },
  {
   "cell_type": "markdown",
   "metadata": {
    "id": "vqZdbiiV3yvS"
   },
   "source": [
    "### Comparación\n",
    "\n",
    "Vamos a imprimir otra vez los resultados de cada uno de los clasificadores:"
   ]
  },
  {
   "cell_type": "code",
   "execution_count": 34,
   "metadata": {},
   "outputs": [
    {
     "name": "stdout",
     "output_type": "stream",
     "text": [
      "Naive Bayes con vectorización de frecuencias:\n",
      "                precision    recall  f1-score   support\n",
      "\n",
      "     business       0.97      0.97      0.97        75\n",
      "entertainment       1.00      1.00      1.00        46\n",
      "     politics       0.95      0.95      0.95        56\n",
      "        sport       0.98      1.00      0.99        63\n",
      "         tech       0.98      0.97      0.97        58\n",
      "\n",
      "     accuracy                           0.98       298\n",
      "    macro avg       0.98      0.98      0.98       298\n",
      " weighted avg       0.98      0.98      0.98       298\n",
      "\n",
      "\n",
      "k-NN con vectorización de frecuencias:\n",
      "                precision    recall  f1-score   support\n",
      "\n",
      "     business       0.89      0.45      0.60        75\n",
      "entertainment       0.69      0.39      0.50        46\n",
      "     politics       0.93      0.77      0.84        56\n",
      "        sport       0.36      1.00      0.53        63\n",
      "         tech       0.93      0.22      0.36        58\n",
      "\n",
      "     accuracy                           0.57       298\n",
      "    macro avg       0.76      0.57      0.57       298\n",
      " weighted avg       0.76      0.57      0.57       298\n",
      "\n",
      "\n",
      "Naive Bayes con Word-embeddings:\n",
      "                precision    recall  f1-score   support\n",
      "\n",
      "     business       0.93      0.95      0.94        75\n",
      "entertainment       0.98      0.91      0.94        46\n",
      "     politics       0.84      0.93      0.88        56\n",
      "        sport       1.00      0.98      0.99        63\n",
      "         tech       0.95      0.90      0.92        58\n",
      "\n",
      "     accuracy                           0.94       298\n",
      "    macro avg       0.94      0.93      0.94       298\n",
      " weighted avg       0.94      0.94      0.94       298\n",
      "\n",
      "\n",
      "k-NN con Word-embeddings:\n",
      "                precision    recall  f1-score   support\n",
      "\n",
      "     business       0.93      0.95      0.94        75\n",
      "entertainment       0.98      0.96      0.97        46\n",
      "     politics       0.93      0.91      0.92        56\n",
      "        sport       1.00      1.00      1.00        63\n",
      "         tech       0.98      1.00      0.99        58\n",
      "\n",
      "     accuracy                           0.96       298\n",
      "    macro avg       0.96      0.96      0.96       298\n",
      " weighted avg       0.96      0.96      0.96       298\n",
      "\n"
     ]
    }
   ],
   "source": [
    "print('Naive Bayes con vectorización de frecuencias:\\n',classification_report(test_target, predictions))\n",
    "print('\\nk-NN con vectorización de frecuencias:\\n',classification_report(test_target, predictions_k))\n",
    "print('\\nNaive Bayes con Word-embeddings:\\n',classification_report(test_target, predictions_we))\n",
    "print('\\nk-NN con Word-embeddings:\\n',classification_report(test_target, predictions_we_k))"
   ]
  },
  {
   "cell_type": "markdown",
   "metadata": {},
   "source": [
    "Lo primero que podemos ver es el orden de acierto de los clasificadores:\n",
    "\n",
    "- El clasificador que ha obtenido mejores resultados ha sido el Naive Bayes con vectorización de frecuencias, con un 98% de aciertos.\n",
    "- En segundo lugar estaría el clasificador k-NN basado en Word-embeddings, con un 96% de acierto.\n",
    "- La medalla de bronce se la lleva el Naive Bayes con Word-embeddings, cuya tasa de acierto ronda el 94%.\n",
    "- Finalmente, el peor de todos los clasificadores con diferencia ha resultado ser el k-NN con vectorización de frecuencias, con un 76% de acierto.\n",
    "\n",
    "Esta última posición tiene sentido para el k-NN con vectorización de frecuencias. Como ya comentamos en la sección correspondiente, el número de variables que el clasificador ha de tener en cuenta para clasificar noticias es de 22302, muy superior a las 50 para el clasificador k-NN con Word-embeddings. Además, no es ese el único problema, ya que si miramos las palabras más comunes de cada categoría (más abajo se hace para las secciones de 'business' y 'politics', encontramos palabras tan comunes en toda clase de contextos que no permiten distinguir las categorías. Ejemplos de estas palabras son 'said', 'mr', 'new', 'year' o 'told', que son ciertamente irrelevantes a la hora de clasificar una noticia.\n",
    "\n",
    "En contraposición, el Naive Bayes consigue distinguir casi a la totalidad todas las noticias, siendo las precisiones más bajas la de las categorías 'business' y 'politics', que como ya hemos repetido, muchas veces tratan temas comunes y son por tanto las más propensas a error desde un punto de vista lógico. Es por esto que también los otros dos mejores clasificadores se equivocan más entre las dos categorías.\n",
    "\n",
    "Finalmente, vamos a comparar el Naive Bayes basado en Word-embeddings con los demás. Ya hemos comentado cómo el que algunas variables no sigan una distribución normal puede estar afectándole, al no poder usar un clasificador Naive Bayes Multinomial (como hacíamos con la bolsa de palabras, donde las variables tomaban valores discretos) y tener que haber cambiado a un Naive Bayes Gaussiano. Sin embargo, también se obtienen peores resultados en todas las categorías a excepción del recall en la categoría de política (con una diferencia de una única noticia).\n",
    "\n",
    "Podemos concluir pues que para este problema particular ha resultado óptima la estrategia más simple."
   ]
  },
  {
   "cell_type": "markdown",
   "metadata": {},
   "source": [
    "Puede ser interesante ver si hay algunas noticias donde se hayan equivocado todos los clasificadores (omitimos el k-NN con vectorización de frecuencias debido a sus malos resultados)."
   ]
  },
  {
   "cell_type": "code",
   "execution_count": 46,
   "metadata": {},
   "outputs": [
    {
     "name": "stdout",
     "output_type": "stream",
     "text": [
      "Las noticias donde se han equivocado todos los clasificadores son:\n",
      " [['149' 'business' 'politics']\n",
      " ['294' 'politics' 'business']]\n"
     ]
    }
   ],
   "source": [
    "i = 0\n",
    "error_mnb = []\n",
    "while(i < len(mnb_test_predictions)):\n",
    "    pred = mnb_test_predictions[i]\n",
    "    real = test_target[i]\n",
    "    if pred != real:\n",
    "        error_mnb.append((i, pred, real))\n",
    "    i = i+1\n",
    "    \n",
    "# No consideramos el clasificador k-NN con vectorización de frecuencias\n",
    "\n",
    "#i = 0\n",
    "#error_knn = []\n",
    "#while(i < len(knn_test_predictions)):\n",
    "#    pred = knn_test_predictions[i]\n",
    "#    real = test_target[i]\n",
    "#    if pred != real:\n",
    "#        error_knn.append((i, pred, real))\n",
    "#    i = i+1\n",
    "    \n",
    "i = 0\n",
    "error_gnb = []\n",
    "while(i < len(gnb_test_predictions)):\n",
    "    pred = gnb_test_predictions[i]\n",
    "    real = test_target[i]\n",
    "    if pred != real:\n",
    "        error_gnb.append((i, pred, real))\n",
    "    i = i+1\n",
    "    \n",
    "i = 0\n",
    "error_knn_we = []\n",
    "while(i < len(knn_test_predictions_we)):\n",
    "    pred = knn_test_predictions_we[i]\n",
    "    real = test_target[i]\n",
    "    if pred != real:\n",
    "        error_knn_we.append((i, pred, real))\n",
    "    i = i+1\n",
    "\n",
    "common_error = [w for w in error_mnb if w in error_gnb and w in error_knn_we]\n",
    "print('Las noticias donde se han equivocado todos los clasificadores son:\\n',np.array(common_error))"
   ]
  },
  {
   "cell_type": "markdown",
   "metadata": {},
   "source": [
    "Al parecer, tanto los Naive Bayes como el k-NN basado en Word-embeddings consideran que las noticias 149 y 294 del conjunto de test pertenecen a otra categoría. En la sección final mostramos estas noticias y analizamos la segunda (la primera es mucho más extensa). Como era de esperar, estas noticias tratan temas relacionados tanto con negocios como con política, siendo la 149 sobre el salario mínimo (estando clasificada como de política) y la 294 sobre la contratación de mujeres en el ministerio de asuntos exteriores de Arabia Saudí (estando clasificada como de negocios). Ambos son temas que están en la frontera entre las dos categorías."
   ]
  },
  {
   "cell_type": "markdown",
   "metadata": {},
   "source": [
    "### Análisis de errores\n",
    "\n",
    "#### Clasificador Naive Bayes con vectorización de frecuencias"
   ]
  },
  {
   "cell_type": "code",
   "execution_count": 36,
   "metadata": {},
   "outputs": [
    {
     "name": "stdout",
     "output_type": "stream",
     "text": [
      "Una noticia mal clasificada por el Naive Bayes con vectorización de frecuencias es la 3.\n",
      "\n",
      "El clasificador dijo que era de la categoría politics y en realidad era de tech.\n",
      "\n",
      "Mensaje 3 : online commons to spark debate online communities set up by the uk government could encourage public debate and build trust  says the institute of public policy research (ippr).  existing services such as ebay could provide a good blueprint for such services  says the think-tank. although the net is becoming part of local and central government  its potential has not yet been fully exploited to create an online  commons  for public debate. in its report  is online community a policy tool   the ippr also asks if id cards could help create safer online communities. adopting an ebay-type model would let communities create their own markets for skills and services and help foster a sense of local identity and connection.  what we are proposing is a civic commons   will davies  senior research fellow at the ippr told the bbc news website.  a single publicly funded and run online community in which citizens can have a single place to go where you can go to engage in diversity and in a way that might have a policy implication - like a pre-legislation discussion.   the idea of a  civic commons  was originally proposed by stephen coleman  professor of e-democracy at the oxford internet institute. the ippr report points to informal  small scale examples of such commons that already exist. it mentions good-practice public initiatives like the bbc s ican project which connects people locally and nationally who want to take action around important issues.  but he adds  government could play a bigger role in setting up systems of trust for online communities too. proposals for id cards  for instance  could also be widened to see if they could be used online. they could provide the basis for a secure authentication system which could have value for peer-to-peer interaction online.  at the moment they have been presented as a way for government to keep tabs on people and ensuring access to public services   said mr davies.  but what has not been explored is how authentication technology may potentially play a role in decentralised online communities.  the key idea to take from systems such as ebay and other online communities is letting members rate each other s reputation by how they treat other members. using a similar mechanism  trust and cooperation between members of virtual and physical communities could be built. this could mean a civic commons would work within a non-market system which lets people who may disagree with one another interact within publicly-recognised rules.  e-government initiatives over the last decade have very much been about putting basic information and service guides online as well as letting people interact with government via the web. many online communities  such as chatrooms  mailing lists  community portals  message boards and weblogs often form around common interests or issues.  with 53% of uk households now with access to the net  the government  suggests mr davies  could act as an intermediary or  middleman  to set up public online places of debate and exchange to encourage more  cosmopolitan politics  and public trust in policy.  government already plays a critical role in helping citizens trade with each other online.  but it should also play a role in helping citizens connect to one another in civic  non-market interactions   said mr davies. there is a role for public bodies like the bbc  libraries  and government to bring people back into public debate again instead of millions of  cliques  talking to each other  he added. the paper is part of the ippr s digital society initiative which is producing a number of conferences and research papers leading up to the publication of a manifesto for a digital britain.\n",
      "\n",
      " Mensaje 3 vectorizado: ['53' 'access' 'act' 'action' 'added' 'adds' 'adopting' 'asks' 'basic'\n",
      " 'basis' 'bbc' 'bigger' 'blueprint' 'boards' 'bodies' 'bring' 'britain'\n",
      " 'build' 'built' 'cards' 'central' 'citizens' 'coleman' 'common' 'commons'\n",
      " 'communities' 'community' 'conferences' 'connect' 'connection'\n",
      " 'cooperation' 'create' 'critical' 'davies' 'debate' 'decade' 'democracy'\n",
      " 'digital' 'disagree' 'discussion' 'diversity' 'ebay' 'encourage' 'engage'\n",
      " 'ensuring' 'examples' 'exchange' 'exist' 'existing' 'exploited'\n",
      " 'explored' 'fellow' 'form' 'foster' 'fully' 'funded' 'good' 'government'\n",
      " 'guides' 'help' 'helping' 'households' 'ican' 'id' 'idea' 'identity'\n",
      " 'important' 'informal' 'information' 'initiative' 'initiatives'\n",
      " 'instance' 'instead' 'institute' 'interact' 'interaction' 'interactions'\n",
      " 'interests' 'intermediary' 'internet' 'issues' 'key' 'leading'\n",
      " 'legislation' 'let' 'lets' 'letting' 'libraries' 'like' 'lists' 'local'\n",
      " 'locally' 'mailing' 'manifesto' 'market' 'markets' 'mean' 'mechanism'\n",
      " 'members' 'mentions' 'message' 'millions' 'model' 'moment' 'mr'\n",
      " 'nationally' 'net' 'news' 'non' 'number' 'online' 'originally' 'oxford'\n",
      " 'paper' 'papers' 'peer' 'people' 'physical' 'place' 'places' 'play'\n",
      " 'plays' 'points' 'policy' 'politics' 'portals' 'potential' 'potentially'\n",
      " 'practice' 'pre' 'presented' 'producing' 'professor' 'project'\n",
      " 'proposals' 'proposed' 'proposing' 'provide' 'public' 'publication'\n",
      " 'publicly' 'putting' 'rate' 'recognised' 'report' 'reputation' 'research'\n",
      " 'role' 'rules' 'run' 'safer' 'said' 'says' 'scale' 'secure' 'senior'\n",
      " 'sense' 'service' 'services' 'set' 'setting' 'similar' 'single' 'skills'\n",
      " 'small' 'society' 'spark' 'stephen' 'suggests' 'systems' 'tabs' 'talking'\n",
      " 'tank' 'technology' 'think' 'told' 'tool' 'trade' 'treat' 'trust' 'type'\n",
      " 'uk' 'used' 'using' 'value' 'virtual' 'want' 'way' 'web' 'weblogs'\n",
      " 'website' 'widened' 'work'] \n",
      "\n"
     ]
    }
   ],
   "source": [
    "import random\n",
    "# Mensaje mal clasificado por Naive Bayes con vectorización de frecuencias\n",
    "\n",
    "random.seed(RANDOM_STATE)\n",
    "i = random.randint(0, len(mnb_test_predictions) - 1)\n",
    "\n",
    "while(mnb_test_predictions[i] == test_target[i]):\n",
    "    i = random.randint(0, len(mnb_test_predictions) - 1)\n",
    "print(\"Una noticia mal clasificada por el Naive Bayes con vectorización de frecuencias es la \" + str(i) + \".\\n\")\n",
    "print(\"El clasificador dijo que era de la categoría \"+mnb_test_predictions[i]+\" y en realidad era de \"+test_target[i]+\".\\n\")\n",
    "write_terms(feature_names, test_n, test_vector_data, i)"
   ]
  },
  {
   "cell_type": "markdown",
   "metadata": {},
   "source": [
    "A la vista de la vectorización de términos del mensaje, podemos encontrar muchos términos que parecen más propios de textos de la categoría de política que de tecnología, como podrían ser 'government', 'legislation', 'politics', 'democracy', 'cooperation', 'citizens', 'nationally', 'diversity' o 'proposals'. Si bien es cierto que otras muchas de las palabras son propias de textos tecnológicos (multitud de palabras haciendo referencia al mundo digital, como 'web', 'online' o 'weblogs'), estas no son tan abundantes, siendo la mayoría de las palabras neutras, frecuentes en varios tipos de textos.\n",
    "\n",
    "Resaltamos que es probable que una de las principales causas de la confusión del clasificador sea la palabra 'democracy'. Si nos vamos al texto original, esta palabra aparece en la frase:\n",
    "\n",
    "'the idea of a  civic commons  was originally proposed by stephen coleman  professor of e-democracy at the oxford internet institute'\n",
    "\n",
    "De forma que el vectorizador ha quitado la 'e-' que en este caso aporta bastante significado a la frase, ya que la 'e-democracy' o democracia digital es un término puramente de textos tecnológicos, en comparación a 'democracy', que se encuentra casi en exclusiva en noticias políticas."
   ]
  },
  {
   "cell_type": "markdown",
   "metadata": {},
   "source": [
    "#### Clasificador k-NN con Word-embeddings\n",
    "\n",
    "Utilizaremos una función parecida a la write_terms para el caso del word-embeddings."
   ]
  },
  {
   "cell_type": "code",
   "execution_count": 37,
   "metadata": {},
   "outputs": [],
   "source": [
    "import numpy.ma as ma\n",
    "\n",
    "def write_terms_we (feature_names, data, vector_data, index):\n",
    "    '''\n",
    "    Escribe los términos presentes en un mensaje representado como bolsa de palabras.\n",
    "    \n",
    "    - feature_names: terminos usados para vectorizar\n",
    "    - data: lista de mensajes original (si data==None no se muestra el mensaje original)\n",
    "    - vector_data: matriz (dispersa) de mensaje vectorizados\n",
    "    - index: posición del mensaje a mostrar\n",
    "    '''\n",
    "    terminos = []\n",
    "    msg = vector_data[index]\n",
    "    for i in range(0,len(feature_names)):\n",
    "        if msg[i] > 0:\n",
    "            terminos.append(feature_names[i])\n",
    "            \n",
    "    terminos = sorted(terminos)\n",
    "    \n",
    "    # mostrar mensaje original\n",
    "    if data is not None:\n",
    "        print('Mensaje', index, ':', data[index])\n",
    "    \n",
    "    # mostrar términos que aparecen en el mensaje vectorizado\n",
    "    print('\\n','Mensaje', index, 'vectorizado:', terminos,'\\n')"
   ]
  },
  {
   "cell_type": "code",
   "execution_count": 38,
   "metadata": {},
   "outputs": [
    {
     "name": "stdout",
     "output_type": "stream",
     "text": [
      "Una noticia mal clasificada por el k-NN con Word-embeddings es la 12.\n",
      "\n",
      "El clasificador dijo que era de la categoría politics y en realidad era de business.\n",
      "\n",
      "Mensaje 12 : russia wto talks  make progress  talks on russia s proposed membership of the world trade organisation (wto) have been  making good progress  say those behind the negotiations.  but the chairman of the working party  ambassador stefan johannesson of iceland  warned that there was  still a lot of work has to be done . his comments came as president george w bush said the us backed russian entry. but he said for russia to make progress the government must  renew a commitment to democracy and the rule of law . his comments come three days before he is due to meet president vladimir putin.  russia has been waiting for a decade to join the wto and hopes to finally become a member by early 2006. a decision could be reached in december  when the wto s 148 current members gather for a summit in hong kong. that would allow an earliest date for membership of january 2006  if the hong kong summit gave its approval. while pinpointing several areas in which there are difficulties in the bilateral and multilateral work with russia  the us said the meeting was  much more efficient than we ve seen for some time . and australia said it was  one of the best (meetings) we can recall in terms of substance . mr johannesson also said progress  on the bilateral market access side is accelerating . sticking points to membership have included limits on foreign ownership in the telecommunications and life insurance businesses  as well as issues surrounding counterfeiting  piracy  and data protection. some wto members also dislike russia s energy price subsidies  which competitors say give russian businesses an unfair advantage.\n",
      "\n",
      " Mensaje 12 vectorizado: ['148', '2006', 'accelerating', 'access', 'advantage', 'allow', 'ambassador', 'approval', 'areas', 'australia', 'backed', 'best', 'bilateral', 'bush', 'businesses', 'came', 'chairman', 'come', 'comments', 'commitment', 'competitors', 'counterfeiting', 'current', 'data', 'date', 'days', 'decade', 'december', 'decision', 'democracy', 'difficulties', 'dislike', 'earliest', 'early', 'efficient', 'energy', 'entry', 'finally', 'foreign', 'gather', 'gave', 'george', 'good', 'government', 'hong', 'hopes', 'iceland', 'included', 'insurance', 'issues', 'january', 'johannesson', 'join', 'kong', 'law', 'life', 'limits', 'lot', 'make', 'making', 'market', 'meet', 'meeting', 'meetings', 'member', 'members', 'membership', 'mr', 'multilateral', 'negotiations', 'organisation', 'ownership', 'party', 'pinpointing', 'piracy', 'points', 'president', 'price', 'progress', 'proposed', 'protection', 'putin', 'reached', 'recall', 'renew', 'rule', 'russia', 'russian', 'said', 'say', 'seen', 'stefan', 'sticking', 'subsidies', 'substance', 'summit', 'surrounding', 'talks', 'telecommunications', 'terms', 'time', 'trade', 'unfair', 've', 'vladimir', 'waiting', 'warned', 'work', 'working', 'world', 'wto'] \n",
      "\n"
     ]
    }
   ],
   "source": [
    "import random\n",
    "# Mensaje mal clasificado por k-NN con Word-embeddings\n",
    "\n",
    "random.seed(RANDOM_STATE)\n",
    "i = random.randint(0, len(knn_test_predictions_we) - 1)\n",
    "\n",
    "while(knn_test_predictions_we[i] == test_target[i]):\n",
    "    i = random.randint(0, len(knn_test_predictions_we) - 1)\n",
    "print(\"Una noticia mal clasificada por el k-NN con Word-embeddings es la \" + str(i) + \".\\n\")\n",
    "print(\"El clasificador dijo que era de la categoría \"+knn_test_predictions_we[i]+\" y en realidad era de \"+test_target[i]+\".\\n\")\n",
    "write_terms_we(we_vocabulary, test_n, query.toarray(), i)"
   ]
  },
  {
   "cell_type": "markdown",
   "metadata": {},
   "source": [
    "Esta noticia trata de cómo Rusia quería formar parte de la WTO (World Trade Organization) en 2005. Si bien es un artículo de la categoría 'business', es cierto que se centra mucho en la situación internacional de Rusia, hablando también de la opinión del presidente de Estados Unidos George Bush. Por tanto, es normal que en la vectorización del mensaje encontremos muchas palabras como 'putin', 'bush', 'ambassador', 'government', 'meeting', 'democracy', 'russia' o 'multilateral', mucho más propias de textos políticos que de textos financieros o de negocios. Por tanto, consideramos que, en este caso, es comprensible la confusión del clasificador, ya que aunque hay términos como 'businesses', 'ownership' o 'insurance', que podrían dar pistas de que no se trata de una noticia política (aunque son términos que técnicamente podrían aparecer en noticias políticas), hay muchas otras palabras que llevan a error. Esto provocará que el word-embeddings le asigne a la noticia una relación muy alta con conceptos puramente políticos y por tanto justifica el error. Como ya comentamos, este clasificador tiene más confusiones entre noticias de las categorías de política y de negocios."
   ]
  },
  {
   "cell_type": "markdown",
   "metadata": {},
   "source": [
    "#### Confusión entre clases del Naive Bayes con vectorización de frecuencias\n",
    "\n",
    "Para la última parte, se nos pide tomar dos clases del Naive Bayes con vectorización de frecuencias que no hayan funcionado demasiado bien. Sin embargo, el Naive Bayes que hemos entrenado funciona muy bien, con una precisión media del 98%. Tomaremos las clases business y politics debido a que son las únicas en las que ha habido malas clasificaciones en ambos sentidos.\n",
    "\n",
    "Veamos qué palabras son las más usadas en cada una de las categorías."
   ]
  },
  {
   "cell_type": "code",
   "execution_count": 39,
   "metadata": {},
   "outputs": [],
   "source": [
    "SIZE = 20\n",
    "\n",
    "frecuencias_totales = train['Category'].value_counts()"
   ]
  },
  {
   "cell_type": "code",
   "execution_count": 40,
   "metadata": {},
   "outputs": [
    {
     "name": "stdout",
     "output_type": "stream",
     "text": [
      "Hay un total de 261 noticias de business.\n",
      "\n",
      "Palabras más comunes encontradas en noticias de la categoría business:\n"
     ]
    },
    {
     "data": {
      "text/plain": [
       "[[92.3, 'said'],\n",
       " [62.4, 'year'],\n",
       " [46.3, 'new'],\n",
       " [40.2, 'company'],\n",
       " [40.2, 'firm'],\n",
       " [40.2, 'mr'],\n",
       " [39.0, 'market'],\n",
       " [34.0, '2004'],\n",
       " [33.7, 'chief'],\n",
       " [33.3, 'years'],\n",
       " [32.1, 'growth'],\n",
       " [31.0, 'government'],\n",
       " [29.5, 'world'],\n",
       " [28.3, 'business'],\n",
       " [27.9, 'analysts'],\n",
       " [27.9, 'financial'],\n",
       " [27.5, 'economy'],\n",
       " [27.5, 'shares'],\n",
       " [26.8, '000'],\n",
       " [26.8, 'biggest']]"
      ]
     },
     "execution_count": 40,
     "metadata": {},
     "output_type": "execute_result"
    }
   ],
   "source": [
    "from scipy.sparse import csr_matrix\n",
    "from operator import itemgetter\n",
    "\n",
    "terminos = np.zeros(len(feature_names))\n",
    "\n",
    "print(\"Hay un total de\", frecuencias_totales['business'], \"noticias de business.\\n\")\n",
    "\n",
    "for i in range(0,len(mnb_train_predictions)):\n",
    "    if mnb_train_predictions[i] == 'business':\n",
    "            msg=train_vector_data[i,:]\n",
    "            csr = csr_matrix(msg).toarray()\n",
    "            terminos = terminos + (csr[0] > 0)\n",
    "\n",
    "frecuencias_business = []\n",
    "\n",
    "for i in range(0,len(terminos)):\n",
    "    frecuencias_business.append([int(terminos[i] / frecuencias_totales['business'] * 1000) / 10,feature_names[i]])\n",
    "    \n",
    "frecuencias_business = sorted(frecuencias_business, key=itemgetter(0), reverse=True)\n",
    "\n",
    "print(\"Palabras más comunes encontradas en noticias de la categoría business:\")\n",
    "frecuencias_business[0:SIZE]"
   ]
  },
  {
   "cell_type": "code",
   "execution_count": 41,
   "metadata": {
    "scrolled": false
   },
   "outputs": [
    {
     "name": "stdout",
     "output_type": "stream",
     "text": [
      "Hay un total de 218 noticias de politics.\n",
      "\n",
      "Palabras más comunes encontradas en noticias de la categoría politics:\n"
     ]
    },
    {
     "data": {
      "text/plain": [
       "[[91.7, 'said'],\n",
       " [77.0, 'mr'],\n",
       " [69.7, 'government'],\n",
       " [54.1, 'people'],\n",
       " [52.7, 'minister'],\n",
       " [48.1, 'labour'],\n",
       " [44.9, 'election'],\n",
       " [43.1, 'blair'],\n",
       " [43.1, 'party'],\n",
       " [42.6, 'told'],\n",
       " [42.2, 'new'],\n",
       " [41.7, 'uk'],\n",
       " [39.9, 'tony'],\n",
       " [38.0, 'public'],\n",
       " [38.0, 'say'],\n",
       " [37.6, 'leader'],\n",
       " [36.6, 'prime'],\n",
       " [36.2, 'general'],\n",
       " [36.2, 'secretary'],\n",
       " [36.2, 'year']]"
      ]
     },
     "execution_count": 41,
     "metadata": {},
     "output_type": "execute_result"
    }
   ],
   "source": [
    "from scipy.sparse import csr_matrix\n",
    "from operator import itemgetter\n",
    "\n",
    "terminos = np.zeros(len(feature_names))\n",
    "\n",
    "print(\"Hay un total de\", frecuencias_totales['politics'], \"noticias de politics.\\n\")\n",
    "\n",
    "for i in range(0,len(mnb_train_predictions)):\n",
    "    if mnb_train_predictions[i] == 'politics':\n",
    "            msg=train_vector_data[i,:]\n",
    "            csr = csr_matrix(msg).toarray()\n",
    "            terminos = terminos + (csr[0] > 0)\n",
    "\n",
    "frecuencias_politics = []\n",
    "\n",
    "for i in range(0,len(terminos)):\n",
    "    frecuencias_politics.append([int(terminos[i] / frecuencias_totales['politics'] * 1000) / 10,feature_names[i]])\n",
    "    \n",
    "frecuencias_politics = sorted(frecuencias_politics, key=itemgetter(0), reverse=True)\n",
    "\n",
    "print(\"Palabras más comunes encontradas en noticias de la categoría politics:\")\n",
    "frecuencias_politics[0:SIZE]"
   ]
  },
  {
   "cell_type": "markdown",
   "metadata": {},
   "source": [
    "Como podemos ver, además de alguna palabra muy común como 'said', que aparece en toda clase de contextos y por lo tanto es probable que el clasificador no la tenga muy en cuenta, observamos que entre las palabras más comunes de las noticias de ambas categorías se encuentran muchos términos más específicos. Es el caso de 'company', 'growth', 'market' o 'analysts' para el caso de noticias de la categoría business y el de 'minister', 'leader', 'party' (en referencia al partido político) o 'secretary', términos mucho más habituales en temas políticos.\n",
    "\n",
    "En principio, la mayoría de las palabras son bastante diferentes y el clasificador debería ser capaz de distinguir entre ambas categorías sin demasiada dificultad. Vamos a analizar sin embargo los escasos ejemplos en los que esto no es así."
   ]
  },
  {
   "cell_type": "code",
   "execution_count": 42,
   "metadata": {},
   "outputs": [
    {
     "name": "stdout",
     "output_type": "stream",
     "text": [
      "Una noticia mal clasificada por el Naive Bayes con vectorización de frecuencias es la 91.\n",
      "El clasificador dijo que era de la categoría business y en realidad era de politics.\n",
      "\n",
      "Una noticia mal clasificada por el Naive Bayes con vectorización de frecuencias es la 149.\n",
      "El clasificador dijo que era de la categoría business y en realidad era de politics.\n",
      "\n",
      "Una noticia mal clasificada por el Naive Bayes con vectorización de frecuencias es la 294.\n",
      "El clasificador dijo que era de la categoría politics y en realidad era de business.\n",
      "\n"
     ]
    }
   ],
   "source": [
    "i = 0\n",
    "while(i < len(mnb_test_predictions)):\n",
    "    pred = mnb_test_predictions[i]\n",
    "    real = test_target[i]\n",
    "    if (pred == 'politics' and real == 'business') or (pred == 'business' and real == 'politics'):\n",
    "        print(\"Una noticia mal clasificada por el Naive Bayes con vectorización de frecuencias es la \" + str(i) + \".\")\n",
    "        print(\"El clasificador dijo que era de la categoría \" + pred + \" y en realidad era de \" + real + \".\\n\")\n",
    "    i = i+1;"
   ]
  },
  {
   "cell_type": "markdown",
   "metadata": {},
   "source": [
    "Veamos esas noticias."
   ]
  },
  {
   "cell_type": "code",
   "execution_count": 43,
   "metadata": {},
   "outputs": [
    {
     "name": "stdout",
     "output_type": "stream",
     "text": [
      "Mensaje 91 : gurkhas to help tsunami victims britain has offered to send a company of 120 gurkhas to assist with the tsunami relief effort in indonesia  downing street said.  the deployment would involve troops from the 2nd battalion royal gurkha rifles  based in brunei. discussions have begun with indonesia on the exact timing and location of the deployment  but the government said the offer was aimed at the aceh province. downing st said a similar offer might be made to the sri lankan government.  however a spokesman pointed out that there were particular logistical difficulties in indonesia which the gurkhas might be able to help with. the spokesman said:  following this morning s daily coordination meeting on the post-tsunami relief effort  the government has formally offered the indonesian government the assistance of a company of british army gurkhas from 2nd battalion royal gurkha rifles around 120 personnel and two helicopters.  this is in addition to the ships and aircraft we have already committed to the relief operation in the indian ocean.   indonesia was by far the country worst affected by the tsunami  with 94 000 of the 140 000 confirmed deaths so far. international development minister gareth thomas said the assistance offer would most likely focus on the northern province of aceh.  we have offered the gurkhas to help in the process of scaling up the relief effort  particularly in aceh which is undoubtedly the hardest hit area in the indian ocean at the moment   he said.  we ve also had raf aircraft flying in equipment which the un desperately need in order to set up a truly effective relief operation on the ground in aceh province as well.  the offer comes as the foreign secretary jack straw arrives in indonesia for a special summit meeting on the disaster.\n",
      "\n",
      " Mensaje 91 vectorizado: ['000' '120' '140' '94' 'able' 'aceh' 'addition' 'affected' 'aimed'\n",
      " 'aircraft' 'area' 'army' 'arrives' 'assist' 'assistance' 'based' 'begun'\n",
      " 'britain' 'british' 'brunei' 'comes' 'committed' 'company' 'confirmed'\n",
      " 'coordination' 'country' 'daily' 'deaths' 'deployment' 'desperately'\n",
      " 'development' 'difficulties' 'disaster' 'discussions' 'downing'\n",
      " 'effective' 'effort' 'equipment' 'exact' 'far' 'flying' 'focus'\n",
      " 'following' 'foreign' 'formally' 'gareth' 'government' 'ground' 'hardest'\n",
      " 'help' 'hit' 'indian' 'indonesia' 'indonesian' 'international' 'involve'\n",
      " 'jack' 'lankan' 'likely' 'location' 'logistical' 'meeting' 'minister'\n",
      " 'moment' 'morning' 'need' 'northern' 'ocean' 'offer' 'offered'\n",
      " 'operation' 'order' 'particular' 'particularly' 'personnel' 'pointed'\n",
      " 'post' 'process' 'province' 'relief' 'royal' 'said' 'secretary' 'send'\n",
      " 'set' 'ships' 'similar' 'special' 'spokesman' 'sri' 'st' 'straw' 'street'\n",
      " 'summit' 'thomas' 'timing' 'troops' 'truly' 'tsunami' 'undoubtedly' 've'\n",
      " 'victims' 'worst'] \n",
      "\n"
     ]
    }
   ],
   "source": [
    "write_terms(feature_names, test_n, test_vector_data, 91)"
   ]
  },
  {
   "cell_type": "code",
   "execution_count": 44,
   "metadata": {},
   "outputs": [
    {
     "name": "stdout",
     "output_type": "stream",
     "text": [
      "Mensaje 149 : minimum wage increased to £5.05 the minimum wage will rise in october  benefiting more than 1m people  the government has announced.  adults must be paid at least £5.05 an hour  up from £4.85  while 18 to 21 year olds will be paid £4.25. the recommendations came from the low pay commission which said the number of jobs had continued to grow since the minimum wage was introduced in 1999. businesses wanted it frozen  warning more rises could damage competitiveness but the unions want a £6 rate.  a further increase in the adult rate to £5.35 an hour is provisionally scheduled for october 2006. according to the commission  many businesses had found the last two significant increases in the minimum wage  challenging .  we have therefore recommended only a slight increase above average earnings  and concentrated it in the second year to allow business more time to absorb the impact   said chairman adair turner. the government says most of those on the minimum wage are women - with many working in cleaning  catering  shops and hairdressing.  unveiling the latest increase  mr blair said he wanted the minimum wage to become a  symbol of decency and fairness .  for too long  poverty pay capped the aspiration and prosperity of far too many hard-working families   he said.  too often  people were told to make a choice between the indignity of unemployment or the humiliation of poverty pay.  chancellor gordon brown and transport secretary alistair darling promoted the news in edinburgh  wales secretary peter hain and welsh first minister rhodri morgan in cardiff and northern ireland minister john spellar in belfast. the government has not accepted the commission s recommendation that 21-year-olds should be paid at the adult rate  but says it will look again at the rate later on. mr brown said:  we want to do nothing that can damage the employment opportunities for young people  particularly young people entering the labour market for the first time.  the government has said it will look at tougher action against the small number of employers who consistently refuse to pay the minimum wage.  the national minimum wage is currently set at £4.85 per hour for those aged 22 and above  and at £4.10 for those aged 18 to 21. a £3 per hour minimum wage was introduced last october for 16 to 17-year-olds  but apprentices are exempt. the trade unions congress welcomed the increase  but has called for a £6 minimum wage by next year. but the confederation of british industry (cbi) called for a  pause year  to assess the impact of the above inflation rise in the minimum wage in october. and david frost  director of the british chambers of commerce  said:  the level of increase each year has increased by rates far outstripping the rates of inflation.  what employers are saying to us now is that it s at a level where it s starting to bite into the competitiveness of companies right across the country.   the liberal democrats  economics spokesman vincent cable said he supported the move to raise the minimum wage.  it s not just good for the workers themselves but it lifts them out of benefits and therefore is good for the exchequer too   he said. conservative leader michael howard said he accepted the principle of the minimum wage and would not  seek to disturb  the increase. speaking on bbc radio 4 s woman s hour  mr howard hinted the tories might go into the general election with a promise to cancel income tax for the lowest-paid workers.  there are people on very low salaries  very low incomes indeed who really shouldn t be paying income tax   he said.  it would be better to decrease taxes on earnings below £12 000 a year  with say no tax on below £6 000. the losses in tax can be recouped by having a 50pc tax band for people making over £100 000. our minimum wage is going to be effectively almost twice the us minimum wage  yet our economy per person is only 2/3rds of the us! perhaps  we have to really starting questioning why some products cost 50-60% more here than they do in the us. this combined with the tax decreases would make the pounds the low-paid people do make go much further.  it s still not good enough! i got a part time job at 16 when i was doing my a-levels in an attempt to get a little money saved for uni. this was only 2 years ago and i was getting paid £2.75 an hour  and working as hard as any of the older staff  maybe it s about time 16 - 21 year olds got a fair wage!  we must remember that the minimum wage is only part of the picture and must not rise to a level that makes employing people unattractive and encourages businesses to send work and therefore jobs abroad. still government and local councils employ staff via their contractors that pay at the minimum wage or very close to it. an easy way for the government to do as it preaches would be to insist on floor pay levels for all government workers and take tens of thousand of civil servants out of the social security system all together.  any increase is certainly welcome news. however for all those whining about the pressures of an increase in the minimum wage i would simply ask them:  would you be happy to work for less than £5.05 an hour  . thought not ... so then  don t expect others to either.  i can t believe that so many of these comments are against the minimum wage! also i personally take great offence at the insinuation that people earning minimum wage were lazy at school if everyone went to university then who would serve you in the supermarkets and clean up after you  it s about time that these hardworking people are rewarded with only what they deserve and have earned fair pay and a bit of respect wouldn t go a miss either. br /&gt;  this is good news. the minimum wage has put a sense of equality back into a worker s relationship with their employer. wages are supposed to be a fair reflection of an employee s efforts. for too long wages were a point of exploitation - what could an employer get away with. in very simplistic terms this put a pressure to keep low-paid wages low. with the minimum wage this downward pressure is at least partly removed.  it is also interesting to read the comments from so called business leaders. they are the first to defend the rights and privileges of boards to award fat-cat salaries  bonuses and pension rights to the select few but they are the first to attack policies that are put in place to merely defend the rights of those that really make those fat cats purr!  i feel there are both negatives and positives to the increase  on one hand some businesses will struggle to stay afloat but on the other hand in today world many young people can t afford to move out as property costs too much and only by earning more will they be able to get on in life. its true many may get complacent but the minimum wage could be looked at as more of a stepping stone rather than a hand out.  here come the usual whines about how difficult it will be for businesses! we all remember michael howard s protestations that the minimum wage would cost a million jobs when it was introduced - funny how he s gone quiet on that one! jobs have continued to increase since this humane legislation was brought in. i think if any job is worth doing then it s worth being paid a fair wage for  and £5.05 is hardly a fortune. if your business cannot pay its workers a decent wage then maybe it s not being run properly and if it folds  a better-run company will take over its duties and employ more people  so everybody wins except incompetent business owners!  great keep at it tony  i remember the despair of the 80s and the low wages employers got away with. at last we can make a difference to people and reward them for working. we can t afford not to pay a decent wage. it s not a jobs at any price economy  goodbye sweatshops hello decency.  the increase in minimum wage is a good thing. living in the southwest where house prices and rent have increased hugely (like the rest of the country) over the past 5 years has made living for you average 18-21 years old very difficult. in the south west the increase in living costs have not been matched by an increase in pay  for example a job i did in plymouth was underpaid to an equivalent worker in exeter by 75p an hour. hopefully the increase in the minimum wage will bring in to balance pay on a regional and national level  and in turn allow people like myself who do work hard  but might never earn a 6 figure salary the chance to branch out on our own.  i work at a large hospital where the contractors providing all ancillary services - domestic  catering & portering etc - pay the minimum wage of £4.85 as the basic rate. someone has to do these unglamorous jobs and earn enough to live decently. how dare people suggest we are lazy or complacent for accepting these jobs and these wages  who do they think will be carrying out these public service jobs if contractors are allowed to pay as little as their consciences allow   this is definitely the right step in the right direction. it shows that this government cares for the low income earners as well. this is a million votes more. good strategy isn t it   although i would not deny people the minimum wage increase  its timing stinks. i am quite prepared for a raft of  bribes  to come from the government before the election and a raft of taxes afterwards  they are playing us for the fools they think we are.  this is extremely bad news for any business - whether they are small and medium enterprises or even large companies. by increasing overheads  for business  there will be an almost certain rise in costs to the consumer who while they openly welcome the idea of an increase in the minimum wage are the same people who still want to buy that shirt  or that pair of trainers for next to nothing. the extra cost this increase will bring  will only be reflected in the price of the goods we buy  which  in turn will only serve to discourage companies from setting-up business in the uk  or encourage those companies already based here to look elsewhere. the jubilation felt by  low-paid  workers here will soon give way to misery as they lose their jobs.  this will only lead to a reduction in jobs. why have many of the call centre jobs gone to india. blair say s the economy is  strong and stable economy  however consumer debt and the country s debt is at its highest and now they heap this onto businesses  that will have no choice but to cut the workforce.  the timing cannot be coincidental. this is blatant electioneering and should be exposed as such.  andrew in derby complains that raising the minimum wage is  blatant electioneering . i don t mind if it is. in our degraded democracy  elections are the one time when elites really have to worry about doing something concrete for the majority. my only complaint is the paltry figures being discussed. if my maths is right  a 35 hour week at £5.05 gives you an annual income just over £9 000 and raising it to £6 leaves it under £11 000. the unions should be putting the government under pressure for much more. businesses complaining might like to take a look at corporate pay  shareholder payouts and profits before wondering if paying a living wage is really a controlling factor in the viability of their firm.  i am all for lifting the minimum wage of workers to a reasonable level  but we have to accept that with this will come competition from overseas workers. also small businesses will have to be able to afford this manpower cost. we are already seeing a sweeping change in it work being lost to india where people are paid much less. it is difficult for me to understand that only five years ago cheap labour abroad was classified as  sweat shop   but now we are told it is global competition. with our manufacturing industry in serious decline the country cannot be entirely service industries without something tangible to serve. there has to be something at the top of the food chain and that is manufacturing. the whole picture needs to be looked at.  this is great news  but that might be because i work for minimum wage. seems a good idea and will hopefully be an incentive to those who live to claim to actually get a job. when you can  earn  more from claiming than you can from work  there is no incentive. perhaps a step in the right direction.  if the tuc get their way a very large number of smes will have to close - this will put more people out of work. how then will the government fudge the unemployment figures! the government know it is not big business that keeps the economy going but the smes but we always get overlooked  they will only take notice if these large corporations close and move to other countries  after all they are predominantly owned by foreign companies. we are a specialist company but with these increases have already had an effect on us and we have lost work another one will close us.  while i m delighted for those on low pay that this increase is being put forward  i am extremely concerned at the implications for small businesses. as an employee for a small nursery  i know this increase will cause great hardship for my employer  who has been unable to increase salaries for higher paid employees because of last october s increase for the lower paid employees - who were originally being paid slightly above the minimum but are now on the minimum. this latest increase of 20p an hour will cause even more financial hardship. if the rate rises to £6 then i can foresee many small businesses having to pay off employees.  the increase in minimum wage will have a serious effect on my business. although we pay above the minimum level we will have to increase our pay rates to maintain the differential. the raise is well above inflation and without significant increases in sales  it will mean that i will not be taking on a new member of staff as planned and i will be looking to reduce the total hours worked by the other members of staff  overtime being the first to go.  i currently employ 42 staff whose wages mirror the national minimum wage. increases above inflation are fine but all of my business is conducted with local authorities who will not accept above inflation rises in my service delivery. 80% of my costs are labour. the other aspect that is always hidden is that the thresholds for tax credits do not move in line with these increases so that all that happens is that employees tax credit support is reduced by the amount of the increase  thereby saving the government money but increasing the financial burden on small to medium businesses  it is very good that the government has decided to increase the minimum wage - this should hopefully motivate people to undertake the  lower status  jobs.  i know about this great idea - don t bother getting qualifications  laze about at school  no need to do anything other than attend so your parents don t get fined because remember  when you do eventually start working  doesn t matter how lazy you are  you ll be guaranteed a decent wage. the ones who suffer are the employers.  i hope that if industry and business have to pay this new rate that mr blair and mr brown will increase tax allowances and raise national insurance thresholds so that the treasury won t take some of this increase off the people they say they are helping  or is this just another form of stealth tax on business through the back door   i don t believe in the minimum wage at all! i think jobs should create their own wage value and that if people want higher wages they should earn them. now  before everyone thinks that i am some  rich-kid   i can assure you i am not. i came from a very much working class background and started work 20 years ago on a youth opportunity program earning £25 per week. i worked hard  went to college part time  got my a-levels and degree & bettered myself. i now earn a 6 figure salary. i did that through hard work and getting off my backside. a minimum wage just makes people complacent.  to ashley  of swindon: when you earned £25 per week  it was worth something. these days that £25 would need to be near to £60 to have the equivalent buying power. i might add  that thanks to successive governments holding down the tax allowance threshold below inflation  people earning the minimum wage are paying taxes that they never would have done 10 years ago at equivalent wages.  in my day  type arguments are a view that belong in the  your day  - 20 years ago!  as a graduate working for minimum wage  i welcome any increase of pay i can get. i disagree with ashley  swindon saying i have to work harder to get more pay. i have my gcse s a-levels and a degree and have chosen to work for a small business that can t afford the wages i should be getting  i should be on at least 3x what i m getting but they can t afford it. we all work hard but the money is just not there. but on the plus side i love my job and wouldn t change it just to get more pay.  as an employer of staff in several shops the last rise in the minimum wage cost my company an additional £5000 per year. these next rises will cost me more. i have to get the money from somewhere so pass it on to customers. so no one really wins in the end.  in answer to emma from sleaford regarding no one really wins in the end... on the contrary mr blair wins - he wins because he obviously has announced this to be a vote winner and his treasury wins because as an employer you will know that the amount of tax and national insurance that the government will receive from all the minimum wage increases will rise and of course not only will be paying out higher wages but as an employer higher employer ni contributions as well. if the minimum wage increases again and if it hits anywhere near the £6.00 mark there will be 12 more people on the employment line and one more small business going bankrupt - namely mine. think of us employers as well mr blair  we are not all big corporations earning millions.  all workers should be entitled to a fair day s pay for a fair day s work. how many people on the minimum wage have any hope of obtaining a mortgage or saving towards retirement   it is good news for many asians living in uk. students who do odd jobs can increase their income and can help there family in their home country. i thank mr. blair and his government for increase in the national minimum wage.\n",
      "\n",
      " Mensaje 149 vectorizado: ['00' '000' '05' '10' '100' '11' '12' '16' '17' '18' '1999' '1m' '20'\n",
      " '2006' '21' '22' '25' '35' '42' '50' '5000' '60' '75' '75p' '80' '80s'\n",
      " '85' 'able' 'abroad' 'absorb' 'accept' 'accepted' 'accepting' 'according'\n",
      " 'action' 'actually' 'add' 'additional' 'adult' 'adults' 'afford' 'aged'\n",
      " 'ago' 'alistair' 'allow' 'allowance' 'allowances' 'allowed' 'andrew'\n",
      " 'announced' 'annual' 'answer' 'arguments' 'ashley' 'ask' 'aspect'\n",
      " 'assess' 'assure' 'attack' 'attempt' 'attend' 'authorities' 'average'\n",
      " 'award' 'away' 'background' 'backside' 'bad' 'balance' 'band' 'bankrupt'\n",
      " 'based' 'basic' 'bbc' 'belfast' 'believe' 'belong' 'benefiting'\n",
      " 'benefits' 'better' 'bettered' 'big' 'bit' 'bite' 'blair' 'blatant'\n",
      " 'boards' 'bonuses' 'bother' 'branch' 'bring' 'british' 'brought' 'brown'\n",
      " 'burden' 'business' 'businesses' 'buy' 'buying' 'cable' 'called' 'came'\n",
      " 'cancel' 'capped' 'cardiff' 'carrying' 'cat' 'cats' 'cause' 'cbi'\n",
      " 'centre' 'certain' 'certainly' 'chain' 'chairman' 'challenging'\n",
      " 'chambers' 'chance' 'chancellor' 'change' 'cheap' 'choice' 'chosen'\n",
      " 'civil' 'claim' 'claiming' 'class' 'classified' 'clean' 'cleaning'\n",
      " 'close' 'college' 'combined' 'come' 'comments' 'commerce' 'commission'\n",
      " 'companies' 'company' 'competition' 'competitiveness' 'complacent'\n",
      " 'complaining' 'complains' 'complaint' 'concentrated' 'concerned'\n",
      " 'concrete' 'conducted' 'confederation' 'congress' 'conservative'\n",
      " 'consistently' 'consumer' 'continued' 'contractors' 'contrary'\n",
      " 'contributions' 'controlling' 'corporate' 'corporations' 'cost' 'costs'\n",
      " 'councils' 'countries' 'country' 'course' 'create' 'credit' 'credits'\n",
      " 'currently' 'customers' 'cut' 'damage' 'darling' 'david' 'day' 'days'\n",
      " 'debt' 'decent' 'decided' 'decline' 'decrease' 'defend' 'definitely'\n",
      " 'degree' 'delighted' 'delivery' 'democracy' 'democrats' 'deny' 'derby'\n",
      " 'deserve' 'did' 'difference' 'differential' 'difficult' 'direction'\n",
      " 'director' 'disagree' 'discourage' 'discussed' 'doesn' 'doing' 'domestic'\n",
      " 'don' 'door' 'downward' 'duties' 'earn' 'earned' 'earners' 'earning'\n",
      " 'earnings' 'easy' 'economics' 'economy' 'edinburgh' 'effect'\n",
      " 'effectively' 'efforts' 'election' 'electioneering' 'elections' 'emma'\n",
      " 'employ' 'employee' 'employees' 'employer' 'employers' 'employing'\n",
      " 'employment' 'encourage' 'end' 'entering' 'enterprises' 'entirely'\n",
      " 'entitled' 'equality' 'equivalent' 'eventually' 'everybody' 'example'\n",
      " 'exchequer' 'exempt' 'exeter' 'expect' 'exploitation' 'exposed' 'extra'\n",
      " 'extremely' 'factor' 'fair' 'fairness' 'families' 'family' 'far' 'fat'\n",
      " 'feel' 'felt' 'figure' 'figures' 'financial' 'fine' 'fined' 'firm'\n",
      " 'floor' 'food' 'fools' 'foreign' 'form' 'fortune' 'forward' 'frost'\n",
      " 'frozen' 'funny' 'general' 'getting' 'gives' 'global' 'going' 'gone'\n",
      " 'good' 'goodbye' 'goods' 'gordon' 'got' 'government' 'governments'\n",
      " 'graduate' 'great' 'grow' 'guaranteed' 'hand' 'happens' 'happy' 'hard'\n",
      " 'harder' 'hardly' 'having' 'heap' 'help' 'helping' 'hidden' 'higher'\n",
      " 'highest' 'hinted' 'hits' 'holding' 'home' 'hope' 'hopefully' 'hospital'\n",
      " 'hour' 'hours' 'house' 'howard' 'hugely' 'humane' 'humiliation' 'idea'\n",
      " 'impact' 'implications' 'incentive' 'income' 'incomes' 'increase'\n",
      " 'increased' 'increases' 'increasing' 'india' 'indignity' 'industries'\n",
      " 'industry' 'inflation' 'insist' 'insurance' 'interesting' 'introduced'\n",
      " 'ireland' 'isn' 'job' 'jobs' 'john' 'just' 'keeps' 'kid' 'know' 'labour'\n",
      " 'large' 'later' 'latest' 'lazy' 'lead' 'leader' 'leaders' 'leaves'\n",
      " 'legislation' 'level' 'levels' 'liberal' 'life' 'lifting' 'lifts' 'like'\n",
      " 'line' 'little' 'live' 'living' 'll' 'local' 'long' 'look' 'looked'\n",
      " 'looking' 'lose' 'losses' 'lost' 'love' 'low' 'lower' 'lowest' 'maintain'\n",
      " 'majority' 'make' 'makes' 'making' 'manufacturing' 'mark' 'market'\n",
      " 'matched' 'maths' 'matter' 'maybe' 'mean' 'medium' 'member' 'members'\n",
      " 'merely' 'michael' 'million' 'millions' 'mind' 'minimum' 'minister'\n",
      " 'mirror' 'misery' 'miss' 'money' 'morgan' 'mortgage' 'motivate' 'mr'\n",
      " 'national' 'near' 'need' 'needs' 'negatives' 'new' 'news' 'northern'\n",
      " 'notice' 'number' 'nursery' 'obtaining' 'obviously' 'october' 'odd'\n",
      " 'offence' 'old' 'older' 'olds' 'ones' 'opportunities' 'opportunity'\n",
      " 'originally' 'outstripping' 'overheads' 'overlooked' 'overseas' 'owned'\n",
      " 'owners' 'paid' 'pair' 'paltry' 'parents' 'particularly' 'partly' 'pass'\n",
      " 'past' 'pause' 'pay' 'paying' 'payouts' 'pension' 'people' 'person'\n",
      " 'personally' 'peter' 'picture' 'place' 'planned' 'playing' 'plus'\n",
      " 'plymouth' 'point' 'policies' 'positives' 'pounds' 'poverty' 'power'\n",
      " 'preaches' 'predominantly' 'prepared' 'pressure' 'pressures' 'price'\n",
      " 'prices' 'principle' 'privileges' 'products' 'profits' 'program'\n",
      " 'promise' 'promoted' 'properly' 'property' 'prosperity' 'providing'\n",
      " 'provisionally' 'public' 'putting' 'qualifications' 'questioning' 'quiet'\n",
      " 'quite' 'radio' 'raft' 'raise' 'raising' 'rate' 'rates' 'read' 'really'\n",
      " 'reasonable' 'receive' 'recommendation' 'recommendations' 'recommended'\n",
      " 'recouped' 'reduce' 'reduced' 'reduction' 'reflected' 'reflection'\n",
      " 'refuse' 'regarding' 'regional' 'relationship' 'remember' 'removed'\n",
      " 'rent' 'respect' 'rest' 'retirement' 'reward' 'rewarded' 'rhodri' 'rich'\n",
      " 'right' 'rights' 'rise' 'rises' 'run' 'said' 'salaries' 'salary' 'sales'\n",
      " 'saved' 'saving' 'say' 'saying' 'says' 'scheduled' 'school' 'second'\n",
      " 'secretary' 'security' 'seeing' 'seek' 'select' 'send' 'sense' 'servants'\n",
      " 'serve' 'service' 'services' 'set' 'setting' 'shareholder' 'shirt' 'shop'\n",
      " 'shops' 'shouldn' 'shows' 'significant' 'simply' 'sleaford' 'slight'\n",
      " 'slightly' 'small' 'social' 'soon' 'south' 'speaking' 'specialist'\n",
      " 'spokesman' 'stable' 'staff' 'start' 'started' 'starting' 'status' 'stay'\n",
      " 'stealth' 'step' 'stepping' 'stone' 'strategy' 'strong' 'struggle'\n",
      " 'students' 'successive' 'suffer' 'suggest' 'supermarkets' 'support'\n",
      " 'supported' 'supposed' 'sweeping' 'swindon' 'symbol' 'taking' 'tax'\n",
      " 'taxes' 'tens' 'terms' 'thank' 'thanks' 'thing' 'think' 'thinks'\n",
      " 'thought' 'thousand' 'threshold' 'thresholds' 'time' 'timing' 'today'\n",
      " 'told' 'tony' 'tories' 'total' 'tougher' 'trade' 'trainers' 'transport'\n",
      " 'treasury' 'true' 'tuc' 'turn' 'turner' 'twice' 'type' 'uk' 'unable'\n",
      " 'understand' 'undertake' 'unemployment' 'unions' 'university' 'unveiling'\n",
      " 'usual' 'value' 'viability' 'view' 'vincent' 'vote' 'votes' 'wage'\n",
      " 'wages' 'wales' 'want' 'wanted' 'warning' 'way' 'week' 'welcome'\n",
      " 'welcomed' 'welsh' 'went' 'west' 'winner' 'wins' 'woman' 'women' 'won'\n",
      " 'wondering' 'work' 'worked' 'worker' 'workers' 'workforce' 'working'\n",
      " 'world' 'worry' 'worth' 'wouldn' 'year' 'years' 'young' 'youth'] \n",
      "\n"
     ]
    }
   ],
   "source": [
    "write_terms(feature_names, test_n, test_vector_data, 149)"
   ]
  },
  {
   "cell_type": "code",
   "execution_count": 45,
   "metadata": {},
   "outputs": [
    {
     "name": "stdout",
     "output_type": "stream",
     "text": [
      "Mensaje 294 : saudi ministry to employ women women will be employed in saudi arabia s foreign ministry for the first time this year  foreign minister prince saud al-faisal has been reported as saying.  the move comes as the conservative country inches open the door to working women. last year  crown prince abdullah  the de-facto ruler  told government departments to put plans in place for employing women. but progress has been slow  reports from the country say.  earlier this week  the local arab news said labour minister ghazi al-gosaibi had  caused uproar  when he said his ministry was having difficulty hiring women because they demanded segregated offices. the newspaper said many saudi women found his explanation  a pitiful excuse for not employing women . women now make up more than half of all graduates from saudi universities but only 5% of the workforce.  our educational reforms have created a new generation of highly-educated and professionally trained saudi women who are acquiring their rightful position in saudi society   arab news quoted prince saud as saying.  i am proud to mention here that this year we shall have women working in the ministry of foreign affairs for the first time.\n",
      "\n",
      " Mensaje 294 vectorizado: ['abdullah' 'acquiring' 'affairs' 'al' 'arab' 'arabia' 'caused' 'comes'\n",
      " 'conservative' 'country' 'created' 'crown' 'demanded' 'departments'\n",
      " 'difficulty' 'door' 'earlier' 'educated' 'educational' 'employ'\n",
      " 'employed' 'employing' 'excuse' 'explanation' 'foreign' 'generation'\n",
      " 'government' 'graduates' 'half' 'having' 'highly' 'hiring' 'inches'\n",
      " 'labour' 'local' 'make' 'mention' 'minister' 'ministry' 'new' 'news'\n",
      " 'newspaper' 'offices' 'open' 'place' 'plans' 'position' 'prince'\n",
      " 'professionally' 'progress' 'proud' 'quoted' 'reforms' 'reported'\n",
      " 'reports' 'rightful' 'ruler' 'said' 'saudi' 'say' 'saying' 'segregated'\n",
      " 'shall' 'slow' 'society' 'time' 'told' 'trained' 'universities' 'week'\n",
      " 'women' 'workforce' 'working' 'year'] \n",
      "\n"
     ]
    }
   ],
   "source": [
    "write_terms(feature_names, test_n, test_vector_data, 294)"
   ]
  },
  {
   "cell_type": "markdown",
   "metadata": {},
   "source": [
    "Puesto que la noticia número 149 del conjunto de test es muy extensa, resulta más difícil analizarla, así que nos centraremos en las otras.\n",
    "\n",
    "- En la noticia número 91, aunque encontramos muchos de los términos que nos podrían indicar que se trata de una noticia de la categoría 'politics', como por ejemplo 'secretary', 'government' (aunque esta también aparece frecuentemente en noticias de 'business' con menor frecuencia) o 'minister', parece que otras palabras como 'logistical' o 'company' han confundido al clasificador. En este caso sin embargo, resulta un tanto extraña esta confusión debido a que parece haber varias palabras que aparecen casi en exclusiva en textos políticos y no hay prácticamente ninguna que pueda resultar infrecuente en este contexto.\n",
    " \n",
    "- Por otro lado, en la noticia número 294, encontramos justo el caso contrario. Se trata de una noticia de la categoría 'business' en la que aparecen multitud de palabras comunes en textos políticos, como 'reforms', 'minister', 'prince', 'conservative', 'society' o 'crown'. De hecho, al leer la noticia como tal, es más que factible que se pudiera enmarcar dentro de la categoría de política más que de la categoría empresarial o financiera."
   ]
  },
  {
   "cell_type": "markdown",
   "metadata": {},
   "source": [
    "Podemos resumir toda la discusión de la sección en que en general el clasificador es capaz de distinguir casi a la perfección entre las dos categorías, siendo las excepciones muy raras. Los términos más comunes en una y otra sección son muy diferentes y, aunque hay alguna noticia en la que se puedan mezclar (como la 294 que hemos analizado), son casos aislados que no afectan prácticamente al excelente comportamiento del clasificador."
   ]
  }
 ],
 "metadata": {
  "colab": {
   "name": "P1_clasificaccion_texto_2122_enunciado.ipynb",
   "provenance": []
  },
  "kernelspec": {
   "display_name": "Python 3 (ipykernel)",
   "language": "python",
   "name": "python3"
  },
  "language_info": {
   "codemirror_mode": {
    "name": "ipython",
    "version": 3
   },
   "file_extension": ".py",
   "mimetype": "text/x-python",
   "name": "python",
   "nbconvert_exporter": "python",
   "pygments_lexer": "ipython3",
   "version": "3.9.7"
  }
 },
 "nbformat": 4,
 "nbformat_minor": 1
}
