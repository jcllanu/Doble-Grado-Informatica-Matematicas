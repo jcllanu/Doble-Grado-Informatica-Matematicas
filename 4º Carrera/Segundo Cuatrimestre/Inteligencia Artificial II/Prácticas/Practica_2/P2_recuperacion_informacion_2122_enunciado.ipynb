{
 "cells": [
  {
   "cell_type": "markdown",
   "metadata": {
    "id": "jpd0gkGnpzXT"
   },
   "source": [
    "# Práctica 2: Procesamiento del Lenguaje Natural\n",
    "\n",
    "__Fecha de entrega: 17 de abril de 2022__\n",
    "\n",
    "El objetivo de esta práctica es aplicar los conceptos teóricos vistos en clase en el módulo de PLN. La práctica consta de 2 notebooks que se entregarán simultáneamente en la tarea de entrega habilitada en el Campus  Virtual.\n",
    "\n",
    "Lo más importante en esta práctica no es el código Python, sino el análisis de los datos y modelos que construyas y las explicaciones razonadas de cada una de las decisiones que tomes. __No se valorarán trozos de código o gráficas sin ningún tipo de contexto o explicación__.\n",
    "\n",
    "Finalmente, recuerda establecer el parámetro `random_state` en todas las funciones que tomen decisiones aleatorias para que los resultados sean reproducibles (los resultados no varíen entre ejecuciones)."
   ]
  },
  {
   "cell_type": "code",
   "execution_count": 1,
   "metadata": {
    "id": "IBx1oG6bpzXY"
   },
   "outputs": [],
   "source": [
    "RANDOM_STATE = 42"
   ]
  },
  {
   "cell_type": "markdown",
   "metadata": {
    "id": "TkJPtLPRpzXa"
   },
   "source": [
    "# Apartado 2: Recuperación de información"
   ]
  },
  {
   "cell_type": "markdown",
   "metadata": {
    "id": "de-i8w0s3yvC"
   },
   "source": [
    "__Número de grupo: 2__\n",
    "\n",
    "__Nombres de los estudiantes: Enrique Rey Gisbert, Alberto Almagro Sánchez y Juan Carlos Llamas Núñez__"
   ]
  },
  {
   "cell_type": "markdown",
   "metadata": {
    "id": "W1iFIS_EpzXc"
   },
   "source": [
    "## 1) Carga del conjunto de datos\n",
    "\n",
    "El fichero `BBC News.csv` contiene noticias clasificadas en 5 categorías diferentes. \n",
    "\n",
    "Carga los datos en un dataframe teniendo en cuenta que la columna `ArticleId` es un identificador de la noticia y por lo tanto no lo vamos a usar. \n",
    "\n",
    "Estudia el tamaño del conjunto de datos y la proporción de noticias que pertenecen a cada una de las categorías.\n",
    "\n",
    "Crea una partición estratificada de los datos dejando el 80% para entrenamiento y el 20% restante para test usando la función `train_test_split` de sklearn. "
   ]
  },
  {
   "cell_type": "markdown",
   "metadata": {},
   "source": [
    "Empezamos, al igual que en la práctica anterior, cargando el dataframe con los datos del fichero BBC_News.csv y mostrando el tamaño del conjunto de datos y la proporción de noticias de cada categoría. Al ser igual el dataset que en la practica anterior, nos remitimos a ella para el análisis del mismo."
   ]
  },
  {
   "cell_type": "code",
   "execution_count": 2,
   "metadata": {},
   "outputs": [],
   "source": [
    "import numpy as np\n",
    "import pandas as pd\n",
    "from sklearn.model_selection import train_test_split"
   ]
  },
  {
   "cell_type": "code",
   "execution_count": 3,
   "metadata": {},
   "outputs": [
    {
     "data": {
      "text/html": [
       "<div>\n",
       "<style scoped>\n",
       "    .dataframe tbody tr th:only-of-type {\n",
       "        vertical-align: middle;\n",
       "    }\n",
       "\n",
       "    .dataframe tbody tr th {\n",
       "        vertical-align: top;\n",
       "    }\n",
       "\n",
       "    .dataframe thead th {\n",
       "        text-align: right;\n",
       "    }\n",
       "</style>\n",
       "<table border=\"1\" class=\"dataframe\">\n",
       "  <thead>\n",
       "    <tr style=\"text-align: right;\">\n",
       "      <th></th>\n",
       "      <th>ArticleId</th>\n",
       "      <th>Text</th>\n",
       "      <th>Category</th>\n",
       "    </tr>\n",
       "  </thead>\n",
       "  <tbody>\n",
       "    <tr>\n",
       "      <th>0</th>\n",
       "      <td>1833</td>\n",
       "      <td>worldcom ex-boss launches defence lawyers defe...</td>\n",
       "      <td>business</td>\n",
       "    </tr>\n",
       "    <tr>\n",
       "      <th>1</th>\n",
       "      <td>154</td>\n",
       "      <td>german business confidence slides german busin...</td>\n",
       "      <td>business</td>\n",
       "    </tr>\n",
       "    <tr>\n",
       "      <th>2</th>\n",
       "      <td>1101</td>\n",
       "      <td>bbc poll indicates economic gloom citizens in ...</td>\n",
       "      <td>business</td>\n",
       "    </tr>\n",
       "    <tr>\n",
       "      <th>3</th>\n",
       "      <td>1976</td>\n",
       "      <td>lifestyle  governs mobile choice  faster  bett...</td>\n",
       "      <td>tech</td>\n",
       "    </tr>\n",
       "    <tr>\n",
       "      <th>4</th>\n",
       "      <td>917</td>\n",
       "      <td>enron bosses in $168m payout eighteen former e...</td>\n",
       "      <td>business</td>\n",
       "    </tr>\n",
       "    <tr>\n",
       "      <th>...</th>\n",
       "      <td>...</td>\n",
       "      <td>...</td>\n",
       "      <td>...</td>\n",
       "    </tr>\n",
       "    <tr>\n",
       "      <th>1485</th>\n",
       "      <td>857</td>\n",
       "      <td>double eviction from big brother model caprice...</td>\n",
       "      <td>entertainment</td>\n",
       "    </tr>\n",
       "    <tr>\n",
       "      <th>1486</th>\n",
       "      <td>325</td>\n",
       "      <td>dj double act revamp chart show dj duo jk and ...</td>\n",
       "      <td>entertainment</td>\n",
       "    </tr>\n",
       "    <tr>\n",
       "      <th>1487</th>\n",
       "      <td>1590</td>\n",
       "      <td>weak dollar hits reuters revenues at media gro...</td>\n",
       "      <td>business</td>\n",
       "    </tr>\n",
       "    <tr>\n",
       "      <th>1488</th>\n",
       "      <td>1587</td>\n",
       "      <td>apple ipod family expands market apple has exp...</td>\n",
       "      <td>tech</td>\n",
       "    </tr>\n",
       "    <tr>\n",
       "      <th>1489</th>\n",
       "      <td>538</td>\n",
       "      <td>santy worm makes unwelcome visit thousands of ...</td>\n",
       "      <td>tech</td>\n",
       "    </tr>\n",
       "  </tbody>\n",
       "</table>\n",
       "<p>1490 rows × 3 columns</p>\n",
       "</div>"
      ],
      "text/plain": [
       "      ArticleId                                               Text  \\\n",
       "0          1833  worldcom ex-boss launches defence lawyers defe...   \n",
       "1           154  german business confidence slides german busin...   \n",
       "2          1101  bbc poll indicates economic gloom citizens in ...   \n",
       "3          1976  lifestyle  governs mobile choice  faster  bett...   \n",
       "4           917  enron bosses in $168m payout eighteen former e...   \n",
       "...         ...                                                ...   \n",
       "1485        857  double eviction from big brother model caprice...   \n",
       "1486        325  dj double act revamp chart show dj duo jk and ...   \n",
       "1487       1590  weak dollar hits reuters revenues at media gro...   \n",
       "1488       1587  apple ipod family expands market apple has exp...   \n",
       "1489        538  santy worm makes unwelcome visit thousands of ...   \n",
       "\n",
       "           Category  \n",
       "0          business  \n",
       "1          business  \n",
       "2          business  \n",
       "3              tech  \n",
       "4          business  \n",
       "...             ...  \n",
       "1485  entertainment  \n",
       "1486  entertainment  \n",
       "1487       business  \n",
       "1488           tech  \n",
       "1489           tech  \n",
       "\n",
       "[1490 rows x 3 columns]"
      ]
     },
     "execution_count": 3,
     "metadata": {},
     "output_type": "execute_result"
    }
   ],
   "source": [
    "df = pd.read_csv('BBC News.csv')\n",
    "df"
   ]
  },
  {
   "cell_type": "markdown",
   "metadata": {},
   "source": [
    "Observamos que hay 1489 artículos, lo cual ya comentamos que es una cantidad aceptable para poder analizar los modelos entrenando los clasificadores."
   ]
  },
  {
   "cell_type": "code",
   "execution_count": 4,
   "metadata": {},
   "outputs": [
    {
     "data": {
      "text/plain": [
       "sport            23.221477\n",
       "business         22.550336\n",
       "politics         18.389262\n",
       "entertainment    18.322148\n",
       "tech             17.516779\n",
       "Name: Category, dtype: float64"
      ]
     },
     "execution_count": 4,
     "metadata": {},
     "output_type": "execute_result"
    }
   ],
   "source": [
    "df['Category'].value_counts() / df['Category'].count() * 100"
   ]
  },
  {
   "cell_type": "markdown",
   "metadata": {},
   "source": [
    "En la tabla anterior volvemos a notar que tenemos una cantidad equilibrada de noticias de las 5 categorías, rondando el 20% en cada una. "
   ]
  },
  {
   "cell_type": "markdown",
   "metadata": {},
   "source": [
    "Creamos por último una partición del conjunto de datos, dejando un 80% para entrenamiento y un 20% para test, utilizando la función train_test_split y barajándolos para ignorar posibles ordenamientos o patrones en los datos iniciales."
   ]
  },
  {
   "cell_type": "code",
   "execution_count": 5,
   "metadata": {
    "scrolled": true
   },
   "outputs": [
    {
     "data": {
      "text/plain": [
       "(      ArticleId                                               Text  \\\n",
       " 1166       1682  fuming robinson blasts officials england coach...   \n",
       " 1106       1950  huge rush for jet airways shares indian airlin...   \n",
       " 538         623  voters  don t trust politicians  eight out of ...   \n",
       " 439        1431  dundee utd 4-1 aberdeen dundee united eased in...   \n",
       " 1478       1144  visa row mandarin made sir john the top civil ...   \n",
       " ...         ...                                                ...   \n",
       " 1130        193  blair  said he would stand down  tony blair pr...   \n",
       " 1294        111  us trade gap hits record in 2004 the gap betwe...   \n",
       " 860         833  tories pledge free sports lessons children wou...   \n",
       " 1459       2206  dance music not dead says fatboy dj norman coo...   \n",
       " 1126        759  greek pair attend drugs hearing greek sprinter...   \n",
       " \n",
       "            Category  \n",
       " 1166          sport  \n",
       " 1106       business  \n",
       " 538        politics  \n",
       " 439           sport  \n",
       " 1478       politics  \n",
       " ...             ...  \n",
       " 1130       politics  \n",
       " 1294       business  \n",
       " 860        politics  \n",
       " 1459  entertainment  \n",
       " 1126          sport  \n",
       " \n",
       " [1192 rows x 3 columns],\n",
       "       ArticleId                                               Text  \\\n",
       " 941        2160  wal-mart is sued over rude lyrics the parents ...   \n",
       " 297        1360  howard taunts blair over splits tony blair s f...   \n",
       " 271         302  fox attacks blair s tory  lies  tony blair lie...   \n",
       " 774         864  online commons to spark debate online communit...   \n",
       " 420        2184  piero gives rugby perspective bbc sport unveil...   \n",
       " ...         ...                                                ...   \n",
       " 1144        126  us crude prices surge above $53 us crude price...   \n",
       " 1309       1533  saudi ministry to employ women women will be e...   \n",
       " 1444       1886  label withdraws mcfadden s video the new video...   \n",
       " 949        1701  california sets fines for spyware the makers o...   \n",
       " 1212        170  stars gear up for bafta ceremony film stars fr...   \n",
       " \n",
       "            Category  \n",
       " 941   entertainment  \n",
       " 297        politics  \n",
       " 271        politics  \n",
       " 774            tech  \n",
       " 420            tech  \n",
       " ...             ...  \n",
       " 1144       business  \n",
       " 1309       business  \n",
       " 1444  entertainment  \n",
       " 949            tech  \n",
       " 1212  entertainment  \n",
       " \n",
       " [298 rows x 3 columns])"
      ]
     },
     "execution_count": 5,
     "metadata": {},
     "output_type": "execute_result"
    }
   ],
   "source": [
    "train, test = train_test_split(df, test_size=0.2, random_state=RANDOM_STATE, shuffle=True)\n",
    "train, test"
   ]
  },
  {
   "cell_type": "code",
   "execution_count": 6,
   "metadata": {},
   "outputs": [
    {
     "data": {
      "text/plain": [
       "(sport            23.741611\n",
       " business         21.895973\n",
       " entertainment    19.043624\n",
       " politics         18.288591\n",
       " tech             17.030201\n",
       " Name: Category, dtype: float64,\n",
       " business         25.167785\n",
       " sport            21.140940\n",
       " tech             19.463087\n",
       " politics         18.791946\n",
       " entertainment    15.436242\n",
       " Name: Category, dtype: float64)"
      ]
     },
     "execution_count": 6,
     "metadata": {},
     "output_type": "execute_result"
    }
   ],
   "source": [
    "train['Category'].value_counts() / train['Category'].count() * 100, test['Category'].value_counts() / test['Category'].count() * 100"
   ]
  },
  {
   "cell_type": "markdown",
   "metadata": {
    "id": "3Fx5hJC7pzXf"
   },
   "source": [
    "## 2) Representación basada en bolsa de palabras y tf-idf\n",
    "\n",
    "La primera vectorización que vamos a usar representará los mensajes usando el modelo de bolsa de palabras, monogramas y el valor tf-idf de cada palabra. Usa como _stop words_ las que vienen configuradas por defecto para el inglés.\n",
    "\n",
    "Aplica la vectorización a los conjuntos de mensajes de entrenamiento y test. Muestra algún mensaje tanto en su formato de texto original como en la versión vectorizada. ¿Qué palabras se han eliminado y por qué?\n",
    "\n",
    "Calcula la precisión@5 de cada una de las clases usando como consultas los documentos de la partición de test y la similitud del coseno. Vamos a considerar que un documento recuperado es relevante cuando pertenezca a la misma clase que la consulta.\n",
    "\n",
    "Dibuja los resultados en un diagrama de barras y comenta las clases en las que se comporta mejor y peor. ¿Crees que los resultados son buenos?"
   ]
  },
  {
   "cell_type": "code",
   "execution_count": 7,
   "metadata": {
    "id": "wKdL2-VSpzXg"
   },
   "outputs": [],
   "source": [
    "from sklearn.feature_extraction.text import CountVectorizer"
   ]
  },
  {
   "cell_type": "markdown",
   "metadata": {},
   "source": [
    "Empezamos, de igual forma que en la práctica anterior, aplicando la vectorización al conjunto de entrenamiento y al conjunto de test. Podemos ver cómo han quedado los términos y cuántos términos hay utilizando la función get_feature_names() y mostrando train_vector_data una vez hecho el fit_transform con el conjunto de entrenamiento."
   ]
  },
  {
   "cell_type": "code",
   "execution_count": 8,
   "metadata": {},
   "outputs": [],
   "source": [
    "vectorizer = CountVectorizer(stop_words='english', binary=False)\n",
    "train_n = train.loc[:,'Text'].to_numpy()\n",
    "train_vector_data=vectorizer.fit_transform(train_n)"
   ]
  },
  {
   "cell_type": "code",
   "execution_count": 9,
   "metadata": {},
   "outputs": [
    {
     "name": "stdout",
     "output_type": "stream",
     "text": [
      "22302\n",
      "['00', '000', '0001', '000bn', '000m', '000th', '001', '001and', '001st', '0051', '007', '01', '0100', '0130', '028', '03', '033', '0400', '041', '04secs', '05', '050', '050505', '0530', '0530gmt', '056', '05bn', '05m', '06', '0630', '069', '07', '0700', '0710', '072', '0730', '08', '080', '0800', '0845', '0870', '088', '0900', '0950', '09secs', '10', '100', '1000m', '100bn', '100m', '100ml', '101', '102', '103', '104', '105', '105m', '106m', '107', '108', '1080', '109', '109m', '10bn', '10ft', '10m', '10secs', '10th', '11', '110', '1100', '110m', '110th', '111', '112', '113', '1130', '1130p', '113bn', '115', '116', '116i', '117', '117m', '118', '119', '119bn', '119m', '11bn', '11m', '11pm', '11th', '12', '120', '1200', '1200m', '120bn', '120gb', '120m', '121', '1230', '125', '125m', '126', '127th', '128', '129', '12a', '12bn', '12cm', '12m', '12th', '13', '130', '1300', '130m', '132', '133', '1330', '1337', '133m', '134', '135', '136', '137', '137m', '138m', '138p', '139', '13bn', '13m', '13s', '13secs', '13th', '14', '140', '140bn', '142', '142bn', '1430', '143m', '144', '1441', '144m', '145m', '146', '146m', '149', '1497', '14bn', '14m', '14th', '15', '150', '1500', '1500m', '150m', '151', '152', '152m', '153', '154m', '155', '155bn', '155m', '156m', '157', '158', '158th', '159', '15bn', '15m', '15mbps', '15s', '15th', '16', '1600', '1600s', '1606', '160gb', '160m', '161', '162', '162bn', '162m', '163', '163m', '164', '1642', '165', '166', '166bn', '167', '1670', '168', '1689', '168m', '16bn', '16k', '16m', '16s', '16th', '17', '170', '1700', '1701', '170bn', '170m', '171', '1727', '1728', '173', '1731', '173m', '174', '175', '175m', '1761', '177', '1774', '1776', '178', '178m', '17bn', '17m', '17th', '18', '180', '1800', '1800gmt', '1800s', '1801', '180bn', '1815', '182', '1830', '1831', '1834', '184', '185', '1857', '186', '1865', '186m', '187', '1870', '1875', '187m', '187th', '188', '1888', '189', '1891', '1893', '18bn', '18m', '18s', '18th', '19', '190', '1900', '1903', '1905', '1908', '190m', '191', '1911', '1912', '1915', '1917', '191m', '1920', '1920s', '1921', '1922', '1924', '1925', '1927', '1928', '1929', '193', '1930', '1930s', '1934', '1935', '1936', '1937', '1938', '1939', '193bn', '1940', '1940s', '1942', '1944', '1945', '1946', '1947', '1948', '1949', '194m', '195', '1950', '1950s', '1951', '1952', '1953', '1954', '1955', '1956', '1957', '1958', '196', '1960', '1960s', '1961', '1962', '1963', '1964', '1965', '1966', '1967', '1968', '1969', '1970', '1970s', '1971', '1972', '1973', '1974', '1975', '1976', '1977', '1978', '1979', '197bn', '1980', '1980s', '1981', '1982', '1983', '1984', '1985', '1986', '1987', '1988', '1989', '198m', '1990', '1990s', '1991', '1992', '1993', '1994', '1995', '1996', '1997', '1998', '1999', '19bn', '19m', '19secs', '19th', '1bn', '1m', '1p', '1st', '1xtra', '20', '200', '2000', '2001', '2001alleging', '2001fetched', '2002', '2003', '2004', '2005', '2006', '2007', '2008', '2009', '200bn', '200lr', '200m', '2010', '2011', '2012', '2013', '2014', '2015', '2018', '2020', '2022', '2025', '203', '204', '2048', '204m', '205', '206', '206bn', '20bn', '20c', '20gb', '20m', '20s', '20th', '21', '2100', '2100gmt', '211', '216', '217', '219', '21bn', '21m', '21st', '22', '220', '2200', '220m', '222', '2230gmt', '224', '225', '226', '227', '229', '22bn', '22m', '22nd', '23', '230', '2300', '230bn', '230m', '231m', '233', '2340', '234m', '239', '23bn', '23m', '23rd', '24', '240', '245m', '246', '246bn', '24bn', '24m', '24th', '25', '250', '2500', '250m', '253m', '256mb', '258', '258bn', '25bn', '25gbps', '25m', '25p', '25s', '25th', '26', '260', '261bn', '263', '264th', '265m', '266m', '267', '268', '26bn', '26m', '26th', '27', '270', '271', '271st', '272', '273', '275', '276', '277', '277th', '27bn', '27m', '28', '280', '280bn', '280m', '281m', '282', '283', '285m', '2871', '28bn', '28p', '28th', '29', '290', '290m', '291', '291m', '292', '293', '294', '2940', '2944', '297', '2974', '29a', '29bn', '29m', '2bn', '2d', '2g', '2gb', '2k', '2km', '2m', '2mbps', '30', '300', '3000', '3006', '300bn', '300m', '300p', '301', '3040', '305', '305m', '306', '308m', '30bn', '30ft', '30gb', '30m', '30mg', '30mph', '30s', '31', '312', '313', '318', '3187', '31bn', '31m', '31p', '32', '320', '320kg', '320m', '3218', '322', '324', '325', '325m', '327m', '328m', '329', '32bn', '32m', '32nd', '33', '331bn', '336m', '337', '339', '339m', '33bn', '33rd', '34', '340', '345m', '348bn', '349', '349m', '34bn', '34th', '35', '350', '3509', '350m', '3516', '354', '357', '35bn', '35m', '35mm', '35th', '36', '360', '364', '365m', '368bn', '36bn', '36m', '36th', '37', '370', '371m', '374m', '375', '377bn', '378', '379m', '37bn', '38', '385', '386', '39', '390', '392', '398m', '399', '39bn', '39m', '3bn', '3c', '3d', '3g', '3gp', '3gsm', '3m', '40', '400', '40052308090', '400m', '400th', '401', '402', '404', '407th', '40bn', '40gb', '40m', '40mbps', '40mph', '40s', '40th', '41', '412bn', '413', '418bn', '41bn', '41m', '42', '420', '424m', '425', '427bn', '428m', '429m', '42m', '42nd', '43', '431m', '433', '434m', '436', '43m', '44', '440', '443m', '444', '44bn', '44th', '45', '450', '455', '456m', '458', '458m', '45bn', '45m', '45pm', '45secs', '45th', '46', '465', '466', '469', '46m', '46secs', '47', '474', '475m', '479m', '47bn', '47m', '48', '480', '480m', '481', '484bn', '486', '488', '48bn', '48m', '48th', '49', '492m', '496', '499', '499m', '49m', '4bn', '4cast', '4cm', '4ghz', '4in', '4km', '4m', '4p', '4pm', '4th', '4x100m', '50', '500', '5000', '5000m', '500m', '505', '506m', '50gb', '50m', '50mg', '50p', '50th', '51', '512', '512kbps', '512mb', '514', '51secs', '52', '520', '521', '522', '525', '52m', '52nd', '53', '530', '530m', '535', '537bn', '537m', '538', '53bn', '53m', '53p', '54', '540m', '542', '546m', '548p', '54bn', '54th', '55', '550', '550m', '555', '556', '55bn', '55m', '55s', '55th', '56', '560', '563', '568m', '569', '569m', '56bn', '57', '570', '575', '57bn', '58', '581m', '584m', '59', '590', '599', '59th', '5bn', '5g', '5gb', '5ive', '5m', '5p', '60', '600', '601', '603', '605', '607', '60bn', '60gb', '60m', '60p', '60s', '60secs', '60th', '61', '610m', '611', '61st', '62', '625', '62secs', '63', '630', '630m', '635', '63m', '63rd', '63secs', '64', '642', '644m', '645', '648m', '64secs', '65', '650', '659', '65bn', '65s', '66', '6600', '660m', '661', '666', '6661', '667', '66bn', '66m', '66secs', '67', '671', '674', '67th', '68', '680', '680m', '684bn', '68m', '68seconds', '69', '690', '691m', '692', '6bn', '6ft', '6ghz', '6km', '6m', '6pm', '70', '700', '701m', '705m', '70m', '70p', '70s', '70th', '71', '717', '717m', '72', '720', '725m', '72m', '73', '730', '732m', '733', '737', '738', '73m', '74', '740', '745', '74m', '74th', '75', '750', '750m', '75bn', '75m', '75p', '75s', '76', '767', '768m', '76m', '77', '775', '775m', '777', '77m', '77th', '78', '780', '784m', '785m', '787', '78bn', '79', '796', '797p', '798m', '799', '79m', '79p', '79th', '7bn', '7m', '7p', '80', '800', '800m', '803', '805', '808', '808m', '80bn', '80gb', '80m', '80mg', '80p', '80s', '80th', '81', '814', '815', '81st', '82', '820', '83', '830bn', '831', '833', '836m', '838m', '84', '840', '84th', '85', '850', '850bn', '850m', '855bn', '857m', '85m', '86', '865', '86bn', '86m', '86th', '87', '870', '873p', '874', '874m', '875', '87th', '88', '885', '88m', '88th', '89', '895', '89bn', '89m', '89secs', '89th', '8am', '8bn', '8gb', '8ghz', '8m', '8mbps', '90', '900', '900m', '901m', '902', '906', '907', '9094', '90m', '90s', '90th', '91', '910m', '911', '915', '91m', '92', '920', '922', '924', '925p', '9276', '93', '932', '933m', '93rd', '94', '940', '943', '94m', '95', '950', '950m', '950p', '953', '957', '95bn', '95m', '96', '960m', '961', '966m', '96bn', '97', '971', '975', '97bn', '97m', '98', '981', '984m', '98bn', '98m', '98th', '99', '997', '999', '999th', '9bn', '9km', '9m', '9p', 'a300s', 'a320', 'a380', 'a380s', 'a4', 'aa', 'aaa', 'aaas', 'aac', 'aadc', 'aaliyah', 'aamir', 'aaron', 'abacus', 'abandon', 'abandoned', 'abandoning', 'abandonment', 'abating', 'abba', 'abbas', 'abbasi', 'abbott', 'abbreviated', 'abc', 'abd', 'abdellatif', 'abdication', 'abdomen', 'abducted', 'abduction', 'abdullah', 'abdullatif', 'aberdeen', 'aberration', 'aberystwyth', 'abeyance', 'abeyie', 'abi', 'abide', 'abided', 'abiding', 'abilities', 'ability', 'abish', 'able', 'abn', 'abnormal', 'abnormality', 'abolish', 'abolishing', 'abolition', 'aborted', 'abortion', 'abortionist', 'abortive', 'abramovich', 'abroad', 'absa', 'absence', 'absent', 'absentee', 'absolute', 'absolutely', 'absolution', 'absorb', 'absorbed', 'absorbing', 'absorbs', 'abstain', 'abstentions', 'absurd', 'abtahi', 'abu', 'abundance', 'abundantly', 'aburizal', 'abuse', 'abused', 'abuses', 'abusing', 'abusive', 'abut', 'abysmal', 'ac', 'academic', 'academics', 'academies', 'academy', 'acapulco', 'acc', 'accelerate', 'accelerated', 'accelerating', 'accelerator', 'accept', 'acceptable', 'acceptance', 'acceptances', 'accepted', 'accepting', 'accepts', 'access', 'accessed', 'accessible', 'accessing', 'accession', 'accessories', 'accessory', 'accident', 'accidental', 'accidentally', 'accidents', 'acclaim', 'acclaimed', 'acclimate', 'acclimatise', 'accolade', 'accolades', 'accommodate', 'accommodated', 'accommodating', 'accommodation', 'accompanied', 'accompaniment', 'accompany', 'accompanying', 'accomplice', 'accomplices', 'accomplish', 'accomplished', 'accomplishment', 'accord', 'accordance', 'according', 'accordingly', 'accosiation', 'account', 'accountability', 'accountable', 'accountancy', 'accountant', 'accountants', 'accounted', 'accounting', 'accounts', 'accoustic', 'accra', 'accredited', 'accretive', 'accumulate', 'accumulated', 'accumulates', 'accumulator', 'accuracy', 'accurate', 'accurately', 'accusation', 'accusations', 'accuse', 'accused', 'accusing', 'accustomed', 'ace', 'aceh', 'aces', 'achievable', 'achieve', 'achieved', 'achievement', 'achievements', 'achieving', 'achike', 'achilles', 'achtung', 'ackerman', 'acknowledge', 'acknowledged', 'acknowledges', 'acne', 'acoustic', 'acpo', 'acquainted', 'acquiescent', 'acquire', 'acquired', 'acquiring', 'acquisition', 'acquisitions', 'acquittal', 'acquitted', 'acre', 'acres', 'acrimonious', 'acrimony', 'acrobatic', 'act', 'acted', 'acting', 'action', 'actionaid', 'actions', 'activate', 'activated', 'active', 'actively', 'activision', 'activison', 'activist', 'activists', 'activities', 'activity', 'actor', 'actors', 'actress', 'actresses', 'acts', 'actual', 'actually', 'ad', 'adage', 'adam', 'adamind', 'adams', 'adapt', 'adaptation', 'adaptations', 'adapted', 'adapter', 'adapters', 'adapting', 'adaptor', 'adaptors', 'adarsh', 'adb', 'add', 'addaction', 'added', 'addicks', 'addiction', 'addictive', 'addicts', 'adding', 'addink', 'addison', 'addition', 'additional', 'additionally', 'additives', 'address', 'addressed', 'addresses', 'addressing', 'adds', 'adductor', 'adelaide', 'adept', 'adequate', 'adequately', 'adera', 'adere', 'ades', 'adhere', 'adhi', 'adidas', 'adjudged', 'adjudicator', 'adjust', 'adjusted', 'adjusting', 'adjustment', 'adjustments', 'adjusts', 'adler', 'administered', 'administering', 'administration', 'administrations', 'administrative', 'administrator', 'administrators', 'admirable', 'admiration', 'admire', 'admired', 'admirer', 'admissibility', 'admission', 'admissions', 'admit', 'admits', 'admittance', 'admitted', 'admittedly', 'admitting', 'admonished', 'adnan', 'ado', 'adolescent', 'adopt', 'adopted', 'adopters', 'adopting', 'adoption', 'adoptive', 'adornments', 'adrian', 'adriano', 'adrien', 'adroit', 'ads', 'adsense', 'adsl', 'adulation', 'adult', 'adultery', 'adulthood', 'adults', 'advance', 'advanced', 'advancement', 'advances', 'advancing', 'advanta', 'advantage', 'advantages', 'advent', 'adventure', 'adventures', 'adventurous', 'adverse', 'adversely', 'adversity', 'advert', 'advertise', 'advertised', 'advertisements', 'advertiser', 'advertisers', 'advertising', 'adverts', 'advice', 'advise', 'advised', 'adviser', 'advisers', 'advises', 'advising', 'advisor', 'advisors', 'advisory', 'advocate', 'advocates', 'adware', 'ae', 'aer', 'aero', 'aeronautics', 'aeroplane', 'aerosmith', 'aerospace', 'aesthetics', 'affair', 'affairs', 'affect', 'affected', 'affecting', 'affection', 'affectionately', 'affects', 'afficiandos', 'affiliate', 'affiliates', 'afflicting', 'afford', 'affordability', 'affordable', 'afforded', 'afful', 'afghanistan', 'afi', 'afield', 'afoot', 'afp', 'afraid', 'africa', 'african', 'africans', 'aftermath', 'afternoon', 'aftewards', 'afzal', 'ag', 'agassi', 'age', 'aged', 'ageing', 'ageism', 'agence', 'agencies', 'agency', 'agenda', 'agendas', 'agent', 'agents', 'ages', 'aggravated', 'aggravating', 'aggregate', 'aggregates', 'aggregator', 'aggregators', 'aggression', 'aggressive', 'aggressively', 'aggressors', 'agility', 'aging', 'agitated', 'agm', 'agnelli', 'agnetha', 'ago', 'agoa', 'agonising', 'agonisingly', 'agony', 'agree', 'agreeable', 'agreed', 'agreeing', 'agreement', 'agreements', 'agrees', 'agricultural', 'agriculture', 'agroflora', 'aguilera', 'agustin', 'agyemang', 'ah', 'ahead', 'ahern', 'ahmed', 'ahold', 'ai', 'aid', 'aidan', 'aide', 'aided', 'aiden', 'aides', 'aids', 'aig', 'ailing', 'aim', 'aimed', 'aiming', 'aimlessly', 'aims', 'aiport', 'air', 'airbrushes', 'airbus', 'aircraft', 'aired', 'aires', 'airing', 'airline', 'airliner', 'airliners', 'airlines', 'airplane', 'airplanes', 'airplay', 'airport', 'airports', 'airtime', 'airways', 'aishwariya', 'aishwarya', 'aisle', 'aitken', 'aiyegbeni', 'aizlewood', 'aj', 'ajax', 'ak', 'aka', 'akamai', 'akhmetov', 'akin', 'akon', 'al', 'alabama', 'aladdin', 'alain', 'alamos', 'alan', 'alarm', 'alarmed', 'alarming', 'alarms', 'alasdair', 'alastair', 'albacete', 'albania', 'albanian', 'albany', 'albee', 'albeit', 'albert', 'alberto', 'albion', 'album', 'albums', 'alcatel', 'alcobev', 'alcohol', 'alcoholism', 'alda', 'aldershot', 'ale', 'alegre', 'alencar', 'alert', 'alerted', 'alerting', 'alerts', 'alessandro', 'alex', 'alexander', 'alexandra', 'alexandria', 'alexei', 'alfa', 'alfie', 'alfred', 'algemeen', 'algeria', 'algerian', 'algorithm', 'algorithms', 'ali', 'alias', 'aliases', 'alice', 'alicia', 'alien', 'alienated', 'aliens', 'alight', 'align', 'aligned', 'alike', 'alison', 'alistair', 'alita', 'alive', 'allahgreen', 'allaire', 'allan', 'allander', 'allard', 'allardyce', 'allawi', 'allay', 'allaying', 'allegation', 'allegations', 'allege', 'alleged', 'allegedly', 'alleges', 'allegiance', 'allegiances', 'alleging', 'allen', 'allende', 'alleviate', 'alley', 'alleyne', 'alliance', 'alliances', 'allianz', 'allied', 'allies', 'allister', 'allocated', 'allocating', 'allocations', 'allotting', 'allow', 'allowance', 'allowances', 'alloway', 'allowed', 'allowing', 'allows', 'allsop', 'alltel', 'alludes', 'alluding', 'allure', 'ally', 'almagro', 'almeria', 'almunia', 'alois', 'alongside', 'aloud', 'alphabet', 'alphabetically', 'alphabets', 'alright', 'altavista', 'alter', 'altered', 'altering', 'alternative', 'alternatively', 'alternatives', 'alto', 'altogether', 'alton', 'altria', 'aluminium', 'alumnia', 'alun', 'alva', 'alvin', 'alwaleed', 'alwi', 'alyn', 'alzheimer', 'am3d', 'amalgamated', 'amanda', 'amassed', 'amateur', 'amateurish', 'amateurs', 'amaya', 'amazed', 'amazes', 'amazing', 'amazon', 'ambassador', 'ambassadors', 'amber', 'ambient', 'ambition', 'ambitions', 'ambitious', 'ambitous', 'ambuja', 'ambushed', 'amd', 'amelia', 'amelie', 'amend', 'amending', 'amendment', 'amendments', 'amends', 'amenity', 'ameobi', 'america', 'american', 'americanised', 'americans', 'ames', 'amey', 'amf', 'amibition', 'amicable', 'amicably', 'amicus', 'amid', 'amidst', 'amiga', 'amin', 'amitabh', 'amma', 'amman', 'ammunition', 'amnesty', 'amoah', 'amoeba', 'amor', 'amounted', 'amounting', 'amounts', 'ampadu', 'ampas', 'amplification', 'amplified', 'amplifier', 'amplifies', 'amplify', 'amply', 'amputated', 'amputators', 'amputee', 'amputees', 'amritsar', 'amro', 'amstel', 'amsterdam', 'amuro', 'amy', 'ana', 'anabolic', 'anakin', 'analgesic', 'analogue', 'analogy', 'analyse', 'analysed', 'analysing', 'analysis', 'analyst', 'analysts', 'analyzing', 'anastacia', 'anastasia', 'anatoly', 'anatomical', 'ancestors', 'anchor', 'ancic', 'ancient', 'ancram', 'anderlecht', 'andersen', 'anderson', 'andersson', 'anderton', 'andhra', 'andi', 'andre', 'andrea', 'andreas', 'andreev', 'andrei', 'andrew', 'andrews', 'andy', 'anecdotal', 'anelka', 'aneurysm', 'anew', 'anfield', 'angadias', 'angel', 'angeles', 'angelina', 'angels', 'anger', 'angie', 'angle', 'angled', 'anglers', 'anglesea', 'anglia', 'anglian', 'anglicans', 'angling', 'anglo', 'angola', 'angolan', 'angrily', 'angry', 'angst', 'angus', 'animal', 'animals', 'animate', 'animated', 'animation', 'animations', 'animators', 'animosity', 'anita', 'ankara', 'ankle', 'ann', 'anna', 'annabelle', 'annals', 'annan', 'anne', 'annette', 'anni', 'annie', 'anniversaries', 'anniversary', 'annoucement', 'announce', 'announced', 'announcement', 'announcements', 'announces', 'announcing', 'annoyance', 'annoyingly', 'annoys', 'annual', 'annualised', 'annually', 'annuity', 'annul', 'annum', 'annus', 'anoeta', 'anomalies', 'anomaly', 'anonymity', 'anonymous', 'anonymously', 'anouncing', 'anselmo', 'ansheng', 'anshuman', 'anson', 'answer', 'answered', 'answers', 'ant', 'ante', 'antenna', 'anthem', 'anthemic', 'anthony', 'anti', 'antibacterial', 'anticipated', 'anticipating', 'anticipation', 'antics', 'antique', 'antiques', 'antiseptics', 'antitrust', 'antoine', 'antoinette', 'antonia', 'antonio', 'antony', 'antrim', 'antwerp', 'anurag', 'anxiety', 'anxious', 'anybody', 'anyhting', 'anymore', 'aol', 'ap', 'apace', 'apache', 'apacs', 'apalling', 'apart', 'apartheid', 'apathetic', 'apathy', 'apiece', 'aplomb', 'apocalypse', 'apollo', 'apologise', 'apologised', 'apologising', 'apology', 'appalling', 'apparatus', 'apparel', 'apparent', 'apparently', 'appeal', 'appealed', 'appealing', 'appeals', 'appear', 'appearance', 'appearances', 'appeared', 'appearing', 'appears', 'appetite', 'applaud', 'applauded', 'applauds', 'applause', 'apple', 'appleford', 'applegate', 'apples', 'appleton', 'appliance', 'appliances', 'applicants', 'application', 'applications', 'applied', 'applies', 'apply', 'applying', 'appoint', 'appointed', 'appointment', 'appointments', 'appoints', 'appraisal', 'appraising', 'appreciably', 'appreciate', 'appreciated', 'appreciation', 'apprehended', 'apprehension', 'apprenticeship', 'approach', 'approached', 'approaches', 'approaching', 'appropriate', 'appropriately', 'approval', 'approvals', 'approve', 'approved', 'approves', 'approximately', 'approximation', 'apps', 'april', 'aquatic', 'ar', 'arab', 'arabia', 'arabian', 'arabic', 'arabs', 'arafat', 'aragones', 'aramburu', 'arash', 'arbitrarily', 'arbitrary', 'arbitration', 'arbor', 'arbuckle', 'arc', 'arcade', 'arcades', 'arcelor', 'arch', 'archbishop', 'archer', 'archibald', 'architect', 'architecture', 'archive', 'archived', 'archives', 'archivists', 'archos', 'arcleor', 'arcy', 'ard', 'ardent', 'arditti', 'area', 'areas', 'aren', 'arena', 'arenas', 'aretha', 'argentina', 'argentine', 'argonaut', 'arguably', 'argue', 'argued', 'argues', 'arguing', 'argument', 'argumentative', 'arguments', 'aria', 'ariel', 'aries', 'arise', 'arisen', 'arising', 'arizona', 'arjan', 'arjen', 'ark', 'arkansas', 'arling', 'arlington', 'arm', 'armagh', 'armand', 'armando', 'armani', 'armed', 'armenians', 'armentieres', 'armes', 'armistead', 'armoury', 'arms', 'army', 'arnaud', 'arne', 'arnesen', 'arnold', 'arnoldo', 'arnoud', 'aroused', 'arouses', 'arrange', 'arranged', 'arrangement', 'arrangements', 'array', 'arrese', 'arrest', 'arrested', 'arrests', 'arrival', 'arrivals', 'arrive', 'arrived', 'arrives', 'arriving', 'arrogance', 'arrogant', 'arrogantly', 'arsenal', 'arsene', 'arsenic', 'arsenide', 'arses', 'art', 'artell', 'artery', 'arteta', 'arthritis', 'arthur', 'artic', 'article', 'articles', 'artificial', 'artificially', 'artist', 'artistic', 'artists', 'arts', 'artwork', 'artworks', 'aru', 'arvind', 'asagoe', 'asahi', 'asante', 'asbestos', 'asbestosis', 'ascenders', 'ascii', 'ashamed', 'ashanti', 'ashburton', 'ashcroft', 'ashdown', 'asher', 'ashes', 'ashfield', 'ashford', 'ashley', 'ashvin', 'asi', 'asia', 'asian', 'aside', 'ask', 'asked', 'asking', 'asks', 'asleep', 'aspect', 'aspects', 'aspersions', 'asphalt', 'aspic', 'aspiring', 'asplin', 'ass', 'assassin', 'assassinated', 'assassination', 'assault', 'assaulted', 'assaulting', 'assaults', 'assembled', 'assemblies', 'assembling', 'assembly', 'assert', 'assertion', 'assertions', 'asses', 'assess', 'assessed', 'assesses', 'assessing', 'assessment', 'assessments', 'asset', 'assets', 'assigned', 'assignment', 'assigns', 'assist', 'assistance', 'assistant', 'assistants', 'assisted', 'assisting', 'associate', 'associated', 'associates', 'association', 'associations', 'assortment', 'assume', 'assumed', 'assuming', 'assumption', 'assumptions', 'assurance', 'assurances', 'assure', 'assured', 'aston', 'astonished', 'astonishing', 'astonishingly', 'astonishment', 'astoria', 'astounded', 'astra', 'astrazeneca', 'astro', 'astronauts', 'astronomical', 'asylum', 'asymmetric', 'asymmetry', 'atari', 'athens', 'athlete', 'athletes', 'athletic', 'athleticism', 'athletico', 'athletics', 'athlon', 'atkinson', 'atlanta', 'atlantic', 'atlas', 'atletico', 'atmosphere', 'atmospheric', 'atms', 'atomic', 'atoms', 'atomstroieksport', 'aton', 'atp', 'atr', 'attach', 'attached', 'attachment', 'attachments', 'attack', 'attacked', 'attacker', 'attackers', 'attacking', 'attacks', 'attain', 'attaining', 'attainment', 'attallah', 'attempt', 'attempted', 'attempting', 'attempts', 'attend', 'attendance', 'attendances', 'attendant', 'attendants', 'attended', 'attendees', 'attending', 'attends', 'attention', 'attentions', 'attentive', 'atticus', 'attitude', 'attitudes', 'attlee', 'attorney', 'attract', 'attracted', 'attracting', 'attraction', 'attractions', 'attractive', 'attracts', 'attributable', 'attributed', 'attributes', 'atwood', 'au', 'auction', 'auctioned', 'auctioneer', 'auctions', 'audi', 'audience', 'audiences', 'audio', 'audiophile', 'audiovisuel', 'audit', 'audition', 'auditions', 'auditor', 'auditorium', 'auditors', 'audrey', 'augment', 'august', 'augusto', 'aulis', 'aunt', 'aura', 'aurelien', 'auric', 'auschwitz', 'aussie', 'aussies', 'austin', 'australasia', 'australia', 'australian', 'austria', 'austrian', 'authentic', 'author', 'authorial', 'authorise', 'authorised', 'authorises', 'authorising', 'authoritarian', 'authorities', 'authority', 'authors', 'autistic', 'auto', 'autobiographical', 'autobiography', 'autocycle', 'autographs', 'automaker', 'automated', 'automatic', 'automatically', 'automobiles', 'automotive', 'autosport', 'autumn', 'auxerre', 'av400', 'availability', 'available', 'avalanche', 'avalon', 'avatar', 'avatars', 'avenue', 'avenues', 'average', 'averages', 'averaging', 'avert', 'averted', 'averting', 'avery', 'avg', 'avi', 'aviation', 'aviator', 'avid', 'avions', 'aviv', 'avoid', 'avoidance', 'avoided', 'avoiding', 'avoids', 'avonex', 'avril', 'await', 'awaited', 'awaiting', 'awaits', 'awakening', 'award', 'awarded', 'awarding', 'awards', 'aware', 'awareness', 'away', 'awe', 'awesome', 'awful', 'awfully', 'awkward', 'awol', 'axa', 'axe', 'axed', 'axing', 'ayaan', 'aymone', 'azkaban', 'aznavour', 'aztrazeneca', 'azzam', 'azzurri', 'baa', 'baas', 'babacan', 'babayaro', 'babinet', 'baby', 'babyshamblers', 'babyshambles', 'babysitter', 'bac', 'baccanello', 'baccarat', 'bach', 'bachchan', 'backbench', 'backbencher', 'backbenchers', 'backbenches', 'backbone', 'backdated', 'backdoor', 'backdrop', 'backed', 'backers', 'backfired', 'backfires', 'backfiring', 'background', 'backgrounds', 'backhand', 'backhands', 'backing', 'backlash', 'backley', 'backline', 'backroom', 'backs', 'backside', 'backsides', 'backstage', 'backstreet', 'backtrack', 'backward', 'backwards', 'backyard', 'bacon', 'bad', 'baddeley', 'badge', 'badly', 'badminton', 'bae', 'bafana', 'bafin', 'bafta', 'baftas', 'bag', 'baggage', 'bagged', 'baggins', 'baghdad', 'bagle', 'bagnato', 'bagpuss', 'bags', 'baha', 'bahamas', 'baht', 'baikal', 'bail', 'bailed', 'bailey', 'bailin', 'bailout', 'bainivalu', 'baker', 'bakersfield', 'bakley', 'bakrie', 'balado', 'balamory', 'balance', 'balanced', 'balances', 'balancing', 'balco', 'balde', 'balding', 'baldini', 'baldrick', 'ball', 'ballad', 'ballantine', 'ballboy', 'ballet', 'balloon', 'ballooning', 'ballot', 'balloted', 'balloting', 'ballots', 'ballroom', 'balls', 'ballykissangel', 'ballymena', 'balmer', 'baltacha', 'baltasar', 'bamboozled', 'ban', 'bana', 'banana', 'banca', 'band', 'bandaid', 'banded', 'banderas', 'bandmates', 'bands', 'bandstand', 'bandwagon', 'bandwidth', 'bang', 'bangaldesh', 'bangalore', 'banging', 'bangkok', 'bangladesh', 'bangladeshi', 'bangor', 'bangs', 'banished', 'banjo', 'bank', 'bankable', 'bankash', 'banked', 'banker', 'bankers', 'banking', 'bankroll', 'bankrupt', 'bankruptcies', 'bankruptcy', 'banks', 'bannatyne', 'banned', 'banner', 'banning', 'banque', 'banques', 'banquet', 'bans', 'banter', 'banton', 'baoshan', 'bar', 'barbados', 'barbara', 'barbarians', 'barber', 'barbra', 'barca', 'barcelona', 'barclay', 'barclays', 'bardem', 'barely', 'baretta', 'bargain', 'bargains', 'barged', 'baring', 'barings', 'bark', 'barker', 'barking', 'barkley', 'barley', 'barlow', 'barn', 'barnard', 'barnes', 'barnet', 'barnett', 'barney', 'barnsley', 'baroness', 'baros', 'barosso', 'barr', 'barrage', 'barras', 'barratie', 'barred', 'barrel', 'barrels', 'barrick', 'barrier', 'barriers', 'barring', 'barrioneuvo', 'barrionuevo', 'barroso', 'barrow', 'barry', 'barrymore', 'bars', 'barstow', 'bartering', 'bartlett', 'bartoli', 'barton', 'barwick', 'bas', 'base', 'baseball', 'based', 'basel', 'baseline', 'basement', 'bases', 'bash', 'bashing', 'basic', 'basically', 'basics', 'basildon', 'basingstoke', 'basis', 'basketball', 'baskin', 'basking', 'basque', 'basquiat', 'basra', 'bass', 'bassist', 'bastille', 'bat', 'batch', 'batches', 'bateman', 'bates', 'bath', 'bathroom', 'batie', 'batistuta', 'batman', 'baton', 'batter', 'battered', 'batteries', 'battering', 'battery', 'battle', 'battled', 'battlefield', 'battlefronts', 'battleground', 'battlegrounds', 'battles', 'battleship', 'battlestar', 'battling', 'bautista', 'baweja', 'baxter', 'bay', 'bayer', 'bayern', 'baying', 'bays', 'baywatch', 'bb', 'bba', 'bbb', 'bbc', 'bbc1', 'bbc2', 'bcc', 'bdo', 'beach', 'beaches', 'beachgoer', 'beacon', 'beaded', 'beads', 'beagles', 'beam', 'beamed', 'bean', 'bear', 'beard', 'bearded', 'beardsley', 'bearing', 'bears', 'beast', 'beastie', 'beat', 'beatable', 'beaten', 'beating', 'beatings', 'beatle', 'beatles', 'beats', 'beattie', 'beaudoin', 'beaufort', 'beaumont', 'beautiful', 'beautifully', 'beauty', 'beauvillain', 'beauvillian', 'bebo', 'bechtler', 'beck', 'beckett', 'beckham', 'beckhams', 'beckinsale', 'beckon', 'beckons', 'bed', 'bedding', 'bedell', 'bedford', 'bedfordshire', 'bedingfield', 'bedroom', 'beds', 'bedside', 'bedsits', 'bee', 'beef', 'beefing', 'beeks', 'beenie', 'beer', 'beers', 'bees', 'beetle', 'began', 'begg', 'beggared', 'begging', 'begin', 'beginning', 'beginnings', 'begins', 'begun', 'beh', 'behalf', 'behave', 'behaved', 'behaving', 'behaviour', 'behemoth', 'beige', 'beijing', 'beijingers', 'beileve', 'beings', 'beirut', 'beith', 'bejewelled', 'bekele', 'belafonte', 'belarus', 'beleaguered', 'belfast', 'belgian', 'belgians', 'belgium', 'belgrade', 'belgrave', 'belief', 'beliefs', 'believe', 'believed', 'believer', 'believes', 'believing', 'belinda', 'belisha', 'bell', 'bellamy', 'belle', 'bellicose', 'bellion', 'bells', 'belmar', 'belmarsh', 'beloned', 'belong', 'belonged', 'belonging', 'belongings', 'belongs', 'belt', 'bemand', 'bemoaning', 'ben', 'bench', 'benches', 'benchmark', 'benchmarking', 'benchmarks', 'benckiser', 'bend', 'bending', 'benefactors', 'beneficial', 'beneficiaries', 'benefit', 'benefited', 'benefiting', 'benefits', 'benesova', 'benign', 'bening', 'benita', 'benitez', 'benjamin', 'benmosche', 'benn', 'bennallack', 'bennett', 'bennington', 'benny', 'bent', 'benz', 'berated', 'berbatov', 'berdych', 'bereft', 'beresford', 'bergamasco', 'berger', 'bergerac', 'bergh', 'bergkamp', 'bergman', 'berhane', 'berhanu', 'beringer', 'berkeley', 'berkovic', 'berlin', 'berlinale', 'berlusconi', 'bernabeu', 'bernal', 'bernard', 'bernardo', 'bernath', 'bernd', 'bernie', 'berry', 'bershawn', 'berson', 'bert', 'berta', 'berth', 'berthinussen', 'berti', 'bertie', 'bertolucci', 'beset', 'bespoke', 'best', 'bestow', 'bests', 'bestseller', 'bestsellers', 'bestselling', 'bet', 'beta', 'betamax', 'beth', 'bethan', 'bethnal', 'betray', 'betrayal', 'betrayed', 'betraying', 'bets', 'betsen', 'better', 'bettered', 'betting', 'betts', 'bevan', 'beverly', 'bewildered', 'bewildering', 'bewilderment', 'beynon', 'beyonce', 'bez', 'bhanu', 'bharti', 'bhi', 'bhp', 'bi', 'biarritz', 'bias', 'biased', 'bible', 'biblical', 'bibliographies', 'bicester', 'bickering', 'bicycles', 'bid', 'bidder', 'bidders', 'bidding', 'bide', 'bids', 'bifa', 'big', 'bigger', 'biggest', 'bigley', 'bigoted', 'bigotry', 'bigots', 'bike', 'bilateral', 'bilingual', 'biljon', 'billboard', 'billed', 'billing', 'billingsgate', 'billion', 'billionaire', 'billions', 'billiton', 'bills', 'billy', 'bin', 'binding', 'binge', 'bingham', 'bingo', 'binned', 'binoche', 'bins', 'bio', 'biocidal', 'biogen', 'biographer', 'biography', 'biological', 'biology', 'biopic', 'biotech', 'birch', 'birchfield', 'bird', 'birkenhead', 'birkett', 'birmingham', 'birth', 'birthday', 'birthdays', 'birthistle', 'biscan', 'biscuit', 'bisected', 'bishop', 'bishops', 'bisnis', 'bissell', 'bisset', 'bit', 'bite', 'biting', 'bits', 'bitter', 'bittersweet', 'bittorrent', 'biz', 'bizarre', 'bizet', 'bjorgo', 'bjorkman', 'bjorn', 'black', 'blackadder', 'blackberries', 'blackberry', 'blackburn', 'blackground', 'blacklists', 'blackmail', 'blackmailed', 'blackman', 'blackpool', 'blacks', 'blade', 'blair', 'blairite', 'blake', 'blame', 'blamed', 'blames', 'blaming', 'blanchard', 'blanche', 'blanchett', 'bland', 'blank', 'blass', 'blast', 'blasted', 'blasters', 'blasting', 'blasts', 'blatant', 'blaze', 'blazed', 'blazin', 'blazing', 'blb', 'bleak', 'bleakest', 'bleakly', 'blears', 'bled', 'bleep', 'bleeps', 'blemish', 'blend', 'blending', 'bless', 'blessed', 'blessing', 'blethyn', 'bleus', 'blew', 'blewitt', 'blige', 'blight', 'blighted', 'blighting', 'blind', 'blindingly', 'blinkx', 'blinx', 'blip', 'blistering', 'blisters', 'blitz', 'blizzard', 'bloc', 'block', 'blockbuster', 'blockbusters', 'blocked', 'blocking', 'blocks', 'blog', 'blogged', 'blogger', 'bloggers', 'blogging', 'bloglines', 'blogosphere', 'blogs', 'blogsphere', 'bloke', 'blom', 'blomefontein', 'blood', 'bloodline', 'bloody', 'bloom', 'bloomberg', 'blooming', 'bloomingdale', 'bloopers', 'blossoming', 'blow', 'blowing', 'blown', 'blows', 'blu', 'blue', 'bluegrass', 'bluephone', 'blueprint', 'blueprints', 'blues', 'bluetooth', 'bluewater', 'blume', 'blunkett', 'blunt', 'bluntly', 'blur', 'blurred', 'blurs', 'blushed', 'blushes', 'blushing', 'blustery', 'blythe', 'bmg', 'bmo', 'bmr', 'bmw', 'bn', 'bnp', 'bo', 'board', 'boarding', 'boardroom', 'boardrooms', 'boards', 'boast', 'boasted', 'boasts', 'boat', 'boateng', 'boats', 'bob', 'bobby', 'bobs', 'boca', 'bod', 'bode', 'bodes', 'bodied', 'bodies', 'bodinat', 'bodleian', 'body', 'bodyguard', 'boe', 'boeing', 'boerse', 'bogart', 'bogdanov', 'bogdanovic', 'bogus', 'boi', 'boil', 'boiled', 'boiler', 'boils', 'boix', 'boks', 'bold', 'bolder', 'bollan', 'bollywood', 'bolster', 'bolted', 'bolton', 'bolts', 'bomb', 'bombard', 'bombarded', 'bombardier', 'bombastic', 'bombay', 'bombers', 'bombing', 'bombings', 'bombs', 'bona', 'bonar', 'bond', 'bonderman', 'bondi', 'bonds', 'bondy', 'bone', 'bones', 'bonham', 'bonhams', 'bonn', 'bonnaire', 'bonnie', 'bonny', 'bono', 'bonus', 'bonuses', 'boo', 'boogeyman', 'book', 'booked', 'booker', 'bookies', 'booking', 'bookings', 'bookmaker', 'bookmakers', 'books', 'booksellers', 'bookshelves', 'boom', 'boomed', 'booming', 'booms', 'boost', 'boosted', 'boosting', 'boosts', 'boot', 'booted', 'booth', 'bootle', 'boots', 'booz', 'booze', 'boramae', 'border', 'borders', 'bordesley', 'bore', 'bored', 'boring', 'boris', 'born', 'borne', 'boro', 'borough', 'boroughs', 'borrell', 'borrow', 'borrowed', 'borrowers', 'borrowing', 'bortey', 'borthwick', 'bortolami', 'borussia', 'bosch', 'boscholt', 'boss', 'bosses', 'bossy', 'boston', 'bosworth', 'bot', 'botch', 'botha', 'bother', 'bothered', 'bots', 'botswana', 'bottle', 'bottled', 'bottlenecks', 'bottles', 'bouba', 'boudewijn', 'bought', 'boukar', 'boulevard', 'boulton', 'bounce', 'bounced', 'bouncers', 'bouncing', 'bound', 'boundaries', 'boundary', 'bounded', 'bounty', 'bouquets', 'bourgoin', 'bourn', 'bourne', 'bournemouth', 'bourse', 'bout', 'bovina', 'bow', 'bowden', 'bowe', 'bowie', 'bowl', 'bowles', 'bowman', 'bows', 'box', 'boxer', 'boxes', 'boxing', 'boy', 'boyd', 'boyfriend', 'boyfriends', 'boyko', 'boyle', 'boynton', 'boys', 'boyzone', 'bozzi', 'bp', 'bpd', 'bpi', 'brace', 'braced', 'bracelet', 'bracing', 'bracket', 'brackets', 'bracknell', 'brad', 'bradford', 'bradshaw', 'brady', 'braff', 'brag', 'bragging', 'braille', 'brain', 'brainchild', 'brains', 'brainwave', 'brainwaves', 'brake', 'brakes', 'braking', 'bramham', 'branch', 'branches', 'brand', 'branded', 'branding', 'brando', 'brands', 'brandy', 'brankin', 'brannen', 'branson', 'brass', 'bratman', 'brave', 'braved', 'bravely', 'bravery', 'brawl', 'brawn', 'brazenly', 'brazil', 'brazilian', 'brazilians', 'brc', 'breach', 'breached', 'breaches', 'breaching', 'bread', 'breadline', 'breadth', 'break', 'breakdown', 'breakers', 'breakfast', 'breaking', 'breaks', 'breakthrough', 'breast', 'breath', 'breathalysed', 'breathed', 'breathtaking', 'brebner', 'breed', 'breeding', 'breezes', 'bremner', 'brenda', 'brendan', 'brennan', 'brent', 'brentford', 'brett', 'breville', 'brewer', 'breweries', 'brewers', 'brewery', 'brewing', 'breyer', 'brian', 'bribery', 'brick', 'bricks', 'bride', 'bridge', 'bridgepoint', 'bridges', 'bridget', 'brie', 'brief', 'briefcase', 'briefed', 'briefers', 'briefing', 'briefings', 'briefly', 'brien', 'brigade', 'bright', 'brightcove', 'brighten', 'brighter', 'brightest', 'brightly', 'brightmail', 'brighton', 'brigitte', 'brilliance', 'brilliant', 'brilliantly', 'brimming', 'brindley', 'bring', 'bringing', 'brings', 'brink', 'brinkman', 'brisbane', 'bristol', 'brit', 'britain', 'britains', 'britannia', 'british', 'britney', 'briton', 'britons', 'britpop', 'brits', 'britten', 'britz', 'brive', 'brixton', 'broad', 'broadband', 'broadcast', 'broadcaster', 'broadcasters', 'broadcasting', 'broadcasts', 'broaden', 'broadened', 'broader', 'broadly', 'broadreach', 'broadsheet', 'broadside', 'broadus', 'broadway', 'broccoli', 'brody', 'broes', 'brokaw', 'broke', 'broken', 'broker', 'brokerage', 'brokerages', 'brokered', 'brokers', 'broking', 'brolin', 'brom', 'bromesberrow', 'bromsgrove', 'bromwich', 'bronchitis', 'bronze', 'bronzes', 'brooker', 'brooks', 'brookstein', 'broom', 'bros', 'brosnan', 'brothels', 'brother', 'brotherhood', 'brothers', 'brought', 'brown', 'browne', 'brownie', 'brownite', 'brownlees', 'browse', 'browsed', 'browser', 'browsers', 'browses', 'browsing', 'bruce', 'bruer', 'bruins', 'bruised', 'bruising', 'brunei', 'bruni', 'brunini', 'bruno', 'brunswick', 'brusca', 'brush', 'brushed', 'brussels', 'brutal', 'brutally', 'brute', 'bryan', 'bryce', 'bryn', 'bryson', 'bsa', 'bse', 'bskyb', 'bsl', 'bst', 'bt', 'bubble', 'bubbles', 'bubbling', 'buccaneer', 'buccaneers', 'bucharest', 'buck', 'bucket', 'buckfield', 'bucking', 'buckingham', 'buckinghamshire', 'buckland', 'buckling', 'bucks', 'bud', 'budapest', 'budd', 'buddhist', 'buddy', 'budge', 'budget', 'budgetary', 'budgeted', 'budgets', 'buds', 'buena', 'buenos', 'buerk', 'buffel', 'buffers', 'buffs', 'bug', 'bugs', 'buick', 'build', 'builder', 'builders', 'building', 'buildings', 'builds', 'buildyourown', 'built', 'buju', 'bulb', 'bulbs', 'bulgaria', 'bulgarian', 'bulging', 'bulk', 'bulky', 'bull', 'bullet', 'bulletin', 'bulletins', 'bullets', 'bullfrog', 'bullish', 'bulloch', 'bullock', 'bulls', 'bully', 'bullying', 'bump', 'bumper', 'bumps', 'bunch', 'bundesbank', 'bundle', 'bundled', 'bundling', 'bungalow', 'bunnymen', 'bunuel', 'buoy', 'buoyant', 'buoyed', 'buoying', 'burberry', 'burden', 'burdens', 'burdensome', 'bureau', 'bureaucracy', 'bureaucratic', 'bureaucratism', 'bureaucrats', 'burgeoning', 'burger', 'burgess', 'burglar', 'burglary', 'buried', 'buries', 'burke', 'burma', 'burn', 'burner', 'burning', 'burnley', 'burnout', 'burns', 'burrell', 'burrow', 'bursary', 'burst', 'bursting', 'bursts', 'burt', 'bury', 'burying', 'bus', 'buscemi', 'bush', 'bushtucker', 'busier', 'busiest', 'business', 'businesses', 'businessman', 'businessmen', 'bussell', 'bust', 'busted', 'busting', 'busy', 'butcher', 'bute', 'butler', 'butlers', 'butragueno', 'buts', 'butt', 'butterflies', 'butters', 'butting', 'button', 'buttons', 'buxton', 'buy', 'buyback', 'buybacks', 'buyer', 'buyers', 'buying', 'buyout', 'buys', 'buzz', 'buzzing', 'buzzwords', 'bwv', 'bye', 'byline', 'byodkm', 'bypass', 'bypassed', 'bypassing', 'byrne', 'byron', 'bysshe', 'c180', 'c4', 'ca', 'caan', 'caballeros', 'cabin', 'cabinet', 'cabinets', 'cabir', 'cable', 'cables', 'caborn', 'cache', 'cachet', 'cactus', 'cadbury', 'cadena', 'cadillac', 'cadle', 'cadmium', 'caf', 'cafe', 'cafes', 'cafod', 'cafu', 'cagigal', 'cahill', 'caillet', 'caire', 'cairn', 'cairo', 'cake', 'calculate', 'calculated', 'calculations', 'calculator', 'calculators', 'calcutta', 'calder', 'caldwell', 'calendar', 'calf', 'calibre', 'calico', 'california', 'callaghan', 'called', 'calleri', 'callers', 'calling', 'callow', 'calls', 'calm', 'calmer', 'calming', 'calorie', 'calum', 'calvin', 'calvisano', 'camara', 'camaraderie', 'camberley', 'cambiemos', 'cambodia', 'cambridge', 'cambridgeshire', 'camcorder', 'camcorders', 'camden', 'came', 'camels', 'cameo', 'camera', 'cameras', 'cameron', 'cameroon', 'cameroonians', 'camilla', 'camille', 'camp', 'campaign', 'campaigned', 'campaigner', 'campaigners', 'campaigning', 'campaigns', 'campbell', 'camped', 'campell', 'camper', 'camps', 'canada', 'canadian', 'canal', 'canale', 'canaries', 'canary', 'canas', 'canberra', 'cancel', 'cancellation', 'cancellations', 'cancelled', 'cancelling', 'cancels', 'cancer', 'candela', 'candid', 'candidate', 'candidates', 'candillon', 'cannabidiol', 'cannabis', 'canned', 'cannes', 'cannibalism', 'cannibals', 'cannisters', 'cannon', 'canny', 'canopy', 'cans', 'cantalupo', 'cantata', 'canterbury', 'cantona', 'cantonese', 'canvass', 'canvassers', 'canvassing', 'canyon', 'cao', 'cap', 'capabilities', 'capability', 'capable', 'capacities', 'capacity', 'cape', 'capella', 'capellas', 'capgemini', 'capital', 'capitalisation', 'capitalise', 'capitalised', 'capitol', 'capitulate', 'capitulation', 'capleton', 'capped', 'capra', 'capriati', 'caprice', 'caps', 'capt', 'captain', 'captaincy', 'captained', 'captaining', 'captains', 'caption', 'captioning', 'captivated', 'captivity', 'capture', 'captured', 'captures', 'capturing', 'car', 'cara', 'caramel', 'carat', 'caravaggio', 'caravan', 'carbon', 'carbonated', 'card', 'carded', 'carderplanet', 'cardiff', 'cards', 'cardwell', 'care', 'cared', 'career', 'careers', 'careful', 'carefully', 'careless', 'carer', 'carers', 'caretaker', 'carey', 'carib', 'caribbean', 'caribs', 'caricatures', 'caring', 'carl', 'carla', 'carling', 'carlish', 'carlisle', 'carlo', 'carlos', 'carlsberg', 'carlsen', 'carly', 'carmaker', 'carmakers', 'carmaking', 'carmen', 'carnival', 'carol', 'carolina', 'caroline', 'carousing', 'carpet', 'carpets', 'carr', 'carragher', 'carrey', 'carried', 'carrier', 'carriers', 'carries', 'carroll', 'carrow', 'carry', 'carrying', 'cars', 'carsley', 'carson', 'carsoni', 'carsten', 'carswell', 'carta', 'cartagena', 'carte', 'cartel', 'carter', 'carthy', 'cartilage', 'cartoon', 'cartoons', 'cartridge', 'cartridges', 'carvalho', 'carve', 'carved', 'carving', 'carwyn', 'cas', 'casablanca', 'casalme', 'case', 'cases', 'casey', 'cash', 'cashed', 'casino', 'casinos', 'casio', 'caspian', 'cassette', 'cast', 'castaldo', 'casting', 'castle', 'castor', 'castro', 'castrogiovanni', 'casts', 'casual', 'casualties', 'casualty', 'cat', 'catalan', 'catalina', 'catalogue', 'catalogues', 'cataloguing', 'catalyst', 'catastrophe', 'catch', 'catches', 'catching', 'catchy', 'cate', 'categories', 'categorisation', 'categorise', 'category', 'cates', 'catherine', 'catholic', 'catholics', 'cathy', 'cats', 'catsuit', 'cattle', 'cattrall', 'catweazle', 'caudwell', 'caught', 'cauldron', 'cause', 'caused', 'causes', 'causeway', 'causing', 'caustic', 'caution', 'cautioned', 'cautions', 'cautious', 'cautiously', 'cavalcade', 'cavalier', 'cavanagh', 'cave', 'cazalets', 'cb', 'cbbc', 'cbi', 'cbo', 'cbs', 'ccf', 'cctv', 'cd', 'cdp', 'cds', 'cea', 'cease', 'ceased', 'ceasefire', 'cech', 'cecil', 'cedric', 'cegetel', 'ceiling', 'celebrate', 'celebrated', 'celebrates', 'celebrating', 'celebration', 'celebrations', 'celebrities', 'celebrity', 'celeron', 'celestine', 'celine', 'cell', 'cellery', 'cellnet', 'cells', 'celltick', 'celta', 'celtic', 'celts', 'cement', 'cemented', 'cemetery', 'censor', 'censors', 'censorship', 'cent', 'centenary', 'center', 'centimetres', 'centr', 'central', 'centralise', 'centrally', 'centre', 'centred', 'centrepiece', 'centres', 'centring', 'cents', 'centuries', 'century', 'ceo', 'ceplak', 'cept', 'ceremonies', 'ceremony', 'ceri', 'certain', 'certainly', 'certainty', 'certificate', 'certificates', 'certified', 'certify', 'ces', 'cesar', 'cesars', 'cesc', 'cessna', 'cfa', 'cfca', 'cfx', 'cg', 'cga', 'cgi', 'chabal', 'chain', 'chained', 'chains', 'chainsaw', 'chair', 'chaired', 'chairing', 'chairman', 'chairmanship', 'chairmen', 'chairs', 'chairwoman', 'chaiyasoot', 'chakrabarti', 'chalfont', 'chalk', 'challenge', 'challenged', 'challenger', 'challengers', 'challenges', 'challenging', 'chamber', 'chambers', 'chambre', 'champagne', 'champion', 'championing', 'champions', 'championship', 'championships', 'chan', 'chance', 'chancellor', 'chancellors', 'chances', 'chandler', 'chandon', 'chang', 'change', 'changeable', 'changed', 'changeover', 'changer', 'changes', 'changi', 'changing', 'chango', 'channel', 'channelled', 'channels', 'chanting', 'chants', 'chaos', 'chaotic', 'chap', 'chapel', 'chaplin', 'chapter', 'chapters', 'character', 'characterised', 'characterises', 'characteristic', 'characteristically', 'characteristics', 'characterized', 'characters', 'charade', 'charbonnier', 'charcote', 'charge', 'charged', 'charges', 'charging', 'charing', 'charisma', 'charismatic', 'charities', 'charity', 'charlatans', 'charleroi', 'charles', 'charlie', 'charlize', 'charlotte', 'charlton', 'charly', 'charm', 'charming', 'charms', 'chart', 'charted', 'charter', 'chartered', 'charting', 'charts', 'charvis', 'chase', 'chased', 'chases', 'chasing', 'chassis', 'chat', 'chatham', 'chatted', 'chatter', 'chavez', 'cheadle', 'cheap', 'cheapened', 'cheaper', 'cheapest', 'cheaply', 'cheating', 'cheats', 'check', 'checked', 'checking', 'checkpoints', 'checks', 'cheeky', 'cheer', 'cheerful', 'cheering', 'cheerleader', 'cheers', 'cheese', 'cheeses', 'cheetham', 'chef', 'chela', 'chelsea', 'chelsom', 'chemical', 'chemicals', 'chemistry', 'chen', 'cheney', 'chennai', 'chepkemei', 'cheque', 'cherie', 'cherish', 'cherkasky', 'cherkasova', 'chernin', 'cheshire', 'chest', 'chester', 'cheung', 'chevrolet', 'chevrontexaco', 'chi', 'chic', 'chicago', 'chicken', 'chicoine', 'chidambaram', 'chides', 'chief', 'chiefly', 'chiefs', 'chieko', 'chiffon', 'chiffre', 'chihwaseon', 'child', 'childcare', 'childe', 'childhood', 'childhoods', 'childishness', 'childlike', 'children', 'childrens', 'childs', 'chile', 'chilean', 'chill', 'chilly', 'chin', 'china', 'chinese', 'chino', 'chip', 'chipped', 'chipping', 'chips', 'chirac', 'chiropractor', 'chit', 'chittabrata', 'chivas', 'choice', 'choices', 'choir', 'choking', 'cholesterol', 'chomsky', 'chong', 'chongqing', 'chook', 'choose', 'chooses', 'choosing', 'chop', 'chopin', 'chopped', 'chore', 'choreographed', 'choreographer', 'choreographers', 'choreography', 'choristes', 'chorlton', 'chorton', 'chorus', 'chose', 'chosen', 'chris', 'chrissie', 'christ', 'christchurch', 'christian', 'christianity', 'christians', 'christie', 'christina', 'christine', 'christmas', 'christmases', 'christophe', 'christopher', 'christos', 'chromium', 'chronic', 'chronicle', 'chronicles', 'chronology', 'chronometer', 'chrysler', 'chubb', 'chunk', 'church', 'churches', 'churchill', 'churlishly', 'churn', 'churning', 'chuter', 'cia', 'ciara', 'cibc', 'cicero', 'cigala', 'cigarette', 'cigarettes', 'cigars', 'cinema', 'cinemagoers', 'cinemas', 'cinematic', 'cinematographer', 'cinematographically', 'cinematography', 'ciphertrust', 'cips', 'circle', 'circles', 'circling', 'circs', 'circuit', 'circuits', 'circular', 'circulate', 'circulating', 'circulation', 'circumstances', 'circumvent', 'circuses', 'cirkus', 'cis', 'cisco', 'cisse', 'cite', 'cited', 'cites', 'citibank', 'cities', 'citigroup', 'citing', 'citizen', 'citizens', 'citizenship', 'citreon', 'citu', 'city', 'civil', 'civilian', 'civilians', 'civilisation', 'civilised', 'cj', 'ckx', 'claassens', 'claes', 'claim', 'claimed', 'claiming', 'claims', 'claire', 'clam', 'clamour', 'clamp', 'clampdown', 'clampett', 'clamping', 'clamshell', 'clan', 'clancy', 'clandestine', 'clangers', 'clank', 'clans', 'clapping', 'clapton', 'claquin', 'clara', 'clare', 'clarence', 'clarets', 'claridge', 'clarified', 'clarifying', 'clarity', 'clark', 'clarke', 'clarkson', 'clash', 'clashed', 'clashes', 'class', 'classed', 'classes', 'classic', 'classical', 'classics', 'classification', 'classifications', 'classified', 'classifying', 'classroom', 'classy', 'claude', 'claudia', 'claudio', 'clause', 'clauses', 'clawed', 'claws', 'claxton', 'clay', 'clayton', 'clean', 'cleaned', 'cleaner', 'cleaners', 'cleaning', 'clear', 'clearance', 'cleared', 'clearer', 'clearest', 'clearing', 'clearly', 'clearskies', 'clearstream', 'clearswift', 'clearview', 'cleese', 'clem', 'clement', 'clemente', 'clergy', 'clergyman', 'clerical', 'clerk', 'cleveland', 'clever', 'cleverly', 'cliche', 'clichy', 'click', 'clicked', 'clicking', 'clicks', 'client', 'clients', 'cliff', 'cliffhanger', 'clijsters', 'climan', 'climate', 'climax', 'climb', 'climbdown', 'climbed', 'climbing', 'climbs', 'clinch', 'clinched', 'clinches', 'clinching', 'cling', 'clinging', 'clinic', 'clinical', 'clinically', 'clint', 'clinton', 'clipping', 'clips', 'clitheroe', 'clive', 'clock', 'clocked', 'clocking', 'clockwork', 'cloete', 'clog', 'clogged', 'clones', 'cloning', 'clooney', 'close', 'closed', 'closely', 'closer', 'closes', 'closest', 'closet', 'closets', 'closing', 'closure', 'closures', 'clothe', 'clothes', 'clothing', 'cloud', 'clouded', 'clouding', 'clowns', 'club', 'club2school', 'clubbing', 'clubs', 'clues', 'cluley', 'clump', 'clumsily', 'clumsy', 'clung', 'clunkiness', 'clutch', 'clutches', 'clutter', 'clutterbuck', 'clyde', 'cmf', 'cml', 'cnpc', 'coach', 'coached', 'coaches', 'coaching', 'coachmen', 'coagulant', 'coal', 'coalition', 'coarse', 'coast', 'coastal', 'coasted', 'coat', 'coatings', 'coax', 'cobain', 'cobalt', 'cobblestones', 'cobham', 'coby', 'cocaine', 'cochilco', 'cock', 'cockbain', 'cockerell', 'cockerill', 'cocktail', 'coddled', 'code', 'coded', 'codelco', 'codenamed', 'coders', 'codes', 'coe', 'coffee', 'coffers', 'coghlan', 'cogniron', 'cohen', 'coherence', 'coherent', 'cohesion', 'cohorts', 'coin', 'coincide', 'coincidence', 'coincidentally', 'coinciding', 'coined', 'coins', 'coking', 'col', 'cola', 'cold', 'coldplay', 'cole', 'coleman', 'colen', 'coleraine', 'colgan', 'colin', 'collaborated', 'collaboration', 'collaborations', 'collaborative', 'collaborators', 'collapse', 'collapsed', 'collapses', 'collar', 'collateral', 'collating', 'colleague', 'colleagues', 'collect', 'collected', 'collecting', 'collection', 'collections', 'collective', 'collectively', 'collector', 'collectors', 'college', 'colleges', 'collide', 'colliding', 'collier', 'collingwood', 'collins', 'collision', 'collison', 'colloquial', 'colluded', 'colombia', 'colombian', 'colon', 'colonel', 'colonisation', 'colony', 'colorado', 'colorectal', 'colosseum', 'colour', 'coloured', 'colourful', 'colours', 'coltrane', 'columbia', 'column', 'columnist', 'columns', 'com', 'coma', 'comb', 'combat', 'combatant', 'combatants', 'combating', 'combats', 'combination', 'combine', 'combined', 'combines', 'combining', 'come', 'comeback', 'comedian', 'comedians', 'comedic', 'comedies', 'comedy', 'comers', 'comes', 'comfort', 'comfortable', 'comfortably', 'comic', 'comics', 'coming', 'command', 'commanded', 'commandeered', 'commander', 'commanders', 'commanding', 'commands', 'commemoration', 'commences', 'commencing', 'commendable', 'comment', 'commentary', 'commentate', 'commentator', 'commentators', 'commented', 'commenting', 'comments', 'commerce', 'commercial', 'commercialised', 'commercially', 'commercials', 'commerzbank', 'commission', 'commissioned', 'commissioner', 'commissions', 'commit', 'commitment', 'commitments', 'committed', 'committee', 'committees', 'committing', 'commodities', 'commoditising', 'commodity', 'commodore', 'common', 'commonly', 'commonplace', 'commons', 'commonwealth', 'communicate', 'communicated', 'communicateresearch', 'communication', 'communications', 'communicator', 'communiqu', 'communism', 'communist', 'communists', 'communities', 'community', 'commuters', 'compact', 'companies', 'companion', 'companions', 'company', 'comparable', 'comparatively', 'compare', 'compared', 'compares', 'comparing', 'comparison', 'comparisons', 'compass', 'compatibility', 'compatible', 'compatriot', 'compatriots', 'compelled', 'compelling', 'compensate', 'compensated', 'compensation', 'compete', 'competed', 'competences', 'competency', 'competent', 'competes', 'competing', 'competition', 'competitions', 'competitive', 'competitiveness', 'competitor', 'competitors', 'competitve', 'compile', 'compiled', 'compiles', 'compiling', 'complacency', 'complacent', 'complain', 'complained', 'complaining', 'complains', 'complaint', 'complaints', 'complete', 'completed', 'completely', 'completes', 'completing', 'completion', 'completions', 'complex', 'complexes', 'complexity', 'compliance', 'complicated', 'complied', 'comply', 'complying', 'component', 'components', 'composed', 'composer', 'composers', 'composite', 'composition', 'compositions', 'compostable', 'composure', 'compounded', 'comprehensive', 'comprehensively', 'compress', 'compressed', 'compressing', 'compression', 'comprise', 'comprised', 'comprises', 'comprising', 'compromise', 'compromised', 'compromises', 'compromising', 'comptroller', 'compulsion', 'compulsive', 'compulsory', 'computational', 'computer', 'computeractive', 'computerandvideogames', 'computerised', 'computers', 'computing', 'conceal', 'concealed', 'concealing', 'concede', 'conceded', 'concedes', 'conceding', 'conceivable', 'conceived', 'concentrate', 'concentrated', 'concentrates', 'concentrating', 'concentration', 'concept', 'concepts', 'conceptually', 'concern', 'concerned', 'concerning', 'concerns', 'concert', 'concerted', 'concerts', 'concession', 'concessions', 'conchita', 'conciliation', 'conciliatory', 'concise', 'conclude', 'concluded', 'concludes', 'concluding', 'conclusion', 'conclusions', 'conclusively', 'concrete', 'concurrently', 'condemned', 'condemns', 'condition', 'conditions', 'condoleezza', 'condom', 'conducive', 'conduct', 'conducted', 'conducting', 'conductive', 'conductor', 'conducts', 'confectionery', 'confederation', 'confer', 'conference', 'conferences', 'conferencing', 'conferring', 'confess', 'confessed', 'confesses', 'confession', 'confessions', 'confided', 'confidence', 'confident', 'confidential', 'confidentiality', 'confidently', 'confifi', 'confined', 'confines', 'confirm', 'confirmation', 'confirmed', 'confirming', 'confirms', 'confiscatory', 'conflict', 'conflicting', 'conflicts', 'conform', 'conformity', 'confound', 'confounded', 'confront', 'confrontation', 'confrontational', 'confronted', 'confuse', 'confused', 'confusing', 'confusingly', 'confusion', 'congenial', 'congested', 'conglomerate', 'congratulate', 'congratulated', 'congratulates', 'congratulations', 'congress', 'congressional', 'congressmen', 'conjoined', 'conjuction', 'conjunction', 'conjured', 'conleth', 'conlon', 'conmen', 'connaught', 'connect', 'connected', 'connectedness', 'connecting', 'connection', 'connections', 'connectivity', 'connectotel', 'connell']\n"
     ]
    }
   ],
   "source": [
    "feature_names = vectorizer.get_feature_names()\n",
    "\n",
    "print(len(feature_names))\n",
    "print(feature_names[:5000])"
   ]
  },
  {
   "cell_type": "markdown",
   "metadata": {},
   "source": [
    "Para ver que términos se han extraido de cada artículo, utilizamos la función write_terms para poder mostrar el texto de un artículo y su versión vectorizada. Realizamos esto con el ejemplo de la práctica anterior."
   ]
  },
  {
   "cell_type": "code",
   "execution_count": 10,
   "metadata": {},
   "outputs": [],
   "source": [
    "import numpy as np\n",
    "import numpy.ma as ma\n",
    "\n",
    "def write_terms (feature_names, data, vector_data, index):\n",
    "    '''\n",
    "    Escribe los términos presentes en un mensaje representado como bolsa de palabras.\n",
    "    \n",
    "    - feature_names: terminos usados para vectorizar\n",
    "    - data: lista de mensajes original (si data==None no se muestra el mensaje original)\n",
    "    - vector_data: matriz (dispersa) de mensaje vectorizados\n",
    "    - index: posición del mensaje a mostrar\n",
    "    '''\n",
    "    # máscara para seleccionar sólo el mensaje en posición index\n",
    "    mask=vector_data[index,:]>0\n",
    "    \n",
    "    # términos que aparecen en ese mensaje vectorizado\n",
    "    terminos = ma.array(feature_names, mask = ~(mask[0].toarray()))\n",
    "    \n",
    "    # mostrar mensaje original\n",
    "    if data is not None:\n",
    "        print('Mensaje', index, ':', data[index], '\\n')\n",
    "    \n",
    "    # mostrar términos que aparecen en el mensaje vectorizado\n",
    "    print('Mensaje', index, 'vectorizado:', terminos.compressed(),'\\n')"
   ]
  },
  {
   "cell_type": "code",
   "execution_count": 11,
   "metadata": {},
   "outputs": [
    {
     "name": "stdout",
     "output_type": "stream",
     "text": [
      "Mensaje 250 : blair to face trust issue head on tony blair says he will be facing the issue of trust and his own integrity head on during the election campaign.  during a question and answer session with first-time voters on five news  mr blair said he had no option but to  confront it  by talking to people. he also dismissed claims government plans to get 50% of young people into university would devalue degrees. he was not  forcing  anyone to go to university  but places should be there for those who wanted them  he said. in answer to a question from 22-year-old liverpool student david dunne about concerns over the prime minister s personal integrity  mr blair said talking was the only answer.  you ve just got to confront it and say to people let s have a discussion on the things that worry you  the things that make you say  i can t trust you  or  i am against you on this.   the  worst thing in politics  was that the electorate only got  little snatches of policy  from things like prime minister s questions and the news headlines. this was why he wanted to  get out of the 30 seconds on the news   he added.  by talking through policies at least people understood the reason for them  even if they did not agree with them  he said. mr blair also faced questions about british policy on iran and its alleged nuclear weapons programme. he insisted there was no plan for an invasion of the country saying:  sometimes people say because of what has happened in iraq this is the next place.  instead there was a real chance of a  peaceful resolution  to the problem  he said. \n",
      "\n",
      "Mensaje 250 vectorizado: ['22' '30' '50' 'added' 'agree' 'alleged' 'answer' 'blair' 'british'\n",
      " 'campaign' 'chance' 'claims' 'concerns' 'confront' 'country' 'david'\n",
      " 'degrees' 'devalue' 'did' 'discussion' 'dismissed' 'dunne' 'election'\n",
      " 'electorate' 'face' 'faced' 'facing' 'forcing' 'got' 'government'\n",
      " 'happened' 'head' 'headlines' 'insisted' 'instead' 'integrity' 'invasion'\n",
      " 'iran' 'iraq' 'issue' 'just' 'let' 'like' 'little' 'liverpool' 'make'\n",
      " 'minister' 'mr' 'news' 'nuclear' 'old' 'option' 'peaceful' 'people'\n",
      " 'personal' 'place' 'places' 'plan' 'plans' 'policies' 'policy' 'politics'\n",
      " 'prime' 'problem' 'programme' 'question' 'questions' 'real' 'reason'\n",
      " 'resolution' 'said' 'say' 'saying' 'says' 'seconds' 'session' 'snatches'\n",
      " 'student' 'talking' 'thing' 'things' 'time' 'tony' 'trust' 'understood'\n",
      " 'university' 've' 'voters' 'wanted' 'weapons' 'worry' 'worst' 'year'\n",
      " 'young'] \n",
      "\n"
     ]
    }
   ],
   "source": [
    "write_terms(feature_names, train_n, train_vector_data, 250)"
   ]
  },
  {
   "cell_type": "markdown",
   "metadata": {},
   "source": [
    "Por último, como esta vez vamos a utilizar el valor tf-idf de cada palabra, lo calculamos utilizando TfdifTransformer()."
   ]
  },
  {
   "cell_type": "code",
   "execution_count": 12,
   "metadata": {
    "scrolled": true
   },
   "outputs": [
    {
     "name": "stdout",
     "output_type": "stream",
     "text": [
      "  (0, 22183)\t0.020234499185730802\n",
      "  (0, 22033)\t0.03463777083085549\n",
      "  (0, 22019)\t0.06684308646693721\n",
      "  (0, 21939)\t0.0836935429400038\n",
      "  (0, 21927)\t0.06604066597856119\n",
      "  (0, 21910)\t0.06866152516722668\n",
      "  (0, 21695)\t0.030321839152201078\n",
      "  (0, 21390)\t0.04513102143597722\n",
      "  (0, 21389)\t0.04683261933904329\n",
      "  (0, 21299)\t0.1255403144100057\n",
      "  (0, 21188)\t0.03581035458620795\n",
      "  (0, 21187)\t0.03457575971835179\n",
      "  (0, 21150)\t0.06862228820284935\n",
      "  (0, 20755)\t0.04068196089544869\n",
      "  (0, 20691)\t0.044704698449306426\n",
      "  (0, 20690)\t0.13762724143996624\n",
      "  (0, 20610)\t0.18147566446530558\n",
      "  (0, 20354)\t0.07498022221884384\n",
      "  (0, 20326)\t0.029269332705014084\n",
      "  (0, 20260)\t0.08685355359483111\n",
      "  (0, 20177)\t0.04173625338867663\n",
      "  (0, 20153)\t0.07029063789267673\n",
      "  (0, 19965)\t0.0836935429400038\n",
      "  (0, 19547)\t0.04151812143786396\n",
      "  (0, 19244)\t0.06326627706683152\n",
      "  :\t:\n",
      "  (1191, 2557)\t0.05873467216143185\n",
      "  (1191, 2551)\t0.053376311366978235\n",
      "  (1191, 2371)\t0.05873467216143185\n",
      "  (1191, 2368)\t0.05873467216143185\n",
      "  (1191, 2328)\t0.04419298707634725\n",
      "  (1191, 2304)\t0.04419298707634725\n",
      "  (1191, 2257)\t0.05103562287903161\n",
      "  (1191, 2223)\t0.10675262273395647\n",
      "  (1191, 2219)\t0.10782871588542502\n",
      "  (1191, 2217)\t0.1506849950680837\n",
      "  (1191, 2189)\t0.041340508868626884\n",
      "  (1191, 2185)\t0.07327635724651645\n",
      "  (1191, 2161)\t0.06600551470397414\n",
      "  (1191, 2089)\t0.052864521647204496\n",
      "  (1191, 2003)\t0.05873467216143185\n",
      "  (1191, 1955)\t0.05639398367348522\n",
      "  (1191, 1939)\t0.04441382909598511\n",
      "  (1191, 1932)\t0.04335337041123597\n",
      "  (1191, 1851)\t0.03530516425561291\n",
      "  (1191, 1691)\t0.07025868494000945\n",
      "  (1191, 1621)\t0.10382052662233775\n",
      "  (1191, 417)\t0.04355705852929266\n",
      "  (1191, 383)\t0.051910263311168874\n",
      "  (1191, 369)\t0.040852532118170116\n",
      "  (1191, 49)\t0.04984684934069751\n"
     ]
    }
   ],
   "source": [
    "from sklearn.feature_extraction.text import TfidfTransformer\n",
    " # Calculamos el valor TF-IDF en el conjunto de entrenamiento\n",
    "tfidfer = TfidfTransformer()\n",
    "train_preprocessed = tfidfer.fit_transform(train_vector_data)\n",
    "print(train_preprocessed)"
   ]
  },
  {
   "cell_type": "code",
   "execution_count": 13,
   "metadata": {
    "scrolled": true
   },
   "outputs": [
    {
     "name": "stdout",
     "output_type": "stream",
     "text": [
      "  (0, 22183)\t0.013923545654492922\n",
      "  (0, 22031)\t0.04162502658074168\n",
      "  (0, 22029)\t0.08706821839712486\n",
      "  (0, 21912)\t0.05137334407131053\n",
      "  (0, 21738)\t0.030203556785801743\n",
      "  (0, 21661)\t0.050365662940838864\n",
      "  (0, 21639)\t0.03782056094970861\n",
      "  (0, 21609)\t0.02396387305177028\n",
      "  (0, 21568)\t0.6323364858116519\n",
      "  (0, 20365)\t0.05730349632623786\n",
      "  (0, 20326)\t0.020140497990787695\n",
      "  (0, 19719)\t0.0632336485811652\n",
      "  (0, 19718)\t0.05730349632623786\n",
      "  (0, 19579)\t0.05730349632623786\n",
      "  (0, 19515)\t0.05251575871467127\n",
      "  (0, 19490)\t0.04658560645974393\n",
      "  (0, 19257)\t0.04599534476079027\n",
      "  (0, 19229)\t0.055394413708417106\n",
      "  (0, 19060)\t0.03924977567443679\n",
      "  (0, 18911)\t0.02641064470311453\n",
      "  (0, 18211)\t0.047219629897335455\n",
      "  (0, 18160)\t0.05383457963353836\n",
      "  (0, 18030)\t0.04443551068591152\n",
      "  (0, 17893)\t0.09317121291948786\n",
      "  (0, 17511)\t0.029266208181492816\n",
      "  :\t:\n",
      "  (297, 3444)\t0.12383978874398599\n",
      "  (297, 3183)\t0.05729092468785055\n",
      "  (297, 3067)\t0.06193963375556162\n",
      "  (297, 3020)\t0.12166218250784613\n",
      "  (297, 2931)\t0.0326229309783998\n",
      "  (297, 2878)\t0.20019902724169986\n",
      "  (297, 2860)\t0.1555293350847345\n",
      "  (297, 2682)\t0.027704883178449033\n",
      "  (297, 2459)\t0.11782561824258779\n",
      "  (297, 2445)\t0.06812398560570343\n",
      "  (297, 2384)\t0.03935454972770057\n",
      "  (297, 2381)\t0.16203495354239159\n",
      "  (297, 2365)\t0.09925763946745081\n",
      "  (297, 2257)\t0.05119040931725925\n",
      "  (297, 1661)\t0.04678498097280213\n",
      "  (297, 1287)\t0.04500605746711744\n",
      "  (297, 1266)\t0.13572751163596966\n",
      "  (297, 1265)\t0.0520677024548909\n",
      "  (297, 1264)\t0.12018285210066158\n",
      "  (297, 1140)\t0.048593090135245806\n",
      "  (297, 1106)\t0.06620570347307425\n",
      "  (297, 384)\t0.05982829258221727\n",
      "  (297, 376)\t0.030837603685228903\n",
      "  (297, 134)\t0.03935454972770057\n",
      "  (297, 68)\t0.03639626880500754\n"
     ]
    }
   ],
   "source": [
    "test_n = test.loc[:,'Text'].to_numpy()\n",
    "test_vector_data=vectorizer.transform(test_n)\n",
    "# Calculamos el valor TF-IDF en el conjunto de test\n",
    "# Al usar \"transform\" toma como IDF el del conjunto de entrenamiento \n",
    "test_preprocessed=tfidfer.transform(test_vector_data)\n",
    "print(test_preprocessed)"
   ]
  },
  {
   "cell_type": "markdown",
   "metadata": {},
   "source": [
    "Una vez terminada la vectorización con TF-IDF, pasamos a calcular la precisión@5 de cada una de las clases usando como consultas los documentos de la partición de test y la similitud del coseno, considerando que un documento recuperado es relevante cuando pertenezca a la misma clase que la consulta.\n",
    "\n",
    "Para ello, introducimos las funciones necesarias a continuación y usamos mean_precisions_per_class con argumento de valor 5 (porque estamos interesados en la precisión@5). Para realizar el analisis final, dibujamos también un diagrama de barra para visualizar los resultados."
   ]
  },
  {
   "cell_type": "code",
   "execution_count": 14,
   "metadata": {},
   "outputs": [],
   "source": [
    "from sklearn.metrics.pairwise import cosine_similarity\n",
    "\n",
    "def knn(query, X_train, k):\n",
    "    '''Devuelve los índices de los k documentos de entrenamiento más similares a la consulta usando \n",
    "    la similitud del coseno.\n",
    "    \n",
    "    Parámetros:\n",
    "    - query: documento consulta vectorizado\n",
    "    - X_train: documentos de entrenamiento vectorizados\n",
    "    - k: número de documentos a recuperar\n",
    "    \n",
    "    Devuelve:\n",
    "    - índices de los k documentos más similares a la consulta.\n",
    "    '''\n",
    "    \n",
    "    # Necesitamos un vector de dimensión (1, X). Si se pasa un vector de dimensión X, transformarlo\n",
    "    if len(query.shape) == 1:\n",
    "        query = query.reshape(1, -1)\n",
    "\n",
    "    simil = cosine_similarity(query, X_train)\n",
    "    simil_idx = np.argsort(simil.flatten())\n",
    "    simil_idx = simil_idx[::-1]\n",
    "    return simil_idx[:k]\n",
    "\n",
    "def precision_at_k(y_selected, y_real, k):\n",
    "    '''Devuelve la precisión @k de los documentos seleccionados.\n",
    "    \n",
    "    Parametros:\n",
    "    - y_selected: etiquetas de los documentos seleccionados (se usan los k primeros)\n",
    "    - y_real: etiqueta de la categoría correcta\n",
    "    - k: número de documentos que se tienen en cuenta\n",
    "    \n",
    "    Devuelve:\n",
    "    - Precisión@k\n",
    "    '''\n",
    "    \n",
    "    return np.sum(y_selected[:k] == y_real) / k * 100\n",
    "\n",
    "def mean_precisions_per_class(X_train, y_train, X_test, y_test, k):\n",
    "    '''Devuelve las precision@k media para cada una de las classes.\n",
    "    \n",
    "    Parámetros:\n",
    "    - X_train: documentos de entrenamiento vectorizados.\n",
    "    - y_train: etiquetas de los documentos de entrenamiento.\n",
    "    - X_test: documentos vectorizados que se usan como consultas\n",
    "    - y_test: etiquetas de los documentos que se usan como consultas\n",
    "    - k: número de documentos considerados a recuperar por la consulta\n",
    "    \n",
    "    Devuelve:\n",
    "    - Diccionario clase -> precisión en tanto por ciento.\n",
    "    '''\n",
    "    \n",
    "    # diccionario categoría -> lista de precisiones\n",
    "    y_precisions = {y: [] for y in np.unique(y_test)}\n",
    "    \n",
    "    # Calcular precision@k para cada consulta\n",
    "    for x_query, y_query in zip(X_test, y_test):\n",
    "        idx = knn(x_query, X_train, k)\n",
    "        y_selected = np.take(y_train, idx)\n",
    "        precision = precision_at_k(y_selected, y_query, k)\n",
    "        y_precisions[y_query].append(precision)\n",
    "        \n",
    "    # Calcular medias\n",
    "    for y in y_precisions:\n",
    "        y_precisions[y] = np.mean(y_precisions[y])\n",
    "    \n",
    "    return y_precisions"
   ]
  },
  {
   "cell_type": "code",
   "execution_count": 15,
   "metadata": {},
   "outputs": [
    {
     "data": {
      "text/plain": [
       "{'business': 86.66666666666667,\n",
       " 'entertainment': 86.95652173913044,\n",
       " 'politics': 90.35714285714286,\n",
       " 'sport': 98.41269841269842,\n",
       " 'tech': 84.13793103448276}"
      ]
     },
     "execution_count": 15,
     "metadata": {},
     "output_type": "execute_result"
    }
   ],
   "source": [
    "train_target = train.loc[:,'Category'].to_numpy()\n",
    "test_target = test.loc[:,'Category'].to_numpy()\n",
    "p5 = mean_precisions_per_class(train_preprocessed, train_target, test_preprocessed, test_target, 5) \n",
    "p5"
   ]
  },
  {
   "cell_type": "code",
   "execution_count": 16,
   "metadata": {},
   "outputs": [
    {
     "data": {
      "text/plain": [
       "<AxesSubplot:xlabel='target'>"
      ]
     },
     "execution_count": 16,
     "metadata": {},
     "output_type": "execute_result"
    },
    {
     "data": {
      "image/png": "[encoded data removed]",
      "text/plain": [
       "<Figure size 432x288 with 1 Axes>"
      ]
     },
     "metadata": {
      "needs_background": "light"
     },
     "output_type": "display_data"
    }
   ],
   "source": [
    "df_p5 = pd.DataFrame.from_dict(p5, orient='index', columns=['precision@5'])\n",
    "df_p5[\"target\"] =  ['business','entertainment','politics','sport','tech']\n",
    "d = df_p5.set_index(\"target\")\n",
    "d.plot.bar()"
   ]
  },
  {
   "cell_type": "markdown",
   "metadata": {},
   "source": [
    "Los resultados que obtenemos de precision@5 para las distintas clases varían en el rango de 84-98, siendo la clase con precision@5 más baja la de tecnología, y con la más alta la de sport, que se acerca a 99. Sabiendo que la precisión@X es la precisión a nivel de exhaustividad X, que nos dice de los X primeros documentos recuperados cuantos son de la clase deseada, la precision@5 media que obtenemos es buena. En el caso de la categoría sport, los resultados de precisión@5 son más altos porque los artículos de esta clase tendrán un vocabulario más específico, que interseca menos con los de otras categorías (esto se acentuará al usar word-embeddings en el siguiente apartado, también para la clase de entretenimiento). Sin embargo, obtenemos una precision@5 más baja para las categorías de tecnología y business, lo cual nos dice que se confunden más con otras categorías, pudiendo ser porque tienen más vocabulario en común."
   ]
  },
  {
   "cell_type": "markdown",
   "metadata": {
    "id": "lH7sldldpzXi"
   },
   "source": [
    "## 3) Representación basada en word-embeddings y tf-idf\n",
    "\n",
    "La segunda vectorización que vamos a usar representará los mensajes usando usando word-embeddings usando como pesos la frecuencia de aparición de cada palabra. Al igual que en el apartado anterior, usaremos monogramas y las _stop words_ que vienen configuradas por defecto para el inglés. Recuerda usar como vocabulario para vectorizar el vocabulario del fichero con las word-embeddings.\n",
    "\n",
    "Aplica la vectorización a los conjuntos de mensajes de entrenamiento y test.\n",
    "\n",
    "Calcula la precisión@5 de cada una de las clases usando como consultas los documentos de la partición de test y la similitud del coseno. Vamos a considerar que un documento recuperado es relevante cuando pertenezca a la misma clase que la consulta.\n",
    "\n",
    "Dibuja los resultados en un diagrama de barras y compara los resultados con los del apartado anterior."
   ]
  },
  {
   "cell_type": "markdown",
   "metadata": {},
   "source": [
    "Procedemos como en la práctica anterior. Ante la ambiguedad del enunciado en cuanto a qué pesos hay que utilizar (si usar tf-idf como aparece en el título o la frecuencia de aparición de cada palabra que se indica en la explicación del apartado) vamos a utilizar la FRECUENCIA DE APARICIÓN DE CADA PALABRA como se nos pide en la explicación. "
   ]
  },
  {
   "cell_type": "code",
   "execution_count": 17,
   "metadata": {},
   "outputs": [],
   "source": [
    "from gensim.scripts.glove2word2vec import glove2word2vec\n",
    "from gensim.models import KeyedVectors"
   ]
  },
  {
   "cell_type": "code",
   "execution_count": 18,
   "metadata": {},
   "outputs": [],
   "source": [
    "glove_file = 'glove.6B.50d.txt'\n",
    "model = KeyedVectors.load_word2vec_format(glove_file, binary=False, no_header=True)"
   ]
  },
  {
   "cell_type": "code",
   "execution_count": 19,
   "metadata": {},
   "outputs": [],
   "source": [
    "we_vocabulary = list(model.key_to_index.keys())\n",
    "vectorizer_we = CountVectorizer(vocabulary = we_vocabulary, stop_words='english',binary = False)\n",
    "X = vectorizer_we.fit_transform(train_n)"
   ]
  },
  {
   "cell_type": "code",
   "execution_count": 20,
   "metadata": {},
   "outputs": [],
   "source": [
    "from scipy.sparse import find\n",
    "\n",
    "\n",
    "def create_doc_embedding (doc_matrix_word_freq, keyedvectors):\n",
    "    \"\"\"\n",
    "    create_doc_embedding creates a doc-embedding matrix where rows are the \n",
    "    documents and columns are the dimensions of the word-embedding. Each row r\n",
    "    summarizes the vectors of the word-embeddings present in document r\n",
    "\n",
    "    :param doc_matrix_word_freq: frequency matrix of the terms in each document\n",
    "            It admits binary values, frequencies or weights.\n",
    "            It admits the output of vectorizer.fit_transform\n",
    "    :param keyedvectors: keyedvectors object from Gensim which has the \n",
    "            word-embedding information\n",
    "    :return: returns the doc-embedding matrix that summarizes the \n",
    "             vector-embeddings of the words present in each document\n",
    "    \"\"\" \n",
    "\n",
    "    \n",
    "    num_docs, num_words= doc_matrix_word_freq.get_shape()\n",
    "\n",
    "    # Creamos la matriz de documentos con tantas columnas como dimensiones tiene el we \n",
    "    doc_embed_matrix = np.zeros([num_docs,keyedvectors.vector_size])\n",
    "\n",
    "\n",
    "    # Obtenemos los documentos\n",
    "    docs, col, val = find(doc_matrix_word_freq)\n",
    "    docs = np.unique(docs)\n",
    "\n",
    "    # Para cada documento (esto se podrá hacer de forma más pythonica)\n",
    "    for doc in docs:\n",
    "      # Obtenemos las palabras presentes en el documento y su frecuencia\n",
    "      row, words, frecs = find(doc_matrix_word_freq[doc,:])\n",
    "\n",
    "      # Calculamos el vector medio para el documento\n",
    "      # Para ello recuperamos los vectores del we presentes en el documento y \n",
    "      # los promediamos teniendo en cuenta su frecuencia\n",
    "      count = 0\n",
    "      for w,f in zip(words,frecs):\n",
    "        doc_embed_matrix[doc,:] = doc_embed_matrix[doc,:] + (keyedvectors[w] * f)\n",
    "        count = count +1\n",
    "      doc_embed_matrix[doc,:] = doc_embed_matrix[doc,:]/count\n",
    "    \n",
    "      \n",
    "    return doc_embed_matrix"
   ]
  },
  {
   "cell_type": "code",
   "execution_count": 21,
   "metadata": {},
   "outputs": [],
   "source": [
    "doc_embed_matrix = create_doc_embedding(X,model)\n",
    "# contiene un vector \"embedding\" para cada documento\n",
    "doc_embed_matrix\n",
    "Y=vectorizer_we.transform(test_n)\n",
    "query_embed= create_doc_embedding(Y,model)"
   ]
  },
  {
   "cell_type": "markdown",
   "metadata": {},
   "source": [
    "Una vez vectorizados aplicada la vectorización a los conjuntos de entrenamiento y test procedemos a calcular la precisión@5 para las distintas categorías. Además mostramos esta información en forma de gráfico de barras para su mejor comprensión."
   ]
  },
  {
   "cell_type": "code",
   "execution_count": 22,
   "metadata": {},
   "outputs": [
    {
     "data": {
      "text/plain": [
       "{'business': 90.93333333333334,\n",
       " 'entertainment': 96.52173913043478,\n",
       " 'politics': 93.21428571428571,\n",
       " 'sport': 99.68253968253968,\n",
       " 'tech': 93.44827586206897}"
      ]
     },
     "execution_count": 22,
     "metadata": {},
     "output_type": "execute_result"
    }
   ],
   "source": [
    "stats = mean_precisions_per_class(doc_embed_matrix, train_target, query_embed, test_target, 5) \n",
    "stats"
   ]
  },
  {
   "cell_type": "code",
   "execution_count": 23,
   "metadata": {},
   "outputs": [
    {
     "data": {
      "text/plain": [
       "<AxesSubplot:xlabel='target'>"
      ]
     },
     "execution_count": 23,
     "metadata": {},
     "output_type": "execute_result"
    },
    {
     "data": {
      "image/png": "[encoded data removed]",
      "text/plain": [
       "<Figure size 432x288 with 1 Axes>"
      ]
     },
     "metadata": {
      "needs_background": "light"
     },
     "output_type": "display_data"
    }
   ],
   "source": [
    "df_we = pd.DataFrame.from_dict(stats, orient='index', columns=['precision@5'])\n",
    "df_we[\"target\"] =  ['business','entertainment','politics','sport','tech']\n",
    "d_we = df_we.set_index(\"target\")\n",
    "d_we.plot.bar()"
   ]
  },
  {
   "cell_type": "markdown",
   "metadata": {},
   "source": [
    "Como vemos, la precision@5 media es superior al 90% en todas las clases . Cabe destacar que, comparado con el apartado anterior, donde la representación estaba basada en bolsas de palabras y tf-idf, en este caso los resultados son uniformemente mejores. Es decir, en todas las categorías la precision@5 aumenta respecto a la obtenida en el apartado anterior. Además, en el apartado anterior las precisiones@5 medias rondaban el 90% y ahora lo superan con holgura y se acercan más, por lo general, al 95%."
   ]
  },
  {
   "cell_type": "markdown",
   "metadata": {
    "id": "d-J6GYut4DGu"
   },
   "source": [
    "## 4) Análisis de errores\n",
    "\n",
    "Vamos a investigar los resultados para entender mejor dónde están fallando los procesos de recuperación. Sigue los siguientes pasos.\n",
    "\n",
    "\n",
    "1. Identifica la categoría de noticias donde la precisión media haya mejorado más al incorporar word-embeddings\n",
    "2. Para dicha categoría, identifica la consulta donde la precisión haya mejorado más al usar word-embeddings\n",
    "3. Muestra el texto original de la consulta y los términos que aparecen en las dos vectorizaciones tf-idf que usamos (recuerda que usamos diccionarios distintos para las vectorizaciones bolsa de palabras y word-embeddings).\n",
    "4. Identifica las noticias recuperadas para dicha consulta para las dos aproximaciones y sus categorías (TF-IDF puro y con word-embeddings)\n",
    "5. Muestra la intersección de términos entre la consulta y la primera noticia mal recuperada usando TF-IDF puro.\n",
    "6. Muestra la intersección de términos entre la consulta y la última noticia bien recuperada usando word-embeddings.\n",
    "7. A la luz de todo lo anterior, razona sobre por qué crees que el TF-IDF no fue capaz de clasificar bien la noticia y el word-embedding sí.\n",
    "\n",
    "\n",
    "Puedes usar el código que calcula la intersección de términos que ponemos a continuación"
   ]
  },
  {
   "cell_type": "code",
   "execution_count": 24,
   "metadata": {
    "id": "RUat8DCRLYs1"
   },
   "outputs": [],
   "source": [
    "def terms_in_message(feature_names,vector_data,index):\n",
    "    '''\n",
    "    Devuelve un conjunto los términos presentes en un mensaje representado como bolsa de palabras.\n",
    "    \n",
    "    - feature_names: terminos usados para vectorizar\n",
    "    - vector_data: matriz (dispersa) de mensaje vectorizados\n",
    "    - index: posición del mensaje a mostrar\n",
    "    '''\n",
    "    mensaje=vector_data[index,:]>0\n",
    "    terminos_presentes = ma.array(feature_names, mask = ~(mensaje[0].toarray()))\n",
    "\n",
    "    return set(terminos_presentes.compressed())"
   ]
  },
  {
   "cell_type": "markdown",
   "metadata": {},
   "source": [
    "#### 1. Categoría de noticias donde la precisión media ha mejorado más al incorporar word-embeddings\n",
    "\n",
    "Para este apartado, calculamos la media de mejora ha habido en cada categoría."
   ]
  },
  {
   "cell_type": "code",
   "execution_count": 25,
   "metadata": {},
   "outputs": [
    {
     "name": "stdout",
     "output_type": "stream",
     "text": [
      "La mejora media de cada categoría es:\n",
      "                precision@5\n",
      "target                    \n",
      "business          4.266667\n",
      "entertainment     9.565217\n",
      "politics          2.857143\n",
      "sport             1.269841\n",
      "tech              9.310345\n"
     ]
    }
   ],
   "source": [
    "print('La mejora media de cada categoría es:\\n', d_we - d)"
   ]
  },
  {
   "cell_type": "markdown",
   "metadata": {},
   "source": [
    "Puesto que hay dos categorías con prácticamente la misma mejora, vamos a ver si en alguna de ellas hay algún artículo con una mayor mejora. Para ello, definimos una función que nos devuelve la precisión por clase y consulta."
   ]
  },
  {
   "cell_type": "code",
   "execution_count": 26,
   "metadata": {},
   "outputs": [],
   "source": [
    "def precisions_per_class(X_train, y_train, X_test, y_test, k):\n",
    "    '''Devuelve las precision@k para cada una de las clases.\n",
    "    \n",
    "    Parámetros:\n",
    "    - X_train: documentos de entrenamiento vectorizados.\n",
    "    - y_train: etiquetas de los documentos de entrenamiento.\n",
    "    - X_test: documentos vectorizados que se usan como consultas\n",
    "    - y_test: etiquetas de los documentos que se usan como consultas\n",
    "    - k: número de documentos considerados a recuperar por la consulta\n",
    "    \n",
    "    Devuelve:\n",
    "    - Diccionario clase -> precisión de cada artículo de la clase.\n",
    "    '''\n",
    "    \n",
    "    # diccionario categoría -> lista de precisiones\n",
    "    y_precisions = {y: [] for y in np.unique(y_test)}\n",
    "    \n",
    "    # Calcular precision@k para cada consulta\n",
    "    for i in range(0, len(y_test)):\n",
    "        x_query = X_test[i]\n",
    "        y_query = y_test[i]\n",
    "        idx = knn(x_query, X_train, k)\n",
    "        y_selected = np.take(y_train, idx)\n",
    "        precision = precision_at_k(y_selected, y_query, k)\n",
    "        y_precisions[y_query].append((i, precision))\n",
    "        \n",
    "    return y_precisions"
   ]
  },
  {
   "cell_type": "code",
   "execution_count": 27,
   "metadata": {},
   "outputs": [],
   "source": [
    "info_tf_idf = precisions_per_class(train_preprocessed, train_target, test_preprocessed, test_target, 5)\n",
    "info_we = precisions_per_class(doc_embed_matrix, train_target, query_embed, test_target, 5)\n",
    "mejora_tech = []\n",
    "for i in range(0, len(info_we['tech'])):\n",
    "    pre = info_tf_idf['tech'][i]\n",
    "    post = info_we['tech'][i]\n",
    "    mejora_tech.append([pre[0], post[1] - pre[1]])\n",
    "\n",
    "mejora_entertainment = []\n",
    "for i in range(0, len(info_we['entertainment'])):\n",
    "    pre = info_tf_idf['entertainment'][i]\n",
    "    post = info_we['entertainment'][i]\n",
    "    mejora_entertainment.append([pre[0], post[1] - pre[1]])"
   ]
  },
  {
   "cell_type": "code",
   "execution_count": 28,
   "metadata": {},
   "outputs": [
    {
     "name": "stdout",
     "output_type": "stream",
     "text": [
      "La consulta que más ha mejorado de la categoría tech: [35, 80.0] \n",
      "\n",
      "La consulta que más ha mejorado de la categoría entertainment: [62, 60.0]\n"
     ]
    }
   ],
   "source": [
    "from operator import itemgetter\n",
    "\n",
    "# No es muy eficiente ordenar para obtener el máximo, pero habiendo pocos elementos no hay diferencia\n",
    "print('La consulta que más ha mejorado de la categoría tech:',\n",
    "      sorted(mejora_tech, key = itemgetter(1), reverse = True)[0], '\\n')\n",
    "print('La consulta que más ha mejorado de la categoría entertainment:',\n",
    "      sorted(mejora_entertainment, key = itemgetter(1), reverse = True)[0])"
   ]
  },
  {
   "cell_type": "markdown",
   "metadata": {},
   "source": [
    "Por tanto, vamos a elegir la categoría 'tech', donde la noticia 35 ha mejorado su precisión un 80% (lo que significa que o bien ha pasado de 0 recuperaciones correctas a 4, o bien ha pasado de 1 recuperación correcta a 5)."
   ]
  },
  {
   "cell_type": "markdown",
   "metadata": {},
   "source": [
    "#### 2 y 3. Consulta donde la precisión ha mejorado más al usar word-embeddings\n",
    "\n",
    "Ya tenemos la consulta, es la número 35. La mostramos. Para ello necesitaremos la función que hemos creado para los vectores realizados con word-embeddings."
   ]
  },
  {
   "cell_type": "code",
   "execution_count": 29,
   "metadata": {},
   "outputs": [],
   "source": [
    "CONSULTA = 35"
   ]
  },
  {
   "cell_type": "code",
   "execution_count": 30,
   "metadata": {},
   "outputs": [],
   "source": [
    "import numpy.ma as ma\n",
    "\n",
    "def write_terms_we (feature_names, data, vector_data, index):\n",
    "    '''\n",
    "    Escribe los términos presentes en un mensaje representado como word-embeddings.\n",
    "    \n",
    "    - feature_names: terminos usados para vectorizar\n",
    "    - data: lista de mensajes original (si data==None no se muestra el mensaje original)\n",
    "    - vector_data: matriz (dispersa) de mensaje vectorizados\n",
    "    - index: posición del mensaje a mostrar\n",
    "    '''\n",
    "    terminos = []\n",
    "    msg = vector_data[index]\n",
    "    for i in range(0,len(feature_names)):\n",
    "        if msg[i] > 0:\n",
    "            terminos.append(feature_names[i])\n",
    "            \n",
    "    terminos = sorted(terminos)\n",
    "    \n",
    "    # mostrar mensaje original\n",
    "    if data is not None:\n",
    "        print('Mensaje', index, ':', data[index])\n",
    "    \n",
    "    # mostrar términos que aparecen en el mensaje vectorizado\n",
    "    print('\\n','Mensaje', index, 'vectorizado por word-embeddings:', terminos,'\\n')"
   ]
  },
  {
   "cell_type": "code",
   "execution_count": 31,
   "metadata": {},
   "outputs": [
    {
     "name": "stdout",
     "output_type": "stream",
     "text": [
      "Mensaje 35 : seamen sail into biometric future the luxury cruise liner crystal harmony  currently in the gulf of mexico  is the unlikely setting for tests of biometric technology.  as holidaymakers enjoy balmy breezes  their ship s crew is testing prototype versions of the world s first internationally issued biometric id cards  the seafarer s equivalent of a passport. along with the owner s picture  name and personal details  the new seafarers  identity document incorporates a barcode representing unique features of its holder s fingerprints. the cards are due to be issued in february next year  in line with the revised un convention on seafarers  identity documents of june 2003. tests currently under way in the caribbean are designed to ensure that new cards and their machine readers  produced by different companies in different countries  are working to interoperable standards. results of the current tests  which involve seafarers from a wide range of occupations and nationalities  will be published by the international labour organisation (ilo) by the end of november. crystal cruises  which operates the crystal harmony  is exploring the use of biometrics but has not yet committed to the technology.  authenti-corp  the us technology consultancy  has been working with the ilo on its technical specifications for the cards.   if you re issued a seafarer s id in your country  you want to be sure that when the ship lands in a port in  say  my country you can validate yourself using whatever equipment we have installed   authenti-corp s ceo  cynthia musselman  told the bbc s go digital programme. she said french  jordanian and nigerian nationals would be the first seafarers to get the new id cards since their countries have already ratified the convention. it aims to combat international terrorism whilst guaranteeing the welfare the one million seafarers estimated to be at sea. the convention highlights the importance of access to shore facilities and shore leave as vital elements to a sailor s wellbeing and  therefore  it says  to safer shipping and cleaner oceans.  by increasing security on the seas as well as border control and protection  the cards will hopefully reduce the number of piracy problems around the world   said ms musselman.  it should be a safer environment for seafarers to work in  and will allow people protecting their borders to have confidence that the people getting off the ship are  in fact  seafarers. \n",
      "\n",
      "Mensaje 35 vectorizado: ['2003' 'access' 'aims' 'allow' 'bbc' 'border' 'borders' 'breezes' 'cards'\n",
      " 'caribbean' 'ceo' 'cleaner' 'combat' 'committed' 'companies' 'confidence'\n",
      " 'consultancy' 'control' 'convention' 'corp' 'countries' 'country' 'crew'\n",
      " 'cruise' 'crystal' 'current' 'currently' 'cynthia' 'designed' 'details'\n",
      " 'different' 'digital' 'document' 'documents' 'elements' 'end' 'enjoy'\n",
      " 'ensure' 'environment' 'equipment' 'equivalent' 'estimated' 'exploring'\n",
      " 'facilities' 'fact' 'features' 'february' 'fingerprints' 'french'\n",
      " 'future' 'getting' 'guaranteeing' 'gulf' 'harmony' 'highlights' 'holder'\n",
      " 'hopefully' 'id' 'identity' 'ilo' 'importance' 'incorporates'\n",
      " 'increasing' 'installed' 'international' 'internationally'\n",
      " 'interoperable' 'involve' 'issued' 'june' 'labour' 'lands' 'leave' 'line'\n",
      " 'liner' 'luxury' 'machine' 'mexico' 'million' 'ms' 'nationalities'\n",
      " 'nationals' 'new' 'nigerian' 'november' 'number' 'operates'\n",
      " 'organisation' 'owner' 'passport' 'people' 'personal' 'picture' 'piracy'\n",
      " 'port' 'problems' 'produced' 'programme' 'protecting' 'protection'\n",
      " 'prototype' 'published' 'range' 'ratified' 'readers' 'reduce'\n",
      " 'representing' 'results' 'revised' 'safer' 'said' 'sail' 'sailor' 'say'\n",
      " 'says' 'sea' 'seas' 'security' 'setting' 'ship' 'shipping' 'shore'\n",
      " 'specifications' 'standards' 'sure' 'technical' 'technology' 'terrorism'\n",
      " 'testing' 'tests' 'told' 'unique' 'unlikely' 'use' 'using' 'versions'\n",
      " 'vital' 'want' 'way' 'welfare' 'whilst' 'wide' 'work' 'working' 'world'\n",
      " 'year'] \n",
      "\n",
      "None\n",
      "\n",
      " Mensaje 35 vectorizado por word-embeddings: ['2003', 'access', 'aims', 'allow', 'balmy', 'barcode', 'bbc', 'biometric', 'biometrics', 'border', 'borders', 'breezes', 'cards', 'caribbean', 'ceo', 'cleaner', 'combat', 'committed', 'companies', 'confidence', 'consultancy', 'control', 'convention', 'corp', 'countries', 'country', 'crew', 'cruise', 'cruises', 'crystal', 'current', 'currently', 'cynthia', 'designed', 'details', 'different', 'digital', 'document', 'documents', 'elements', 'end', 'enjoy', 'ensure', 'environment', 'equipment', 'equivalent', 'estimated', 'exploring', 'facilities', 'fact', 'features', 'february', 'fingerprints', 'french', 'future', 'getting', 'guaranteeing', 'gulf', 'harmony', 'highlights', 'holder', 'holidaymakers', 'hopefully', 'id', 'identity', 'ilo', 'importance', 'incorporates', 'increasing', 'installed', 'international', 'internationally', 'interoperable', 'involve', 'issued', 'jordanian', 'june', 'labour', 'lands', 'leave', 'line', 'liner', 'luxury', 'machine', 'mexico', 'million', 'ms', 'musselman', 'nationalities', 'nationals', 'new', 'nigerian', 'november', 'number', 'occupations', 'oceans', 'operates', 'organisation', 'owner', 'passport', 'people', 'personal', 'picture', 'piracy', 'port', 'problems', 'produced', 'programme', 'protecting', 'protection', 'prototype', 'published', 'range', 'ratified', 'readers', 'reduce', 'representing', 'results', 'revised', 'safer', 'said', 'sail', 'sailor', 'say', 'says', 'sea', 'seafarer', 'seafarers', 'seamen', 'seas', 'security', 'setting', 'ship', 'shipping', 'shore', 'specifications', 'standards', 'sure', 'technical', 'technology', 'terrorism', 'testing', 'tests', 'told', 'unique', 'unlikely', 'use', 'using', 'validate', 'versions', 'vital', 'want', 'way', 'welfare', 'wellbeing', 'whilst', 'wide', 'work', 'working', 'world', 'year'] \n",
      "\n",
      "None\n"
     ]
    }
   ],
   "source": [
    "print(write_terms(feature_names, test_n, test_vector_data, CONSULTA))\n",
    "print(write_terms_we(we_vocabulary, None, Y.toarray(), CONSULTA))"
   ]
  },
  {
   "cell_type": "markdown",
   "metadata": {},
   "source": [
    "#### 4. Noticias recuperadas para la consulta para las dos aproximaciones y sus categorías\n",
    "\n",
    "Calculamos las noticias recuperadas por ambas aproximaciones."
   ]
  },
  {
   "cell_type": "code",
   "execution_count": 32,
   "metadata": {},
   "outputs": [
    {
     "name": "stdout",
     "output_type": "stream",
     "text": [
      "Las noticias recuperadas por la bolsa de palabras son: [  63 1003  474 1164  492]\n",
      "Y sus categorías son: ['politics' 'politics' 'politics' 'entertainment' 'tech'] \n",
      "\n",
      "Las noticias recuperadas por el word-embeddings son:   [ 398  840  934  604 1096]\n",
      "Y sus categorías son: ['tech' 'tech' 'tech' 'tech' 'tech']\n"
     ]
    }
   ],
   "source": [
    "x_query_tf = test_preprocessed[CONSULTA]\n",
    "y_query_tf = test_target[CONSULTA]\n",
    "idx_tf = knn(x_query_tf, train_preprocessed, 5)\n",
    "selected_tf = np.take(train_target, idx_tf)\n",
    "\n",
    "x_query_we = query_embed[CONSULTA]\n",
    "y_query_we = test_target[CONSULTA]\n",
    "idx_we = knn(x_query_we, doc_embed_matrix, 5)\n",
    "selected_we = np.take(train_target, idx_we)\n",
    "\n",
    "print('Las noticias recuperadas por la bolsa de palabras son:', idx_tf)\n",
    "print('Y sus categorías son:', selected_tf, '\\n')\n",
    "print('Las noticias recuperadas por el word-embeddings son:  ', idx_we)\n",
    "print('Y sus categorías son:', selected_we)"
   ]
  },
  {
   "cell_type": "markdown",
   "metadata": {},
   "source": [
    "Podemos observar que la bolsa de palabras ha recuperado antes 3 noticias de política y una de entretenimiento antes que una de tecnología, mientras que el word-embeddings ha recuperado 5 de tecnología."
   ]
  },
  {
   "cell_type": "markdown",
   "metadata": {},
   "source": [
    "#### 5. Intersección de términos entre la consulta y la primera noticia mal recuperada usando TF-IDF puro\n",
    "\n",
    "La primera noticia mal recuperada es la 63."
   ]
  },
  {
   "cell_type": "code",
   "execution_count": 33,
   "metadata": {
    "scrolled": true
   },
   "outputs": [
    {
     "name": "stdout",
     "output_type": "stream",
     "text": [
      "Las palabras en común entre la consulta y la noticia 63 usando TF-IDF puro son:\n"
     ]
    },
    {
     "data": {
      "text/plain": [
       "{'bbc',\n",
       " 'cards',\n",
       " 'details',\n",
       " 'documents',\n",
       " 'id',\n",
       " 'identity',\n",
       " 'issued',\n",
       " 'new',\n",
       " 'passport',\n",
       " 'people',\n",
       " 'programme',\n",
       " 'said',\n",
       " 'say',\n",
       " 'says',\n",
       " 'told'}"
      ]
     },
     "execution_count": 33,
     "metadata": {},
     "output_type": "execute_result"
    }
   ],
   "source": [
    "print('Las palabras en común entre la consulta y la noticia 63 usando TF-IDF puro son:')\n",
    "terms_in_message(feature_names,test_vector_data,CONSULTA) & terms_in_message(feature_names,train_vector_data,63)"
   ]
  },
  {
   "cell_type": "markdown",
   "metadata": {},
   "source": [
    "#### 6. Intersección de términos entre la consulta y la última noticia bien recuperada usando word-embeddings\n",
    "\n",
    "Para esta sección hace falta comparar los términos dentro del diccionario de word-embeddings, así que necesitamos crear otra función."
   ]
  },
  {
   "cell_type": "code",
   "execution_count": 34,
   "metadata": {},
   "outputs": [],
   "source": [
    "def terms_in_message_we(feature_names,vector_data,index):\n",
    "    '''\n",
    "    Devuelve un conjunto los términos presentes en un mensaje representado como word-embeddings.\n",
    "    \n",
    "    - feature_names: terminos usados para vectorizar\n",
    "    - vector_data: matriz (dispersa) de mensaje vectorizados\n",
    "    - index: posición del mensaje a mostrar\n",
    "    '''\n",
    "    terminos = []\n",
    "    msg = vector_data[index,:]>0\n",
    "    for i in range(0,len(feature_names)):\n",
    "        if msg[i] > 0:\n",
    "            terminos.append(feature_names[i])\n",
    "\n",
    "    return set(terminos)"
   ]
  },
  {
   "cell_type": "markdown",
   "metadata": {},
   "source": [
    "La última noticia bien recuperada es la 1096."
   ]
  },
  {
   "cell_type": "code",
   "execution_count": 35,
   "metadata": {},
   "outputs": [
    {
     "name": "stdout",
     "output_type": "stream",
     "text": [
      "Las palabras en común entre la consulta y la noticia 1096 usando word-embeddings son:\n"
     ]
    },
    {
     "data": {
      "text/plain": [
       "{'access',\n",
       " 'companies',\n",
       " 'countries',\n",
       " 'current',\n",
       " 'equivalent',\n",
       " 'future',\n",
       " 'new',\n",
       " 'organisation',\n",
       " 'people',\n",
       " 'problems',\n",
       " 'reduce',\n",
       " 'said',\n",
       " 'says',\n",
       " 'technical',\n",
       " 'technology',\n",
       " 'use',\n",
       " 'using',\n",
       " 'way',\n",
       " 'year'}"
      ]
     },
     "execution_count": 35,
     "metadata": {},
     "output_type": "execute_result"
    }
   ],
   "source": [
    "print('Las palabras en común entre la consulta y la noticia 1096 usando word-embeddings son:')\n",
    "terms_in_message_we(we_vocabulary,Y.toarray(),CONSULTA) & terms_in_message_we(we_vocabulary,X.toarray(),1096)"
   ]
  },
  {
   "cell_type": "markdown",
   "metadata": {},
   "source": [
    "#### 7. Análisis\n",
    "\n",
    "En primer lugar damos una idea general del tema del texto. La noticia trata sobre un nuevo sistema biométrico en pruebas que pretende servir para identificar a los marineros en distintos puertos del mundo. \n",
    "\n",
    "Lo primero que debe llamarnos la atención es la vectorización llevada a cabo. La vectorización con la aproximación tf-idf pura recoge menos palabras que la realizada por word-embeddings. Esto en principio no debería ser ni mejor ni peor. Ya hemos visto a lo largo de ambas prácticas que muchas palabras deben de ser descartadas por su falta de significado, como por ejemplo pronombres o determinantes. Sin embargo, en este caso las palabras que aparecen en la vectorización por word-embeddings y no en la tf-idf pura son 'barcode', 'biometric', 'biometrics', 'holydaymakers' y 'seafarers', entre otras. Si se lee el texto y después se reflexiona sobre cuáles son las dos palabras más importantes del texto quizás las que primero nos vengan a la cabeza son 'biometric'/'biometrics' y 'seafarers'. Que la vectorización tf-idf prescinda de estas palabras antes de empezar es sin duda un gran inconveniente. Si recordamos, la vectorización tf-idf la hicimos con CountVectorizer y el vocabulario que tomaba era el inferido de los propios textos de entrenamiento. Es decir, no existe ningún texto en el conjunto de entrenamiento que contenga 'biometric' o 'biometrics' (añadimos un código en la siguiente celda que lo comprueba, recomendamos no volver a ejecutarlo ya que lleva un rato). Como es lógico, esto nos dificulta encontrar textos que traten el mismo tema. Por otro lado, la vectorización de las word-embeddings se hace con las palabras que existen en las word-embeddings y tenemos la suerte de que los ejemplos citados sí están recogidos en ese vocabulario, ya que aunque no vayamos a recuperar textos del mismo tema (pues no existen), que el word-embeddings agrupe por conceptos nos permite tener en cuenta al menos la palabra de alguna manera y recuperar textos de temas similares, que serán más propensos a ser de tecnología."
   ]
  },
  {
   "cell_type": "code",
   "execution_count": 42,
   "metadata": {},
   "outputs": [
    {
     "name": "stdout",
     "output_type": "stream",
     "text": [
      "1192 documentos de entrenamiento analizados.\n",
      "No se ha encontrado ningun documento en el conjunto de entrenamiento que contenga biometric o biometrics.\n"
     ]
    }
   ],
   "source": [
    "from IPython.display import clear_output\n",
    "\n",
    "indexes = []\n",
    "for index in range(0, len(list(train_vector_data))):\n",
    "    terminos = []\n",
    "    \n",
    "    # máscara para seleccionar sólo el mensaje en posición index\n",
    "    mask=train_vector_data[index,:]>0\n",
    "    \n",
    "    # términos que aparecen en ese mensaje vectorizado\n",
    "    terminos = ma.array(feature_names, mask = ~(mask[0].toarray()))\n",
    "    for i in range(0, len(terminos)):\n",
    "        if terminos[i] == 'biometric' or terminos[i] == 'biometric':\n",
    "            indexes.append([index, terminos[i]])\n",
    "    clear_output(wait=False)\n",
    "    print(index + 1, \"documentos de entrenamiento analizados.\")\n",
    "if len(indexes) == 0:\n",
    "    print(\"No se ha encontrado ningun documento en el conjunto de entrenamiento que contenga biometric o biometrics.\")\n",
    "else:\n",
    "    for i in range(0, len(indexes)):\n",
    "        print(\"El mensaje\", indexes[i][0], \"contiene la palabra\", indexes[i][1], \".\")"
   ]
  },
  {
   "cell_type": "markdown",
   "metadata": {},
   "source": [
    "A continuación atendemos a las palabras comunes en los textos. En primer lugar, el primer texto mal recuperado por tfidf es el 63 cuyas palabras comunes con la consulta están relacionadas con papeles, identificaciones y pasaportes. Es lógico que al contener este vocabulario el texto recuperdo pueda ser de política. En cambio, las palabras comunes de la consulta con el último documento bien recuperado con word-embeddigs tienen relación con tecnología, nuevo o futuro y también es normal que, con este vocabulario, el texto recuperado sea de tecnología. Queremos destacar que la palabra 'new' aparece en los tres documentos: la consulta y los dos documentos recuperados. Esta palabra nos va a servir para ejemplificar la diferencia entre word-embeddings y tf-idf. Mientras que en tf-idf es muy relevante que las palabras que aparezcan en los documentos sean exactamente las mismas, esto no sucede en con word-embeddings. Para que quede más claro, no es relevante que una palabra aparezca literalmente en el documento recuperado con word-embeddings y en la consulta. Es suficiente con que aparezca un sinónimo o una palabra suficientemente cerca semánticamente hablando. Además, y volviendo al ejemplo de 'new', esta palabra no representa lo mismo vista desde la aproximación word-embeddings que vista desde tf-idf. Mientras que en la primera, estará semánticamente cerca de futuro, tecnología o avance, en tf-idf únicamente importa el número de apariciones relativo y los documentos en los que aparece, que por ser una palabra común serán muchos. Dicho de otra forma, para tf-idf le es indiferente cambiar la palabra 'new' por 'latest' que por 'pepito' en el sentido de que todos los textos que estuvieran cerca de la consulta porque tenían la palabra 'new' en común ahora se habrán alejado en igual medida. Sin embargo, a word-embeddings le dará exactamente igual que 'instancia del concepto' se tome.\n",
    "\n",
    "Esto nos debe hacer reflexionar sobre las limitaciones de la aproximación tf-idf y las demás aproximaciones de bolsa de palabras. Lo que cuenta en estos casos no es el verdadero significado, sino simplemente el número de repeticiones y apariciones de la palabra.\n",
    "\n",
    "Por último queremos compartir un pequeño experimento realizado para reflexionar sobre si le estamos pidiendo demasiado a nuestro recomendador. Con la intención de leer la noticia en un formato de texto más atractivo a la vista que el texto plano, buscamos la noticia de consulta en la página de la BBC y, como los datos con los que trabajábamos son reales y sacados de la BBC, no tardamos mucho en encontrarla. Al finalizar la lectura de la noticia, aparecían otras 5 noticias que se nos recomendaba leer tras haber visto esta (¡Qué casualidad, lo mismo que estamos haciendo nosotros!). Los títulos y temáticas de las noticias, por orden de aparición, eran los siguientes:\n",
    "\n",
    "- Testing the biometric facts (Technology)\n",
    "- Id cards in other contries (Politics)\n",
    "- Id card technology trial launched (Politics)\n",
    "- 'I've got a biometric ID card' (UK)\n",
    "- Facing a biometric future (Technology)\n",
    "\n",
    "Como se puede ver, los documentos recuperados por el propio recomendador de la BBC tratan sobre dos temas fundamentales: id cards y biometric. Si recordamos, nuestra noticia utilizada como consulta trataba principalmente estos dos temas. Sin embargo, de los documentos recuperados por el recomendador de la BBC, dos de ellos (los relacionados con las tarjetas de identificación) están recogidos en el tema de política. El recomendador de la BBC no parece tener como prioridad que los textos recuperados sean todos ellos del mismo tema que la noticia consulta. Como el recomendador de la BBC conoce el tema de cada noticia no le sería difícil recomendar otras 5 noticias del tema de tecnología. Pero recordando lo aprendido sobre recomendadores en el primer cuatrimestre, de un recomendador se espera, a demás de recuperar documentos similares, cierta heterogeneidad.\n",
    "\n",
    "Sin embargo, estamos haciendo una pequeña trampa: no es lo mismo un recomendador que un recuperador de información. Mientras que de un recomendador se espera cierta variedad dentro de un mismo tema común, este no es el caso de los recuperadores de información. Estos pretenden recuperar documentos relevantes a una consulta, ignorando en cierto modo la falta de heterogeneidad.\n",
    "\n",
    "A pesar de esto, recuperadores y recomendadores tienen un objetivo más o menos común y sacando ideas de los segundos para aplicarlas en los primeros, quizás sea muy estricto el criterio de relevancia de un documento. Es decir, que un documento sea relevante únicamente cuando es de la misma categoría que la consulta.\n",
    "\n",
    "A modo de resumen, podemos concluir que para el caso particular de querer recuperadores de información, tanto el tf-idf puro como el word-embeddings son bastante buenos en general. Sin embargo, hemos comprobado que al no ser nuestra base de datos (el conjunto de entrenamiento) demasiado grande, si se nos consulta por un documento que trate un tema nuevo, word-embeddings hace un mucho mejor trabajo que tf-idf puro. Sería interesante realizar el mismo análisis si tuviéramos más documentos entre los que poder elegir para recuperar."
   ]
  },
  {
   "cell_type": "code",
   "execution_count": null,
   "metadata": {},
   "outputs": [],
   "source": []
  }
 ],
 "metadata": {
  "colab": {
   "name": "P2_recuperacion_informacion_2122_enunciado.ipynb",
   "provenance": []
  },
  "kernelspec": {
   "display_name": "Python 3",
   "language": "python",
   "name": "python3"
  },
  "language_info": {
   "codemirror_mode": {
    "name": "ipython",
    "version": 3
   },
   "file_extension": ".py",
   "mimetype": "text/x-python",
   "name": "python",
   "nbconvert_exporter": "python",
   "pygments_lexer": "ipython3",
   "version": "3.8.8"
  }
 },
 "nbformat": 4,
 "nbformat_minor": 1
}
